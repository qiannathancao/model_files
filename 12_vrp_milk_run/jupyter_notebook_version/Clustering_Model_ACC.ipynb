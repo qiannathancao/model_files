{
 "cells": [
  {
   "cell_type": "markdown",
   "metadata": {},
   "source": [
    "### Install wheels for Basemap\n",
    "- install Proj: https://proj.org/install.html#install\n",
    "- go to above link >> find Windows: click OSGeo4W >> download 64bit >> following above link's Window section to isntall PROJ\n",
    "- install basemap wheel and pyproj wheel from link: https://www.lfd.uci.edu/~gohlke/pythonlibs/\n",
    "- find: Basemap: a matplotlib toolkit for plotting 2D data on maps based on GEOS. \n",
    "- find: Pyproj: an interface to the PROJ library for cartographic transformations.\n",
    "- #### Important: pip install numpy --upgrade ###"
   ]
  },
  {
   "cell_type": "markdown",
   "metadata": {},
   "source": [
    "# ML - Unsupervised Modeling"
   ]
  },
  {
   "cell_type": "code",
   "execution_count": 1,
   "metadata": {},
   "outputs": [],
   "source": [
    "import plotly.express as px\n",
    "import plotly.graph_objects as go"
   ]
  },
  {
   "cell_type": "code",
   "execution_count": 2,
   "metadata": {
    "scrolled": true
   },
   "outputs": [
    {
     "data": {
      "text/plain": [
       "'C:\\\\Users\\\\u279014\\\\Documents\\\\H_Drive\\\\7.AA Models\\\\12.Logistic_Optimization\\\\data'"
      ]
     },
     "execution_count": 2,
     "metadata": {},
     "output_type": "execute_result"
    }
   ],
   "source": [
    "# import general packages:\n",
    "from openpyxl import load_workbook\n",
    "import win32com.client\n",
    "import numpy as np\n",
    "import pandas as pd\n",
    "from pandas import Grouper\n",
    "from pandas import Timestamp\n",
    "import os\n",
    "import io\n",
    "import datetime as dt\n",
    "import time \n",
    "import feather\n",
    "import itertools\n",
    "from math import sqrt\n",
    "import csv\n",
    "import dask.dataframe as dd\n",
    "from datetime import datetime\n",
    "import timestring\n",
    "from IPython.core.display import display, HTML\n",
    "\n",
    "# import modeling packages\n",
    "from sklearn.cluster import AffinityPropagation\n",
    "from sklearn.cluster import KMeans\n",
    "from sklearn import preprocessing, datasets\n",
    "from sklearn.metrics import pairwise_distances_argmin\n",
    "from scipy.spatial.distance import cdist,pdist\n",
    "from scipy import stats\n",
    "from scipy.sparse import *\n",
    "from collections import Counter\n",
    "\n",
    "# import visualization packages:\n",
    "from matplotlib import pyplot as plt\n",
    "# from mpl_toolkits.basemap import Basemap\n",
    "import seaborn as sns\n",
    "# import ggplot\n",
    "%matplotlib inline\n",
    "\n",
    "# checking path and dir\n",
    "os.chdir('C:\\\\Users\\\\u279014\\\\Documents\\\\H_Drive\\\\7.AA Models\\\\12.Logistic_Optimization\\\\data')\n",
    "os.getcwd()"
   ]
  },
  {
   "cell_type": "code",
   "execution_count": 3,
   "metadata": {},
   "outputs": [],
   "source": [
    "def riding_distance(riding_distance_matrix, geo):\n",
    "    \"\"\"\n",
    "    Compute a distance matrix of the coordinates using a spherical metric.\n",
    "    :param  \n",
    "        coordinate_df: numpy.ndarray with shape (n,n); riding_distance_matri: dataframe, col & index type: str \n",
    "        geo_zipcode: Data.Series, element type: str\n",
    "    :returns distance_mat: numpy.ndarray with shape (n, n) containing distance in km between coords.\n",
    "    \"\"\"\n",
    "    d_matrix = []\n",
    "    zipcodes = geo['zip_code']\n",
    "    for i in zipcodes:\n",
    "        d_row = []\n",
    "        for j in zipcodes:\n",
    "            d_row.append(riding_distance_matrix.loc[i,j])\n",
    "        d_matrix.append(d_row)\n",
    "    return np.asarray(d_matrix)"
   ]
  },
  {
   "cell_type": "code",
   "execution_count": 4,
   "metadata": {},
   "outputs": [],
   "source": [
    "def load_riding_distance_matrix(path,file):\n",
    "    riding_distance_matrix = pd.read_excel(os.path.join(path,file)).set_index('zipcode')\n",
    "    riding_distance_matrix.columns = riding_distance_matrix.columns.astype('str')\n",
    "    riding_distance_matrix.index = riding_distance_matrix.index.astype('str')\n",
    "    return riding_distance_matrix"
   ]
  },
  {
   "cell_type": "code",
   "execution_count": 5,
   "metadata": {},
   "outputs": [],
   "source": [
    "# def distance_on_sphere_numpy(coordinate_df):\n",
    "#     \"\"\"\n",
    "#     Compute a distance matrix of the coordinates using a spherical metric.\n",
    "#     :param coordinate_array: numpy.ndarray with shape (n,2); latitude is in 1st col, longitude in 2nd.\n",
    "#     :returns distance_mat: numpy.ndarray with shape (n, n) containing distance in km between coords.\n",
    "#     \"\"\"\n",
    "#     # Radius of the earth in km (GRS 80-Ellipsoid)\n",
    "#     EARTH_RADIUS = 6371.007176\n",
    "#     km2mile_ratio = 0.62137\n",
    "\n",
    "#     # Unpacking coordinates\n",
    "#     latitudes = coordinate_df.loc[:,'latitude']\n",
    "#     longitudes = coordinate_df.loc[:,'longitude']\n",
    "\n",
    "#     # Convert latitude and longitude to spherical coordinates in radians.\n",
    "#     degrees_to_radians = np.pi/180.0\n",
    "#     phi_values = (90.0 - latitudes)*degrees_to_radians\n",
    "#     theta_values = longitudes*degrees_to_radians\n",
    "\n",
    "#     # Expand phi_values and theta_values into grids\n",
    "#     theta_1, theta_2 = np.meshgrid(theta_values, theta_values)\n",
    "#     theta_diff_mat = theta_1 - theta_2\n",
    "\n",
    "#     phi_1, phi_2 = np.meshgrid(phi_values, phi_values)\n",
    "\n",
    "#     # Compute spherical distance from spherical coordinates\n",
    "#     angle = (np.sin(phi_1) * np.sin(phi_2) * np.cos(theta_diff_mat) + \n",
    "#            np.cos(phi_1) * np.cos(phi_2))\n",
    "#     arc = np.arccos(angle)\n",
    "\n",
    "#     # Multiply by earth's radius to obtain distance in km\n",
    "#     return np.nan_to_num(arc * EARTH_RADIUS * km2mile_ratio)"
   ]
  },
  {
   "cell_type": "code",
   "execution_count": 6,
   "metadata": {},
   "outputs": [],
   "source": [
    "# standardize dataframe colume names\n",
    "def col_name(df):\n",
    "    \"\"\"\n",
    "    this is to trim the data_frame column names to a unique format:\n",
    "    all case, replace space to underscore, remove parentheses\n",
    "    param df:\n",
    "        raw from share drive for\n",
    "    return:\n",
    "        polished data set with new column names\n",
    "    \"\"\"\n",
    "    df.columns = df.columns.str.strip().str.lower().str.replace('-','').str.replace(' ', '_').str.replace('(', '').\\\n",
    "                    str.replace(')', '').str.replace('\"','')\n",
    "    return df"
   ]
  },
  {
   "cell_type": "code",
   "execution_count": 7,
   "metadata": {},
   "outputs": [],
   "source": [
    "# covert time format from str to timestamp\n",
    "def str2time(x):\n",
    "    \"\"\"\n",
    "    paramter \n",
    "        x: string formated time\n",
    "    return: \n",
    "        timeStamp with mm/dd/yyyy format \n",
    "    \"\"\"\n",
    "    try: \n",
    "        return datetime.strptime(x,'%b %d, %Y')\n",
    "    except:\n",
    "        return '0000-00-00'"
   ]
  },
  {
   "cell_type": "code",
   "execution_count": 8,
   "metadata": {},
   "outputs": [
    {
     "data": {
      "text/plain": [
       "datetime.datetime(2019, 10, 1, 0, 0)"
      ]
     },
     "execution_count": 8,
     "metadata": {},
     "output_type": "execute_result"
    }
   ],
   "source": [
    "datetime.strptime('2019-10-01', '%Y-%m-%d')"
   ]
  },
  {
   "cell_type": "code",
   "execution_count": 9,
   "metadata": {},
   "outputs": [],
   "source": [
    "# numpy not support multiple logic, this conducts 3 logic binary\n",
    "def logic_and_3_condition(x1,x2,x3):\n",
    "    return np.logical_and(np.logical_and(x1,x2),x3)"
   ]
  },
  {
   "cell_type": "code",
   "execution_count": 10,
   "metadata": {},
   "outputs": [],
   "source": [
    "# public source zipcode format standaraization\n",
    "def clean_zip(file_path = None):\n",
    "    \"\"\"\n",
    "    this is to clean the zip file: \n",
    "        - corrdinate format\n",
    "        - save file as feather format\n",
    "    \n",
    "    parameter:\n",
    "        df: original zipcode msater file \n",
    "        file_path: zipcode file directory\n",
    "        \n",
    "    return:\n",
    "        zipcode feather format\n",
    "    \"\"\"\n",
    "    # change zipcodes which contain alphabix letter to 0 (outside of USA)\n",
    "    def to_string(x):\n",
    "        try:\n",
    "            return str(x)\n",
    "        except:\n",
    "            return 0   \n",
    "        \n",
    "    zipcode = pd.read_csv(file_path)\n",
    "    zipcode = col_name(zipcode)\n",
    "    zipcode['zip_code'] = zipcode['zip_code'].apply(lambda x: to_string(x))\n",
    "    # save to feather format so fast processing\n",
    "    zipcode.to_feather('zipcode_feather')\n",
    "    \n",
    "    return feather.read_dataframe ('zipcode_feather')"
   ]
  },
  {
   "cell_type": "code",
   "execution_count": 11,
   "metadata": {},
   "outputs": [],
   "source": [
    "\"\"\" Slice shipper_zipcode_region \"\"\"\n",
    "def clean_cass2(file_path, \n",
    "                source_state=None,\n",
    "                shipper_country=None,\n",
    "                inbound_outbound_indicator='INBOUND',\n",
    "                dest_zip='54942', \n",
    "                shipping_date_start='2018-10-01', \n",
    "                shipping_window=7,\n",
    "                truck_mode='LT'):\n",
    "    \"\"\"\n",
    "    parameter: \n",
    "        df: dataFrame, original dataset downloaded from cass\n",
    "        source_state: str, comma needed, default 'WI' as the largest shipping from\n",
    "        dest_zip: str, default 54942 as greenville\n",
    "        shipping_date_start: str, starting shipping schedule cut-off date\n",
    "        shipping_window: int, days out as shipping period window\n",
    "        truck_mode: str, no comma needed, default LT for less than truck and full truck both inclusive\n",
    "        \n",
    "    return:\n",
    "        df: cleaned dataFrame\n",
    "    \"\"\"\n",
    "    \n",
    "    shipping_date_start = datetime.strptime(shipping_date_start, '%Y-%m-%d')\n",
    "    df = pd.read_csv(file_path, low_memory = False)\n",
    "    df = col_name(df)\n",
    "    df = df[['source_weekend_date','mode','inbound_outbound_indicator', 'shipper_name',\n",
    "       'shipper_address', 'shipper_city', 'shipper_zip', 'shipper_state', 'shipper_country',\n",
    "       'destination_city', 'destination_zip', 'destination_state',\n",
    "       'bill_of_lading_number', 'ship_weight','miles','billed_amount']]\n",
    "    df = df[df.shipper_country == shipper_country]    \n",
    "    df.drop(columns=['shipper_country'], inplace=True) \n",
    "    \n",
    "    df = df[np.logical_and(df.destination_zip == dest_zip, df.inbound_outbound_indicator == inbound_outbound_indicator)]\n",
    "    df = df[df.destination_zip == dest_zip]\n",
    "    df['ship_weight']=df.ship_weight.apply(lambda x: x.replace(',','')).astype('int')\n",
    "    df.drop(columns=['inbound_outbound_indicator'], inplace = True)\n",
    "\n",
    "    if source_state and source_state is not 'all':\n",
    "        states = source_state.split(',')\n",
    "        df = df[np.logical_and(df.destination_zip == dest_zip,df.shipper_state.isin(states))]\n",
    "\n",
    "    df['shipping_date'] = df.source_weekend_date.apply(lambda x: str2time(x))\n",
    "    \n",
    "#     print(df['source_weekend_date'][3027])\n",
    "#     print(df['shipping_date'][3027])\n",
    "#     print(shipping_date_start)\n",
    "#     print(df.shipping_date[3027] - dt.timedelta(shipping_window)) \n",
    "#     print(np.logical_and(df['shipping_date'][3027] >= shipping_date_start),(df['shipping_date'][3027] - dt.timedelta(shipping_window) <= shipping_date_start))\n",
    "#     print(type(df['shipping_date'][3027]))\n",
    "#     print(f'{(df.shipping_date - dt.timedelta(shipping_window))[3027]}')\n",
    "#     print(f'{type((df.shipping_date - dt.timedelta(shipping_window))[3027])}')\n",
    "#     print(type(shipping_date_start))\n",
    "#     print(df['shipping_date'][3027] >= shipping_date_start)\n",
    "    \n",
    "    df = df[logic_and_3_condition((df.shipping_date >= shipping_date_start),\n",
    "                           (df.shipping_date - dt.timedelta(shipping_window) <= shipping_date_start),\n",
    "                           (df['mode'].isin(list(truck_mode))))]  \n",
    "#    print(shipping_date_start)\n",
    "    df['miles'] = df.miles.apply(lambda x: x.replace(',','')).astype('int')\n",
    "    df['billed_amount'] = df.billed_amount.apply(lambda x: x.replace(',','')).astype('float')\n",
    "    \n",
    "    # change zipcodes which contain alphabix letter to 0 (outside of USA)\n",
    "    def to_string(x):\n",
    "        try:\n",
    "            return str(x)\n",
    "        except:\n",
    "            return 0  \n",
    "    df['shipper_zip'] = df['shipper_zip'].apply(lambda x: to_string(x))    \n",
    "    return df.reset_index(drop = True)"
   ]
  },
  {
   "cell_type": "code",
   "execution_count": 12,
   "metadata": {},
   "outputs": [],
   "source": [
    "def cass_merge_zip(df_cass,df_zip):\n",
    "    \"\"\"\n",
    "    parameter:\n",
    "        df1: cleaned cass dataset\n",
    "        df2: original zipcode matrix\n",
    "        \n",
    "    return:\n",
    "        merged dataFrame contains longitude and latitude\n",
    "    \"\"\"\n",
    "\n",
    "    df = pd.merge(df_cass,df_zip[['zip_code','longitude','latitude']],how='left',left_on='shipper_zip', right_on='zip_code')\n",
    "    df = df.groupby(['zip_code','longitude','latitude','cluster','shipper_name','shipper_state'])['ship_weight','miles','billed_amount'].sum()  \n",
    "    df.dropna(inplace = True)\n",
    "    df.reset_index(inplace = True)\n",
    "    df.to_feather('cass_zip')\n",
    "    return feather.read_dataframe('cass_zip')"
   ]
  },
  {
   "cell_type": "code",
   "execution_count": 13,
   "metadata": {},
   "outputs": [],
   "source": [
    "zipcode_path = r'C:\\\\Users\\\\u279014\\\\Documents\\\\H_Drive\\\\7.AA Models\\\\12.Logistic_Optimization\\\\data\\\\zipcode_Lon_Lat.csv'\n",
    "zipcode = clean_zip(zipcode_path)"
   ]
  },
  {
   "cell_type": "markdown",
   "metadata": {},
   "source": [
    "# Modeling Param: by State"
   ]
  },
  {
   "cell_type": "code",
   "execution_count": 144,
   "metadata": {},
   "outputs": [],
   "source": [
    "# cass_path = r'C:\\\\Users\\\\u279014\\\\Documents\\\\H_Drive\\\\7.AA Models\\\\12.Logistic_Optimization\\\\data\\\\Cass FY19 Invoice Detail.csv'\n",
    "cass_path = r'C:\\\\Users\\\\u279014\\\\Documents\\\\H_Drive\\\\7.AA Models\\\\12.Logistic_Optimization\\\\data\\\\FY19 Invoice Detail.csv'\n",
    "dest_zip = '17201'\n",
    "# dest_zip = '54942'\n",
    "dfcass = clean_cass2(cass_path, source_state='all', shipper_country='US', inbound_outbound_indicator='INBOUND', shipping_date_start='2019-01-01',dest_zip=dest_zip, shipping_window=360, truck_mode='TL')"
   ]
  },
  {
   "cell_type": "code",
   "execution_count": 145,
   "metadata": {},
   "outputs": [
    {
     "data": {
      "text/html": [
       "<div>\n",
       "<style scoped>\n",
       "    .dataframe tbody tr th:only-of-type {\n",
       "        vertical-align: middle;\n",
       "    }\n",
       "\n",
       "    .dataframe tbody tr th {\n",
       "        vertical-align: top;\n",
       "    }\n",
       "\n",
       "    .dataframe thead th {\n",
       "        text-align: right;\n",
       "    }\n",
       "</style>\n",
       "<table border=\"1\" class=\"dataframe\">\n",
       "  <thead>\n",
       "    <tr style=\"text-align: right;\">\n",
       "      <th></th>\n",
       "      <th>source_weekend_date</th>\n",
       "      <th>mode</th>\n",
       "      <th>shipper_name</th>\n",
       "      <th>shipper_address</th>\n",
       "      <th>shipper_city</th>\n",
       "      <th>shipper_zip</th>\n",
       "      <th>shipper_state</th>\n",
       "      <th>destination_city</th>\n",
       "      <th>destination_zip</th>\n",
       "      <th>destination_state</th>\n",
       "      <th>bill_of_lading_number</th>\n",
       "      <th>ship_weight</th>\n",
       "      <th>miles</th>\n",
       "      <th>billed_amount</th>\n",
       "      <th>shipping_date</th>\n",
       "    </tr>\n",
       "  </thead>\n",
       "  <tbody>\n",
       "    <tr>\n",
       "      <th>0</th>\n",
       "      <td>Jan 1, 2019</td>\n",
       "      <td>L</td>\n",
       "      <td>DANFOSS POWER SOLUTIONS</td>\n",
       "      <td>2800 EAST 13TH ST</td>\n",
       "      <td>AMES</td>\n",
       "      <td>50010</td>\n",
       "      <td>IA</td>\n",
       "      <td>CHAMBERSBURG</td>\n",
       "      <td>17201</td>\n",
       "      <td>PA</td>\n",
       "      <td>282381374</td>\n",
       "      <td>12237</td>\n",
       "      <td>964</td>\n",
       "      <td>2047.79</td>\n",
       "      <td>2019-01-01</td>\n",
       "    </tr>\n",
       "    <tr>\n",
       "      <th>1</th>\n",
       "      <td>Jan 1, 2019</td>\n",
       "      <td>L</td>\n",
       "      <td>WHELEN ENGIN</td>\n",
       "      <td>51 WINTHROP RD</td>\n",
       "      <td>CHESTER</td>\n",
       "      <td>06412</td>\n",
       "      <td>CT</td>\n",
       "      <td>CHAMBERSBURG</td>\n",
       "      <td>17201</td>\n",
       "      <td>PA</td>\n",
       "      <td>NS</td>\n",
       "      <td>676</td>\n",
       "      <td>331</td>\n",
       "      <td>248.90</td>\n",
       "      <td>2019-01-01</td>\n",
       "    </tr>\n",
       "    <tr>\n",
       "      <th>2</th>\n",
       "      <td>Jan 1, 2019</td>\n",
       "      <td>L</td>\n",
       "      <td>CUMMINS, INC.</td>\n",
       "      <td>1605 INDUSTRIAL PARK DRIVE</td>\n",
       "      <td>NEILLSVILLE</td>\n",
       "      <td>54456</td>\n",
       "      <td>WI</td>\n",
       "      <td>CHAMBERSBURG</td>\n",
       "      <td>17201</td>\n",
       "      <td>PA</td>\n",
       "      <td>282505416</td>\n",
       "      <td>1190</td>\n",
       "      <td>934</td>\n",
       "      <td>589.65</td>\n",
       "      <td>2019-01-01</td>\n",
       "    </tr>\n",
       "    <tr>\n",
       "      <th>3</th>\n",
       "      <td>Jan 1, 2019</td>\n",
       "      <td>L</td>\n",
       "      <td>CUMMINS, INC.</td>\n",
       "      <td>1605 INDUSTRIAL PARK DRIVE</td>\n",
       "      <td>NEILLSVILLE</td>\n",
       "      <td>54456</td>\n",
       "      <td>WI</td>\n",
       "      <td>CHAMBERSBURG</td>\n",
       "      <td>17201</td>\n",
       "      <td>PA</td>\n",
       "      <td>282326660</td>\n",
       "      <td>2136</td>\n",
       "      <td>934</td>\n",
       "      <td>715.27</td>\n",
       "      <td>2019-01-01</td>\n",
       "    </tr>\n",
       "    <tr>\n",
       "      <th>4</th>\n",
       "      <td>Jan 1, 2019</td>\n",
       "      <td>L</td>\n",
       "      <td>COMMERCIAL VEHICLE GROUP, INC.</td>\n",
       "      <td>4721 N EUGENE AVE</td>\n",
       "      <td>DOUGLAS</td>\n",
       "      <td>85607</td>\n",
       "      <td>AZ</td>\n",
       "      <td>CHAMBERSBURG</td>\n",
       "      <td>17201</td>\n",
       "      <td>PA</td>\n",
       "      <td>282062837</td>\n",
       "      <td>250</td>\n",
       "      <td>2145</td>\n",
       "      <td>94.59</td>\n",
       "      <td>2019-01-01</td>\n",
       "    </tr>\n",
       "    <tr>\n",
       "      <th>...</th>\n",
       "      <td>...</td>\n",
       "      <td>...</td>\n",
       "      <td>...</td>\n",
       "      <td>...</td>\n",
       "      <td>...</td>\n",
       "      <td>...</td>\n",
       "      <td>...</td>\n",
       "      <td>...</td>\n",
       "      <td>...</td>\n",
       "      <td>...</td>\n",
       "      <td>...</td>\n",
       "      <td>...</td>\n",
       "      <td>...</td>\n",
       "      <td>...</td>\n",
       "      <td>...</td>\n",
       "    </tr>\n",
       "    <tr>\n",
       "      <th>7079</th>\n",
       "      <td>Sep 24, 2019</td>\n",
       "      <td>T</td>\n",
       "      <td>THIEMAN QUALITY METAL FAB, INC.</td>\n",
       "      <td>05140 DICKE RD</td>\n",
       "      <td>NEW BREMEN</td>\n",
       "      <td>45869</td>\n",
       "      <td>OH</td>\n",
       "      <td>CHAMBERSBURG</td>\n",
       "      <td>17201</td>\n",
       "      <td>PA</td>\n",
       "      <td>302639023</td>\n",
       "      <td>33705</td>\n",
       "      <td>428</td>\n",
       "      <td>1188.54</td>\n",
       "      <td>2019-09-24</td>\n",
       "    </tr>\n",
       "    <tr>\n",
       "      <th>7080</th>\n",
       "      <td>Sep 24, 2019</td>\n",
       "      <td>T</td>\n",
       "      <td>HELGESEN INDUSTRIES, INC.</td>\n",
       "      <td>1720 INNOVATION WAY</td>\n",
       "      <td>HARTFORD</td>\n",
       "      <td>53027</td>\n",
       "      <td>WI</td>\n",
       "      <td>CHAMBERSBURG</td>\n",
       "      <td>17201</td>\n",
       "      <td>PA</td>\n",
       "      <td>300806181</td>\n",
       "      <td>6000</td>\n",
       "      <td>758</td>\n",
       "      <td>2205.78</td>\n",
       "      <td>2019-09-24</td>\n",
       "    </tr>\n",
       "    <tr>\n",
       "      <th>7081</th>\n",
       "      <td>Sep 24, 2019</td>\n",
       "      <td>T</td>\n",
       "      <td>JLG PA CO ST</td>\n",
       "      <td>215 S OLIVE ST</td>\n",
       "      <td>SOUTH BEND</td>\n",
       "      <td>46619</td>\n",
       "      <td>IN</td>\n",
       "      <td>CHAMBERSBURG</td>\n",
       "      <td>17201</td>\n",
       "      <td>PA</td>\n",
       "      <td>303674941</td>\n",
       "      <td>11093</td>\n",
       "      <td>542</td>\n",
       "      <td>1631.42</td>\n",
       "      <td>2019-09-24</td>\n",
       "    </tr>\n",
       "    <tr>\n",
       "      <th>7082</th>\n",
       "      <td>Sep 24, 2019</td>\n",
       "      <td>T</td>\n",
       "      <td>HELGESEN INDUSTRIES, INC.</td>\n",
       "      <td>1720 INNOVATION WAY</td>\n",
       "      <td>HARTFORD</td>\n",
       "      <td>53027</td>\n",
       "      <td>WI</td>\n",
       "      <td>CHAMBERSBURG</td>\n",
       "      <td>17201</td>\n",
       "      <td>PA</td>\n",
       "      <td>299278990</td>\n",
       "      <td>6000</td>\n",
       "      <td>758</td>\n",
       "      <td>2205.78</td>\n",
       "      <td>2019-09-24</td>\n",
       "    </tr>\n",
       "    <tr>\n",
       "      <th>7083</th>\n",
       "      <td>Sep 24, 2019</td>\n",
       "      <td>T</td>\n",
       "      <td>HELGESEN INDUSTRIES, INC.</td>\n",
       "      <td>1720 INNOVATION WAY</td>\n",
       "      <td>HARTFORD</td>\n",
       "      <td>53027</td>\n",
       "      <td>WI</td>\n",
       "      <td>CHAMBERSBURG</td>\n",
       "      <td>17201</td>\n",
       "      <td>PA</td>\n",
       "      <td>302378908</td>\n",
       "      <td>6000</td>\n",
       "      <td>758</td>\n",
       "      <td>2205.78</td>\n",
       "      <td>2019-09-24</td>\n",
       "    </tr>\n",
       "  </tbody>\n",
       "</table>\n",
       "<p>7084 rows × 15 columns</p>\n",
       "</div>"
      ],
      "text/plain": [
       "     source_weekend_date mode                     shipper_name  \\\n",
       "0            Jan 1, 2019    L          DANFOSS POWER SOLUTIONS   \n",
       "1            Jan 1, 2019    L                     WHELEN ENGIN   \n",
       "2            Jan 1, 2019    L                    CUMMINS, INC.   \n",
       "3            Jan 1, 2019    L                    CUMMINS, INC.   \n",
       "4            Jan 1, 2019    L   COMMERCIAL VEHICLE GROUP, INC.   \n",
       "...                  ...  ...                              ...   \n",
       "7079        Sep 24, 2019    T  THIEMAN QUALITY METAL FAB, INC.   \n",
       "7080        Sep 24, 2019    T        HELGESEN INDUSTRIES, INC.   \n",
       "7081        Sep 24, 2019    T                     JLG PA CO ST   \n",
       "7082        Sep 24, 2019    T        HELGESEN INDUSTRIES, INC.   \n",
       "7083        Sep 24, 2019    T        HELGESEN INDUSTRIES, INC.   \n",
       "\n",
       "                 shipper_address shipper_city shipper_zip shipper_state  \\\n",
       "0              2800 EAST 13TH ST         AMES       50010            IA   \n",
       "1                 51 WINTHROP RD      CHESTER       06412            CT   \n",
       "2     1605 INDUSTRIAL PARK DRIVE  NEILLSVILLE       54456            WI   \n",
       "3     1605 INDUSTRIAL PARK DRIVE  NEILLSVILLE       54456            WI   \n",
       "4              4721 N EUGENE AVE      DOUGLAS       85607            AZ   \n",
       "...                          ...          ...         ...           ...   \n",
       "7079              05140 DICKE RD   NEW BREMEN       45869            OH   \n",
       "7080         1720 INNOVATION WAY     HARTFORD       53027            WI   \n",
       "7081              215 S OLIVE ST   SOUTH BEND       46619            IN   \n",
       "7082         1720 INNOVATION WAY     HARTFORD       53027            WI   \n",
       "7083         1720 INNOVATION WAY     HARTFORD       53027            WI   \n",
       "\n",
       "     destination_city destination_zip destination_state bill_of_lading_number  \\\n",
       "0        CHAMBERSBURG           17201                PA             282381374   \n",
       "1        CHAMBERSBURG           17201                PA                    NS   \n",
       "2        CHAMBERSBURG           17201                PA             282505416   \n",
       "3        CHAMBERSBURG           17201                PA             282326660   \n",
       "4        CHAMBERSBURG           17201                PA             282062837   \n",
       "...               ...             ...               ...                   ...   \n",
       "7079     CHAMBERSBURG           17201                PA             302639023   \n",
       "7080     CHAMBERSBURG           17201                PA             300806181   \n",
       "7081     CHAMBERSBURG           17201                PA             303674941   \n",
       "7082     CHAMBERSBURG           17201                PA             299278990   \n",
       "7083     CHAMBERSBURG           17201                PA             302378908   \n",
       "\n",
       "      ship_weight  miles  billed_amount shipping_date  \n",
       "0           12237    964        2047.79    2019-01-01  \n",
       "1             676    331         248.90    2019-01-01  \n",
       "2            1190    934         589.65    2019-01-01  \n",
       "3            2136    934         715.27    2019-01-01  \n",
       "4             250   2145          94.59    2019-01-01  \n",
       "...           ...    ...            ...           ...  \n",
       "7079        33705    428        1188.54    2019-09-24  \n",
       "7080         6000    758        2205.78    2019-09-24  \n",
       "7081        11093    542        1631.42    2019-09-24  \n",
       "7082         6000    758        2205.78    2019-09-24  \n",
       "7083         6000    758        2205.78    2019-09-24  \n",
       "\n",
       "[7084 rows x 15 columns]"
      ]
     },
     "execution_count": 145,
     "metadata": {},
     "output_type": "execute_result"
    }
   ],
   "source": [
    "dfcass"
   ]
  },
  {
   "cell_type": "code",
   "execution_count": 146,
   "metadata": {},
   "outputs": [],
   "source": [
    "def get_cluster(state):\n",
    "    if state in ['WI','IL','MI','IN']:\n",
    "        return 'mid_west'\n",
    "    elif state in ['PA','NY','MD']:\n",
    "        return 'north_east'\n",
    "    elif state in ['NC','SC','GA']:\n",
    "        return 'south_east'\n",
    "    return 'other'\n",
    "    \n",
    "dfcass['cluster'] = dfcass.shipper_state.apply(get_cluster)\n",
    "dfcass.to_csv(r'C:\\Users\\u279014\\Documents\\H_Drive\\7.AA Models\\12.Logistic_Optimization\\data\\supplier_clustering.csv',index=False)\n",
    "dfcass.shipper_zip.to_excel(r'C:\\Users\\u279014\\Documents\\H_Drive\\7.AA Models\\12.Logistic_Optimization\\data\\PCMiller\\zipcodes.xlsx',\n",
    "                            sheet_name='Sheet1',header = False,index = False)"
   ]
  },
  {
   "cell_type": "code",
   "execution_count": 147,
   "metadata": {
    "scrolled": false
   },
   "outputs": [
    {
     "name": "stderr",
     "output_type": "stream",
     "text": [
      "C:\\Users\\U279014\\Anaconda3\\lib\\site-packages\\ipykernel_launcher.py:12: FutureWarning:\n",
      "\n",
      "Indexing with multiple keys (implicitly converted to a tuple of keys) will be deprecated, use a list instead.\n",
      "\n"
     ]
    }
   ],
   "source": [
    "### Distance Matrix: to replaced by using PCM_Riding Distance Matrix\n",
    "cass_zip = cass_merge_zip(dfcass,zipcode)\n",
    "cass_zip.to_csv(r'C:\\Users\\u279014\\Documents\\H_Drive\\7.AA Models\\12.Logistic_Optimization\\data\\suppliers_geo.csv')\n",
    "##### To run PCM API for riding distance #####"
   ]
  },
  {
   "cell_type": "markdown",
   "metadata": {},
   "source": [
    "# Clustering Modeling: Supplier by Region Modeling (Kmeans, DBSCAN)\n",
    "### Solution 1: KMeans_Modeling\n",
    "- #### Using euclidean distance based geograpthic infomation and historical volume to cluser suppliers by zipcode in region\n",
    "- #### Clustering metrix: ‘cosine’, ‘euclidean’[default], ‘l1’, ‘l2’,\n"
   ]
  },
  {
   "cell_type": "code",
   "execution_count": 148,
   "metadata": {},
   "outputs": [],
   "source": [
    "from sklearn.cluster import KMeans\n",
    "from collections import Counter"
   ]
  },
  {
   "cell_type": "code",
   "execution_count": 149,
   "metadata": {},
   "outputs": [],
   "source": [
    "geo = cass_zip.loc[:,['longitude','latitude']]\n",
    "X = np.array(geo)"
   ]
  },
  {
   "cell_type": "code",
   "execution_count": 150,
   "metadata": {
    "scrolled": false
   },
   "outputs": [
    {
     "data": {
      "application/vnd.plotly.v1+json": {
       "config": {
        "plotlyServerURL": "https://plot.ly"
       },
       "data": [
        {
         "hovertemplate": "latitude=%{lat}<br>longitude=%{lon}<extra></extra>",
         "lat": [
          40.670138,
          40.670138,
          40.670138,
          40.700068,
          40.725968,
          40.725968,
          42.453663,
          42.453663,
          42.091924,
          40.404119,
          40.44952,
          40.299646,
          40.319956,
          40.954059,
          40.325374,
          40.325374,
          40.325374,
          40.348973,
          40.348973,
          40.348973,
          40.348973,
          40.348973,
          40.498793,
          41.607955,
          42.110757,
          42.126956,
          40.264389,
          39.931123,
          39.931123,
          39.931123,
          39.931123,
          39.931123,
          39.931123,
          39.931123,
          39.931123,
          39.931123,
          39.931123,
          39.792122,
          39.792122,
          39.792122,
          39.942589,
          40.076657,
          40.053308,
          39.965131,
          39.962821000000005,
          39.962821000000005,
          40.645665,
          40.645665,
          40.656498,
          41.345579,
          41.197908,
          40.13477,
          39.832762,
          39.832762,
          40.214661,
          40.123708,
          40.390943,
          39.626296999999994,
          39.432272999999995,
          39.432272999999995,
          39.432272999999995,
          39.432272999999995,
          39.211758,
          39.332240000000006,
          39.423344,
          37.107273,
          37.107273,
          35.679194,
          35.384344,
          35.501447999999996,
          35.501447999999996,
          35.263287,
          35.229565,
          35.407499,
          35.407499,
          35.407499,
          35.003712,
          35.003712,
          35.003712,
          35.003712,
          35.173377,
          34.738793,
          34.911417,
          34.911417,
          35.295403,
          35.599363000000004,
          35.575877,
          34.002167,
          34.789884,
          34.681278999999996,
          34.914611,
          34.914611,
          34.914611,
          34.914611,
          34.001159,
          34.001159,
          34.027533,
          33.909952000000004,
          34.12115,
          34.12115,
          34.12115,
          34.12115,
          34.12115,
          34.416521,
          34.416521,
          34.188280999999996,
          34.188280999999996,
          34.167309,
          34.167309,
          34.167309,
          34.167309,
          34.167309,
          36.112058000000005,
          35.929314,
          35.929314,
          35.929314,
          38.87872,
          36.866845,
          41.388519,
          41.388519,
          41.29037,
          41.29037,
          41.540724,
          41.540724,
          41.540724,
          41.688162,
          41.688162,
          41.688162,
          41.688162,
          41.688162,
          41.484688,
          41.454439,
          41.454439,
          41.017522,
          41.249404999999996,
          41.249404999999996,
          41.090089,
          41.090089,
          40.843685,
          40.815179,
          40.815179,
          39.276271,
          39.276271,
          39.242559,
          39.958117,
          39.820807,
          40.452556,
          40.874092,
          40.874092,
          40.047965999999995,
          40.047965999999995,
          40.047965999999995,
          40.333771999999996,
          41.170584000000005,
          41.47339,
          41.47339,
          41.47339,
          41.47339,
          41.725061,
          41.725061,
          41.667797,
          41.667797,
          41.667797,
          41.667797,
          41.667797,
          41.667797,
          41.667797,
          41.449897,
          41.267553,
          41.267553,
          41.070498,
          39.185340999999994,
          39.185340999999994,
          39.185340999999994,
          39.185340999999994,
          39.185340999999994,
          39.185340999999994,
          39.185340999999994,
          39.185340999999994,
          39.185340999999994,
          39.185340999999994,
          39.831061,
          38.387935,
          38.170876,
          38.170876,
          42.365936,
          43.264205,
          42.074435,
          42.074435,
          42.252268,
          42.227536,
          42.252846999999996,
          42.964176,
          42.964176,
          42.964176,
          42.999561,
          42.02933,
          42.02933,
          42.02933,
          41.637638,
          43.184994,
          43.382021,
          42.221176,
          42.221176,
          42.221176,
          42.221176,
          42.221176,
          40.814207,
          40.830534,
          41.513182,
          43.313361,
          43.313361,
          43.313361,
          43.313361,
          43.313361,
          43.151183,
          43.40328,
          42.896145000000004,
          42.896145000000004,
          42.884347,
          42.884347,
          42.884347,
          42.884347,
          42.666761,
          43.407179,
          44.179504,
          44.844133,
          44.844133,
          44.553719,
          44.885168,
          44.524054,
          44.277231,
          43.543934,
          44.293820000000004,
          44.212447999999995,
          44.867013,
          46.900348,
          46.900348,
          42.065427,
          42.229856,
          42.188074,
          42.188074,
          41.920228,
          41.972328000000005,
          41.918578000000004,
          41.962979,
          41.962979,
          41.350484,
          41.598234999999995,
          41.813776000000004,
          42.213439,
          40.817586999999996,
          40.567088,
          40.567088,
          40.567088,
          40.567088,
          40.567088,
          39.004728,
          39.004728,
          40.183335,
          40.183335,
          41.437838,
          29.760794,
          27.648832000000002,
          27.648832000000002,
          27.648832000000002,
          27.648832000000002,
          27.648832000000002,
          27.648832000000002,
          27.648832000000002,
          27.648832000000002,
          26.172017999999998,
          26.172017999999998,
          26.206602,
          26.105725,
          26.105725,
          26.105725,
          26.105725,
          26.105725,
          31.684338,
          31.674736,
          31.674736,
          31.674736,
          31.674736,
          31.766354999999997,
          31.766354999999997,
          31.766354999999997,
          31.766354999999997,
          31.382775,
          34.036085,
          34.036085,
          34.036085,
          34.036085,
          32.574397999999995,
          32.574397999999995,
          33.8808,
          33.8808,
          47.193729
         ],
         "legendgroup": "",
         "lon": [
          -73.75140999999999,
          -73.75140999999999,
          -73.75140999999999,
          -73.80986,
          -73.44151,
          -73.44151,
          -76.06983000000001,
          -76.06983000000001,
          -76.79217,
          -80.09014,
          -80.179475,
          -79.38845,
          -79.35901,
          -78.97017,
          -78.91485,
          -78.91485,
          -78.91485,
          -78.94131999999999,
          -78.94131999999999,
          -78.94131999999999,
          -78.94131999999999,
          -78.94131999999999,
          -78.74591,
          -80.29601,
          -80.10024,
          -80.0004,
          -76.80298,
          -77.66139,
          -77.66139,
          -77.66139,
          -77.66139,
          -77.66139,
          -77.66139,
          -77.66139,
          -77.66139,
          -77.66139,
          -77.66139,
          -77.74923000000001,
          -77.74923000000001,
          -77.74923000000001,
          -77.99529,
          -77.65433,
          -77.50622,
          -77.00863000000001,
          -76.76764,
          -76.76764,
          -75.36926,
          -75.36926,
          -75.32938,
          -75.97596,
          -76.00325,
          -75.20374,
          -75.44063,
          -75.44063,
          -74.81812,
          -75.33843,
          -75.9375,
          -75.71386,
          -76.35578000000001,
          -76.35578000000001,
          -76.35578000000001,
          -76.35578000000001,
          -76.56623,
          -76.50365,
          -77.38902,
          -80.67384,
          -80.67384,
          -78.60246,
          -78.00893,
          -81.00412,
          -81.00412,
          -81.15312,
          -81.12847,
          -80.41228000000001,
          -80.41228000000001,
          -80.41228000000001,
          -78.92179,
          -78.92179,
          -78.92179,
          -78.92179,
          -79.013799,
          -77.97788,
          -77.77153,
          -77.77153,
          -82.388325,
          -82.50007,
          -82.6062,
          -79.19325,
          -82.56459,
          -82.19731999999999,
          -81.0125,
          -81.0125,
          -81.0125,
          -81.0125,
          -84.01487,
          -84.01487,
          -84.51475,
          -84.1794,
          -84.01804,
          -84.01804,
          -84.01804,
          -84.01804,
          -84.01804,
          -84.10849,
          -84.10849,
          -83.91813,
          -83.91813,
          -83.68536,
          -83.68536,
          -83.68536,
          -83.68536,
          -83.68536,
          -86.77626,
          -85.05926,
          -85.05926,
          -85.05926,
          -84.62558,
          -87.47617,
          -83.65795,
          -83.65795,
          -84.36539,
          -84.36539,
          -83.58904,
          -83.58904,
          -83.58904,
          -81.33378,
          -81.33378,
          -81.33378,
          -81.33378,
          -81.33378,
          -81.70125,
          -81.92865,
          -81.92865,
          -81.61616,
          -81.34404,
          -81.34404,
          -80.86735999999999,
          -80.86735999999999,
          -81.26298,
          -82.97091,
          -82.97091,
          -84.39324,
          -84.39324,
          -84.36041999999999,
          -84.33335,
          -84.19381,
          -84.38731,
          -84.57871,
          -84.57871,
          -86.46592,
          -86.46592,
          -86.46592,
          -86.38161,
          -87.33142,
          -87.03165,
          -87.03165,
          -87.03165,
          -87.03165,
          -85.81792,
          -85.81792,
          -86.31341,
          -86.31341,
          -86.31341,
          -86.31341,
          -86.31341,
          -86.31341,
          -86.31341,
          -85.26765,
          -84.93525,
          -84.93525,
          -85.10706,
          -85.9456,
          -85.9456,
          -85.9456,
          -85.9456,
          -85.9456,
          -85.9456,
          -85.9456,
          -85.9456,
          -85.9456,
          -85.9456,
          -84.89067,
          -86.74717,
          -86.99889,
          -86.99889,
          -83.36513000000001,
          -82.81674,
          -86.47935,
          -86.47935,
          -84.38842,
          -84.40913,
          -84.213755,
          -85.65885,
          -85.65885,
          -85.65885,
          -85.75371,
          -93.60965999999999,
          -93.60965999999999,
          -93.60965999999999,
          -93.61636,
          -95.85888,
          -92.10263,
          -91.19335,
          -91.19335,
          -91.19335,
          -91.19335,
          -91.19335,
          -91.11910999999999,
          -91.17849,
          -90.61672,
          -88.37331999999999,
          -88.37331999999999,
          -88.37331999999999,
          -88.37331999999999,
          -88.37331999999999,
          -88.11034000000001,
          -88.18026,
          -88.00891,
          -88.00891,
          -87.8992,
          -87.8992,
          -87.8992,
          -87.8992,
          -88.99528000000001,
          -89.05837,
          -88.07449,
          -87.38044000000001,
          -87.38044000000001,
          -90.61457,
          -89.61922,
          -89.55621,
          -90.80066,
          -90.89904,
          -88.53556999999999,
          -88.40959000000001,
          -93.42557,
          -96.80015999999999,
          -96.80015999999999,
          -87.93621,
          -87.96779000000001,
          -87.92716999999999,
          -87.92716999999999,
          -88.07891,
          -88.02195999999999,
          -88.13688,
          -87.97688000000001,
          -87.97688000000001,
          -87.62408,
          -88.02753,
          -89.70537,
          -89.05595,
          -89.56654,
          -89.63382,
          -89.63382,
          -89.63382,
          -89.63382,
          -89.63382,
          -87.7495,
          -87.7495,
          -92.58341,
          -92.58341,
          -97.37191999999999,
          -95.26043,
          -99.53371,
          -99.53371,
          -99.53371,
          -99.53371,
          -99.53371,
          -99.53371,
          -99.53371,
          -99.53371,
          -98.25041999999999,
          -98.25041999999999,
          -97.68776,
          -98.24639,
          -98.24639,
          -98.24639,
          -98.24639,
          -98.24639,
          -106.20788,
          -106.197528,
          -106.197528,
          -106.197528,
          -106.197528,
          -106.29828,
          -106.29828,
          -106.29828,
          -106.29828,
          -109.55035,
          -117.6086,
          -117.6086,
          -117.6086,
          -117.6086,
          -117.05633,
          -117.05633,
          -117.54068000000001,
          -117.54068000000001,
          -121.91915
         ],
         "marker": {
          "color": "fuchsia"
         },
         "mode": "markers",
         "name": "",
         "showlegend": false,
         "subplot": "mapbox",
         "type": "scattermapbox"
        }
       ],
       "layout": {
        "height": 800,
        "legend": {
         "tracegroupgap": 0
        },
        "mapbox": {
         "center": {
          "lat": 38.83110101342288,
          "lon": -86.27106978523491
         },
         "domain": {
          "x": [
           0,
           1
          ],
          "y": [
           0,
           1
          ]
         },
         "style": "open-street-map",
         "zoom": 4
        },
        "margin": {
         "b": 0,
         "l": 0,
         "r": 0,
         "t": 0
        },
        "template": {
         "data": {
          "bar": [
           {
            "error_x": {
             "color": "#2a3f5f"
            },
            "error_y": {
             "color": "#2a3f5f"
            },
            "marker": {
             "line": {
              "color": "#E5ECF6",
              "width": 0.5
             }
            },
            "type": "bar"
           }
          ],
          "barpolar": [
           {
            "marker": {
             "line": {
              "color": "#E5ECF6",
              "width": 0.5
             }
            },
            "type": "barpolar"
           }
          ],
          "carpet": [
           {
            "aaxis": {
             "endlinecolor": "#2a3f5f",
             "gridcolor": "white",
             "linecolor": "white",
             "minorgridcolor": "white",
             "startlinecolor": "#2a3f5f"
            },
            "baxis": {
             "endlinecolor": "#2a3f5f",
             "gridcolor": "white",
             "linecolor": "white",
             "minorgridcolor": "white",
             "startlinecolor": "#2a3f5f"
            },
            "type": "carpet"
           }
          ],
          "choropleth": [
           {
            "colorbar": {
             "outlinewidth": 0,
             "ticks": ""
            },
            "type": "choropleth"
           }
          ],
          "contour": [
           {
            "colorbar": {
             "outlinewidth": 0,
             "ticks": ""
            },
            "colorscale": [
             [
              0,
              "#0d0887"
             ],
             [
              0.1111111111111111,
              "#46039f"
             ],
             [
              0.2222222222222222,
              "#7201a8"
             ],
             [
              0.3333333333333333,
              "#9c179e"
             ],
             [
              0.4444444444444444,
              "#bd3786"
             ],
             [
              0.5555555555555556,
              "#d8576b"
             ],
             [
              0.6666666666666666,
              "#ed7953"
             ],
             [
              0.7777777777777778,
              "#fb9f3a"
             ],
             [
              0.8888888888888888,
              "#fdca26"
             ],
             [
              1,
              "#f0f921"
             ]
            ],
            "type": "contour"
           }
          ],
          "contourcarpet": [
           {
            "colorbar": {
             "outlinewidth": 0,
             "ticks": ""
            },
            "type": "contourcarpet"
           }
          ],
          "heatmap": [
           {
            "colorbar": {
             "outlinewidth": 0,
             "ticks": ""
            },
            "colorscale": [
             [
              0,
              "#0d0887"
             ],
             [
              0.1111111111111111,
              "#46039f"
             ],
             [
              0.2222222222222222,
              "#7201a8"
             ],
             [
              0.3333333333333333,
              "#9c179e"
             ],
             [
              0.4444444444444444,
              "#bd3786"
             ],
             [
              0.5555555555555556,
              "#d8576b"
             ],
             [
              0.6666666666666666,
              "#ed7953"
             ],
             [
              0.7777777777777778,
              "#fb9f3a"
             ],
             [
              0.8888888888888888,
              "#fdca26"
             ],
             [
              1,
              "#f0f921"
             ]
            ],
            "type": "heatmap"
           }
          ],
          "heatmapgl": [
           {
            "colorbar": {
             "outlinewidth": 0,
             "ticks": ""
            },
            "colorscale": [
             [
              0,
              "#0d0887"
             ],
             [
              0.1111111111111111,
              "#46039f"
             ],
             [
              0.2222222222222222,
              "#7201a8"
             ],
             [
              0.3333333333333333,
              "#9c179e"
             ],
             [
              0.4444444444444444,
              "#bd3786"
             ],
             [
              0.5555555555555556,
              "#d8576b"
             ],
             [
              0.6666666666666666,
              "#ed7953"
             ],
             [
              0.7777777777777778,
              "#fb9f3a"
             ],
             [
              0.8888888888888888,
              "#fdca26"
             ],
             [
              1,
              "#f0f921"
             ]
            ],
            "type": "heatmapgl"
           }
          ],
          "histogram": [
           {
            "marker": {
             "colorbar": {
              "outlinewidth": 0,
              "ticks": ""
             }
            },
            "type": "histogram"
           }
          ],
          "histogram2d": [
           {
            "colorbar": {
             "outlinewidth": 0,
             "ticks": ""
            },
            "colorscale": [
             [
              0,
              "#0d0887"
             ],
             [
              0.1111111111111111,
              "#46039f"
             ],
             [
              0.2222222222222222,
              "#7201a8"
             ],
             [
              0.3333333333333333,
              "#9c179e"
             ],
             [
              0.4444444444444444,
              "#bd3786"
             ],
             [
              0.5555555555555556,
              "#d8576b"
             ],
             [
              0.6666666666666666,
              "#ed7953"
             ],
             [
              0.7777777777777778,
              "#fb9f3a"
             ],
             [
              0.8888888888888888,
              "#fdca26"
             ],
             [
              1,
              "#f0f921"
             ]
            ],
            "type": "histogram2d"
           }
          ],
          "histogram2dcontour": [
           {
            "colorbar": {
             "outlinewidth": 0,
             "ticks": ""
            },
            "colorscale": [
             [
              0,
              "#0d0887"
             ],
             [
              0.1111111111111111,
              "#46039f"
             ],
             [
              0.2222222222222222,
              "#7201a8"
             ],
             [
              0.3333333333333333,
              "#9c179e"
             ],
             [
              0.4444444444444444,
              "#bd3786"
             ],
             [
              0.5555555555555556,
              "#d8576b"
             ],
             [
              0.6666666666666666,
              "#ed7953"
             ],
             [
              0.7777777777777778,
              "#fb9f3a"
             ],
             [
              0.8888888888888888,
              "#fdca26"
             ],
             [
              1,
              "#f0f921"
             ]
            ],
            "type": "histogram2dcontour"
           }
          ],
          "mesh3d": [
           {
            "colorbar": {
             "outlinewidth": 0,
             "ticks": ""
            },
            "type": "mesh3d"
           }
          ],
          "parcoords": [
           {
            "line": {
             "colorbar": {
              "outlinewidth": 0,
              "ticks": ""
             }
            },
            "type": "parcoords"
           }
          ],
          "pie": [
           {
            "automargin": true,
            "type": "pie"
           }
          ],
          "scatter": [
           {
            "marker": {
             "colorbar": {
              "outlinewidth": 0,
              "ticks": ""
             }
            },
            "type": "scatter"
           }
          ],
          "scatter3d": [
           {
            "line": {
             "colorbar": {
              "outlinewidth": 0,
              "ticks": ""
             }
            },
            "marker": {
             "colorbar": {
              "outlinewidth": 0,
              "ticks": ""
             }
            },
            "type": "scatter3d"
           }
          ],
          "scattercarpet": [
           {
            "marker": {
             "colorbar": {
              "outlinewidth": 0,
              "ticks": ""
             }
            },
            "type": "scattercarpet"
           }
          ],
          "scattergeo": [
           {
            "marker": {
             "colorbar": {
              "outlinewidth": 0,
              "ticks": ""
             }
            },
            "type": "scattergeo"
           }
          ],
          "scattergl": [
           {
            "marker": {
             "colorbar": {
              "outlinewidth": 0,
              "ticks": ""
             }
            },
            "type": "scattergl"
           }
          ],
          "scattermapbox": [
           {
            "marker": {
             "colorbar": {
              "outlinewidth": 0,
              "ticks": ""
             }
            },
            "type": "scattermapbox"
           }
          ],
          "scatterpolar": [
           {
            "marker": {
             "colorbar": {
              "outlinewidth": 0,
              "ticks": ""
             }
            },
            "type": "scatterpolar"
           }
          ],
          "scatterpolargl": [
           {
            "marker": {
             "colorbar": {
              "outlinewidth": 0,
              "ticks": ""
             }
            },
            "type": "scatterpolargl"
           }
          ],
          "scatterternary": [
           {
            "marker": {
             "colorbar": {
              "outlinewidth": 0,
              "ticks": ""
             }
            },
            "type": "scatterternary"
           }
          ],
          "surface": [
           {
            "colorbar": {
             "outlinewidth": 0,
             "ticks": ""
            },
            "colorscale": [
             [
              0,
              "#0d0887"
             ],
             [
              0.1111111111111111,
              "#46039f"
             ],
             [
              0.2222222222222222,
              "#7201a8"
             ],
             [
              0.3333333333333333,
              "#9c179e"
             ],
             [
              0.4444444444444444,
              "#bd3786"
             ],
             [
              0.5555555555555556,
              "#d8576b"
             ],
             [
              0.6666666666666666,
              "#ed7953"
             ],
             [
              0.7777777777777778,
              "#fb9f3a"
             ],
             [
              0.8888888888888888,
              "#fdca26"
             ],
             [
              1,
              "#f0f921"
             ]
            ],
            "type": "surface"
           }
          ],
          "table": [
           {
            "cells": {
             "fill": {
              "color": "#EBF0F8"
             },
             "line": {
              "color": "white"
             }
            },
            "header": {
             "fill": {
              "color": "#C8D4E3"
             },
             "line": {
              "color": "white"
             }
            },
            "type": "table"
           }
          ]
         },
         "layout": {
          "annotationdefaults": {
           "arrowcolor": "#2a3f5f",
           "arrowhead": 0,
           "arrowwidth": 1
          },
          "coloraxis": {
           "colorbar": {
            "outlinewidth": 0,
            "ticks": ""
           }
          },
          "colorscale": {
           "diverging": [
            [
             0,
             "#8e0152"
            ],
            [
             0.1,
             "#c51b7d"
            ],
            [
             0.2,
             "#de77ae"
            ],
            [
             0.3,
             "#f1b6da"
            ],
            [
             0.4,
             "#fde0ef"
            ],
            [
             0.5,
             "#f7f7f7"
            ],
            [
             0.6,
             "#e6f5d0"
            ],
            [
             0.7,
             "#b8e186"
            ],
            [
             0.8,
             "#7fbc41"
            ],
            [
             0.9,
             "#4d9221"
            ],
            [
             1,
             "#276419"
            ]
           ],
           "sequential": [
            [
             0,
             "#0d0887"
            ],
            [
             0.1111111111111111,
             "#46039f"
            ],
            [
             0.2222222222222222,
             "#7201a8"
            ],
            [
             0.3333333333333333,
             "#9c179e"
            ],
            [
             0.4444444444444444,
             "#bd3786"
            ],
            [
             0.5555555555555556,
             "#d8576b"
            ],
            [
             0.6666666666666666,
             "#ed7953"
            ],
            [
             0.7777777777777778,
             "#fb9f3a"
            ],
            [
             0.8888888888888888,
             "#fdca26"
            ],
            [
             1,
             "#f0f921"
            ]
           ],
           "sequentialminus": [
            [
             0,
             "#0d0887"
            ],
            [
             0.1111111111111111,
             "#46039f"
            ],
            [
             0.2222222222222222,
             "#7201a8"
            ],
            [
             0.3333333333333333,
             "#9c179e"
            ],
            [
             0.4444444444444444,
             "#bd3786"
            ],
            [
             0.5555555555555556,
             "#d8576b"
            ],
            [
             0.6666666666666666,
             "#ed7953"
            ],
            [
             0.7777777777777778,
             "#fb9f3a"
            ],
            [
             0.8888888888888888,
             "#fdca26"
            ],
            [
             1,
             "#f0f921"
            ]
           ]
          },
          "colorway": [
           "#636efa",
           "#EF553B",
           "#00cc96",
           "#ab63fa",
           "#FFA15A",
           "#19d3f3",
           "#FF6692",
           "#B6E880",
           "#FF97FF",
           "#FECB52"
          ],
          "font": {
           "color": "#2a3f5f"
          },
          "geo": {
           "bgcolor": "white",
           "lakecolor": "white",
           "landcolor": "#E5ECF6",
           "showlakes": true,
           "showland": true,
           "subunitcolor": "white"
          },
          "hoverlabel": {
           "align": "left"
          },
          "hovermode": "closest",
          "mapbox": {
           "style": "light"
          },
          "paper_bgcolor": "white",
          "plot_bgcolor": "#E5ECF6",
          "polar": {
           "angularaxis": {
            "gridcolor": "white",
            "linecolor": "white",
            "ticks": ""
           },
           "bgcolor": "#E5ECF6",
           "radialaxis": {
            "gridcolor": "white",
            "linecolor": "white",
            "ticks": ""
           }
          },
          "scene": {
           "xaxis": {
            "backgroundcolor": "#E5ECF6",
            "gridcolor": "white",
            "gridwidth": 2,
            "linecolor": "white",
            "showbackground": true,
            "ticks": "",
            "zerolinecolor": "white"
           },
           "yaxis": {
            "backgroundcolor": "#E5ECF6",
            "gridcolor": "white",
            "gridwidth": 2,
            "linecolor": "white",
            "showbackground": true,
            "ticks": "",
            "zerolinecolor": "white"
           },
           "zaxis": {
            "backgroundcolor": "#E5ECF6",
            "gridcolor": "white",
            "gridwidth": 2,
            "linecolor": "white",
            "showbackground": true,
            "ticks": "",
            "zerolinecolor": "white"
           }
          },
          "shapedefaults": {
           "line": {
            "color": "#2a3f5f"
           }
          },
          "ternary": {
           "aaxis": {
            "gridcolor": "white",
            "linecolor": "white",
            "ticks": ""
           },
           "baxis": {
            "gridcolor": "white",
            "linecolor": "white",
            "ticks": ""
           },
           "bgcolor": "#E5ECF6",
           "caxis": {
            "gridcolor": "white",
            "linecolor": "white",
            "ticks": ""
           }
          },
          "title": {
           "x": 0.05
          },
          "xaxis": {
           "automargin": true,
           "gridcolor": "white",
           "linecolor": "white",
           "ticks": "",
           "title": {
            "standoff": 15
           },
           "zerolinecolor": "white",
           "zerolinewidth": 2
          },
          "yaxis": {
           "automargin": true,
           "gridcolor": "white",
           "linecolor": "white",
           "ticks": "",
           "title": {
            "standoff": 15
           },
           "zerolinecolor": "white",
           "zerolinewidth": 2
          }
         }
        },
        "width": 2000
       }
      },
      "text/html": [
       "<div>\n",
       "        \n",
       "        \n",
       "            <div id=\"b343e5cc-02de-4646-8f48-6a542e26d239\" class=\"plotly-graph-div\" style=\"height:800px; width:2000px;\"></div>\n",
       "            <script type=\"text/javascript\">\n",
       "                require([\"plotly\"], function(Plotly) {\n",
       "                    window.PLOTLYENV=window.PLOTLYENV || {};\n",
       "                    \n",
       "                if (document.getElementById(\"b343e5cc-02de-4646-8f48-6a542e26d239\")) {\n",
       "                    Plotly.newPlot(\n",
       "                        'b343e5cc-02de-4646-8f48-6a542e26d239',\n",
       "                        [{\"hovertemplate\": \"latitude=%{lat}<br>longitude=%{lon}<extra></extra>\", \"lat\": [40.670138, 40.670138, 40.670138, 40.700068, 40.725968, 40.725968, 42.453663, 42.453663, 42.091924, 40.404119, 40.44952, 40.299646, 40.319956, 40.954059, 40.325374, 40.325374, 40.325374, 40.348973, 40.348973, 40.348973, 40.348973, 40.348973, 40.498793, 41.607955, 42.110757, 42.126956, 40.264389, 39.931123, 39.931123, 39.931123, 39.931123, 39.931123, 39.931123, 39.931123, 39.931123, 39.931123, 39.931123, 39.792122, 39.792122, 39.792122, 39.942589, 40.076657, 40.053308, 39.965131, 39.962821000000005, 39.962821000000005, 40.645665, 40.645665, 40.656498, 41.345579, 41.197908, 40.13477, 39.832762, 39.832762, 40.214661, 40.123708, 40.390943, 39.626296999999994, 39.432272999999995, 39.432272999999995, 39.432272999999995, 39.432272999999995, 39.211758, 39.332240000000006, 39.423344, 37.107273, 37.107273, 35.679194, 35.384344, 35.501447999999996, 35.501447999999996, 35.263287, 35.229565, 35.407499, 35.407499, 35.407499, 35.003712, 35.003712, 35.003712, 35.003712, 35.173377, 34.738793, 34.911417, 34.911417, 35.295403, 35.599363000000004, 35.575877, 34.002167, 34.789884, 34.681278999999996, 34.914611, 34.914611, 34.914611, 34.914611, 34.001159, 34.001159, 34.027533, 33.909952000000004, 34.12115, 34.12115, 34.12115, 34.12115, 34.12115, 34.416521, 34.416521, 34.188280999999996, 34.188280999999996, 34.167309, 34.167309, 34.167309, 34.167309, 34.167309, 36.112058000000005, 35.929314, 35.929314, 35.929314, 38.87872, 36.866845, 41.388519, 41.388519, 41.29037, 41.29037, 41.540724, 41.540724, 41.540724, 41.688162, 41.688162, 41.688162, 41.688162, 41.688162, 41.484688, 41.454439, 41.454439, 41.017522, 41.249404999999996, 41.249404999999996, 41.090089, 41.090089, 40.843685, 40.815179, 40.815179, 39.276271, 39.276271, 39.242559, 39.958117, 39.820807, 40.452556, 40.874092, 40.874092, 40.047965999999995, 40.047965999999995, 40.047965999999995, 40.333771999999996, 41.170584000000005, 41.47339, 41.47339, 41.47339, 41.47339, 41.725061, 41.725061, 41.667797, 41.667797, 41.667797, 41.667797, 41.667797, 41.667797, 41.667797, 41.449897, 41.267553, 41.267553, 41.070498, 39.185340999999994, 39.185340999999994, 39.185340999999994, 39.185340999999994, 39.185340999999994, 39.185340999999994, 39.185340999999994, 39.185340999999994, 39.185340999999994, 39.185340999999994, 39.831061, 38.387935, 38.170876, 38.170876, 42.365936, 43.264205, 42.074435, 42.074435, 42.252268, 42.227536, 42.252846999999996, 42.964176, 42.964176, 42.964176, 42.999561, 42.02933, 42.02933, 42.02933, 41.637638, 43.184994, 43.382021, 42.221176, 42.221176, 42.221176, 42.221176, 42.221176, 40.814207, 40.830534, 41.513182, 43.313361, 43.313361, 43.313361, 43.313361, 43.313361, 43.151183, 43.40328, 42.896145000000004, 42.896145000000004, 42.884347, 42.884347, 42.884347, 42.884347, 42.666761, 43.407179, 44.179504, 44.844133, 44.844133, 44.553719, 44.885168, 44.524054, 44.277231, 43.543934, 44.293820000000004, 44.212447999999995, 44.867013, 46.900348, 46.900348, 42.065427, 42.229856, 42.188074, 42.188074, 41.920228, 41.972328000000005, 41.918578000000004, 41.962979, 41.962979, 41.350484, 41.598234999999995, 41.813776000000004, 42.213439, 40.817586999999996, 40.567088, 40.567088, 40.567088, 40.567088, 40.567088, 39.004728, 39.004728, 40.183335, 40.183335, 41.437838, 29.760794, 27.648832000000002, 27.648832000000002, 27.648832000000002, 27.648832000000002, 27.648832000000002, 27.648832000000002, 27.648832000000002, 27.648832000000002, 26.172017999999998, 26.172017999999998, 26.206602, 26.105725, 26.105725, 26.105725, 26.105725, 26.105725, 31.684338, 31.674736, 31.674736, 31.674736, 31.674736, 31.766354999999997, 31.766354999999997, 31.766354999999997, 31.766354999999997, 31.382775, 34.036085, 34.036085, 34.036085, 34.036085, 32.574397999999995, 32.574397999999995, 33.8808, 33.8808, 47.193729], \"legendgroup\": \"\", \"lon\": [-73.75140999999999, -73.75140999999999, -73.75140999999999, -73.80986, -73.44151, -73.44151, -76.06983000000001, -76.06983000000001, -76.79217, -80.09014, -80.179475, -79.38845, -79.35901, -78.97017, -78.91485, -78.91485, -78.91485, -78.94131999999999, -78.94131999999999, -78.94131999999999, -78.94131999999999, -78.94131999999999, -78.74591, -80.29601, -80.10024, -80.0004, -76.80298, -77.66139, -77.66139, -77.66139, -77.66139, -77.66139, -77.66139, -77.66139, -77.66139, -77.66139, -77.66139, -77.74923000000001, -77.74923000000001, -77.74923000000001, -77.99529, -77.65433, -77.50622, -77.00863000000001, -76.76764, -76.76764, -75.36926, -75.36926, -75.32938, -75.97596, -76.00325, -75.20374, -75.44063, -75.44063, -74.81812, -75.33843, -75.9375, -75.71386, -76.35578000000001, -76.35578000000001, -76.35578000000001, -76.35578000000001, -76.56623, -76.50365, -77.38902, -80.67384, -80.67384, -78.60246, -78.00893, -81.00412, -81.00412, -81.15312, -81.12847, -80.41228000000001, -80.41228000000001, -80.41228000000001, -78.92179, -78.92179, -78.92179, -78.92179, -79.013799, -77.97788, -77.77153, -77.77153, -82.388325, -82.50007, -82.6062, -79.19325, -82.56459, -82.19731999999999, -81.0125, -81.0125, -81.0125, -81.0125, -84.01487, -84.01487, -84.51475, -84.1794, -84.01804, -84.01804, -84.01804, -84.01804, -84.01804, -84.10849, -84.10849, -83.91813, -83.91813, -83.68536, -83.68536, -83.68536, -83.68536, -83.68536, -86.77626, -85.05926, -85.05926, -85.05926, -84.62558, -87.47617, -83.65795, -83.65795, -84.36539, -84.36539, -83.58904, -83.58904, -83.58904, -81.33378, -81.33378, -81.33378, -81.33378, -81.33378, -81.70125, -81.92865, -81.92865, -81.61616, -81.34404, -81.34404, -80.86735999999999, -80.86735999999999, -81.26298, -82.97091, -82.97091, -84.39324, -84.39324, -84.36041999999999, -84.33335, -84.19381, -84.38731, -84.57871, -84.57871, -86.46592, -86.46592, -86.46592, -86.38161, -87.33142, -87.03165, -87.03165, -87.03165, -87.03165, -85.81792, -85.81792, -86.31341, -86.31341, -86.31341, -86.31341, -86.31341, -86.31341, -86.31341, -85.26765, -84.93525, -84.93525, -85.10706, -85.9456, -85.9456, -85.9456, -85.9456, -85.9456, -85.9456, -85.9456, -85.9456, -85.9456, -85.9456, -84.89067, -86.74717, -86.99889, -86.99889, -83.36513000000001, -82.81674, -86.47935, -86.47935, -84.38842, -84.40913, -84.213755, -85.65885, -85.65885, -85.65885, -85.75371, -93.60965999999999, -93.60965999999999, -93.60965999999999, -93.61636, -95.85888, -92.10263, -91.19335, -91.19335, -91.19335, -91.19335, -91.19335, -91.11910999999999, -91.17849, -90.61672, -88.37331999999999, -88.37331999999999, -88.37331999999999, -88.37331999999999, -88.37331999999999, -88.11034000000001, -88.18026, -88.00891, -88.00891, -87.8992, -87.8992, -87.8992, -87.8992, -88.99528000000001, -89.05837, -88.07449, -87.38044000000001, -87.38044000000001, -90.61457, -89.61922, -89.55621, -90.80066, -90.89904, -88.53556999999999, -88.40959000000001, -93.42557, -96.80015999999999, -96.80015999999999, -87.93621, -87.96779000000001, -87.92716999999999, -87.92716999999999, -88.07891, -88.02195999999999, -88.13688, -87.97688000000001, -87.97688000000001, -87.62408, -88.02753, -89.70537, -89.05595, -89.56654, -89.63382, -89.63382, -89.63382, -89.63382, -89.63382, -87.7495, -87.7495, -92.58341, -92.58341, -97.37191999999999, -95.26043, -99.53371, -99.53371, -99.53371, -99.53371, -99.53371, -99.53371, -99.53371, -99.53371, -98.25041999999999, -98.25041999999999, -97.68776, -98.24639, -98.24639, -98.24639, -98.24639, -98.24639, -106.20788, -106.197528, -106.197528, -106.197528, -106.197528, -106.29828, -106.29828, -106.29828, -106.29828, -109.55035, -117.6086, -117.6086, -117.6086, -117.6086, -117.05633, -117.05633, -117.54068000000001, -117.54068000000001, -121.91915], \"marker\": {\"color\": \"fuchsia\"}, \"mode\": \"markers\", \"name\": \"\", \"showlegend\": false, \"subplot\": \"mapbox\", \"type\": \"scattermapbox\"}],\n",
       "                        {\"height\": 800, \"legend\": {\"tracegroupgap\": 0}, \"mapbox\": {\"center\": {\"lat\": 38.83110101342288, \"lon\": -86.27106978523491}, \"domain\": {\"x\": [0.0, 1.0], \"y\": [0.0, 1.0]}, \"style\": \"open-street-map\", \"zoom\": 4}, \"margin\": {\"b\": 0, \"l\": 0, \"r\": 0, \"t\": 0}, \"template\": {\"data\": {\"bar\": [{\"error_x\": {\"color\": \"#2a3f5f\"}, \"error_y\": {\"color\": \"#2a3f5f\"}, \"marker\": {\"line\": {\"color\": \"#E5ECF6\", \"width\": 0.5}}, \"type\": \"bar\"}], \"barpolar\": [{\"marker\": {\"line\": {\"color\": \"#E5ECF6\", \"width\": 0.5}}, \"type\": \"barpolar\"}], \"carpet\": [{\"aaxis\": {\"endlinecolor\": \"#2a3f5f\", \"gridcolor\": \"white\", \"linecolor\": \"white\", \"minorgridcolor\": \"white\", \"startlinecolor\": \"#2a3f5f\"}, \"baxis\": {\"endlinecolor\": \"#2a3f5f\", \"gridcolor\": \"white\", \"linecolor\": \"white\", \"minorgridcolor\": \"white\", \"startlinecolor\": \"#2a3f5f\"}, \"type\": \"carpet\"}], \"choropleth\": [{\"colorbar\": {\"outlinewidth\": 0, \"ticks\": \"\"}, \"type\": \"choropleth\"}], \"contour\": [{\"colorbar\": {\"outlinewidth\": 0, \"ticks\": \"\"}, \"colorscale\": [[0.0, \"#0d0887\"], [0.1111111111111111, \"#46039f\"], [0.2222222222222222, \"#7201a8\"], [0.3333333333333333, \"#9c179e\"], [0.4444444444444444, \"#bd3786\"], [0.5555555555555556, \"#d8576b\"], [0.6666666666666666, \"#ed7953\"], [0.7777777777777778, \"#fb9f3a\"], [0.8888888888888888, \"#fdca26\"], [1.0, \"#f0f921\"]], \"type\": \"contour\"}], \"contourcarpet\": [{\"colorbar\": {\"outlinewidth\": 0, \"ticks\": \"\"}, \"type\": \"contourcarpet\"}], \"heatmap\": [{\"colorbar\": {\"outlinewidth\": 0, \"ticks\": \"\"}, \"colorscale\": [[0.0, \"#0d0887\"], [0.1111111111111111, \"#46039f\"], [0.2222222222222222, \"#7201a8\"], [0.3333333333333333, \"#9c179e\"], [0.4444444444444444, \"#bd3786\"], [0.5555555555555556, \"#d8576b\"], [0.6666666666666666, \"#ed7953\"], [0.7777777777777778, \"#fb9f3a\"], [0.8888888888888888, \"#fdca26\"], [1.0, \"#f0f921\"]], \"type\": \"heatmap\"}], \"heatmapgl\": [{\"colorbar\": {\"outlinewidth\": 0, \"ticks\": \"\"}, \"colorscale\": [[0.0, \"#0d0887\"], [0.1111111111111111, \"#46039f\"], [0.2222222222222222, \"#7201a8\"], [0.3333333333333333, \"#9c179e\"], [0.4444444444444444, \"#bd3786\"], [0.5555555555555556, \"#d8576b\"], [0.6666666666666666, \"#ed7953\"], [0.7777777777777778, \"#fb9f3a\"], [0.8888888888888888, \"#fdca26\"], [1.0, \"#f0f921\"]], \"type\": \"heatmapgl\"}], \"histogram\": [{\"marker\": {\"colorbar\": {\"outlinewidth\": 0, \"ticks\": \"\"}}, \"type\": \"histogram\"}], \"histogram2d\": [{\"colorbar\": {\"outlinewidth\": 0, \"ticks\": \"\"}, \"colorscale\": [[0.0, \"#0d0887\"], [0.1111111111111111, \"#46039f\"], [0.2222222222222222, \"#7201a8\"], [0.3333333333333333, \"#9c179e\"], [0.4444444444444444, \"#bd3786\"], [0.5555555555555556, \"#d8576b\"], [0.6666666666666666, \"#ed7953\"], [0.7777777777777778, \"#fb9f3a\"], [0.8888888888888888, \"#fdca26\"], [1.0, \"#f0f921\"]], \"type\": \"histogram2d\"}], \"histogram2dcontour\": [{\"colorbar\": {\"outlinewidth\": 0, \"ticks\": \"\"}, \"colorscale\": [[0.0, \"#0d0887\"], [0.1111111111111111, \"#46039f\"], [0.2222222222222222, \"#7201a8\"], [0.3333333333333333, \"#9c179e\"], [0.4444444444444444, \"#bd3786\"], [0.5555555555555556, \"#d8576b\"], [0.6666666666666666, \"#ed7953\"], [0.7777777777777778, \"#fb9f3a\"], [0.8888888888888888, \"#fdca26\"], [1.0, \"#f0f921\"]], \"type\": \"histogram2dcontour\"}], \"mesh3d\": [{\"colorbar\": {\"outlinewidth\": 0, \"ticks\": \"\"}, \"type\": \"mesh3d\"}], \"parcoords\": [{\"line\": {\"colorbar\": {\"outlinewidth\": 0, \"ticks\": \"\"}}, \"type\": \"parcoords\"}], \"pie\": [{\"automargin\": true, \"type\": \"pie\"}], \"scatter\": [{\"marker\": {\"colorbar\": {\"outlinewidth\": 0, \"ticks\": \"\"}}, \"type\": \"scatter\"}], \"scatter3d\": [{\"line\": {\"colorbar\": {\"outlinewidth\": 0, \"ticks\": \"\"}}, \"marker\": {\"colorbar\": {\"outlinewidth\": 0, \"ticks\": \"\"}}, \"type\": \"scatter3d\"}], \"scattercarpet\": [{\"marker\": {\"colorbar\": {\"outlinewidth\": 0, \"ticks\": \"\"}}, \"type\": \"scattercarpet\"}], \"scattergeo\": [{\"marker\": {\"colorbar\": {\"outlinewidth\": 0, \"ticks\": \"\"}}, \"type\": \"scattergeo\"}], \"scattergl\": [{\"marker\": {\"colorbar\": {\"outlinewidth\": 0, \"ticks\": \"\"}}, \"type\": \"scattergl\"}], \"scattermapbox\": [{\"marker\": {\"colorbar\": {\"outlinewidth\": 0, \"ticks\": \"\"}}, \"type\": \"scattermapbox\"}], \"scatterpolar\": [{\"marker\": {\"colorbar\": {\"outlinewidth\": 0, \"ticks\": \"\"}}, \"type\": \"scatterpolar\"}], \"scatterpolargl\": [{\"marker\": {\"colorbar\": {\"outlinewidth\": 0, \"ticks\": \"\"}}, \"type\": \"scatterpolargl\"}], \"scatterternary\": [{\"marker\": {\"colorbar\": {\"outlinewidth\": 0, \"ticks\": \"\"}}, \"type\": \"scatterternary\"}], \"surface\": [{\"colorbar\": {\"outlinewidth\": 0, \"ticks\": \"\"}, \"colorscale\": [[0.0, \"#0d0887\"], [0.1111111111111111, \"#46039f\"], [0.2222222222222222, \"#7201a8\"], [0.3333333333333333, \"#9c179e\"], [0.4444444444444444, \"#bd3786\"], [0.5555555555555556, \"#d8576b\"], [0.6666666666666666, \"#ed7953\"], [0.7777777777777778, \"#fb9f3a\"], [0.8888888888888888, \"#fdca26\"], [1.0, \"#f0f921\"]], \"type\": \"surface\"}], \"table\": [{\"cells\": {\"fill\": {\"color\": \"#EBF0F8\"}, \"line\": {\"color\": \"white\"}}, \"header\": {\"fill\": {\"color\": \"#C8D4E3\"}, \"line\": {\"color\": \"white\"}}, \"type\": \"table\"}]}, \"layout\": {\"annotationdefaults\": {\"arrowcolor\": \"#2a3f5f\", \"arrowhead\": 0, \"arrowwidth\": 1}, \"coloraxis\": {\"colorbar\": {\"outlinewidth\": 0, \"ticks\": \"\"}}, \"colorscale\": {\"diverging\": [[0, \"#8e0152\"], [0.1, \"#c51b7d\"], [0.2, \"#de77ae\"], [0.3, \"#f1b6da\"], [0.4, \"#fde0ef\"], [0.5, \"#f7f7f7\"], [0.6, \"#e6f5d0\"], [0.7, \"#b8e186\"], [0.8, \"#7fbc41\"], [0.9, \"#4d9221\"], [1, \"#276419\"]], \"sequential\": [[0.0, \"#0d0887\"], [0.1111111111111111, \"#46039f\"], [0.2222222222222222, \"#7201a8\"], [0.3333333333333333, \"#9c179e\"], [0.4444444444444444, \"#bd3786\"], [0.5555555555555556, \"#d8576b\"], [0.6666666666666666, \"#ed7953\"], [0.7777777777777778, \"#fb9f3a\"], [0.8888888888888888, \"#fdca26\"], [1.0, \"#f0f921\"]], \"sequentialminus\": [[0.0, \"#0d0887\"], [0.1111111111111111, \"#46039f\"], [0.2222222222222222, \"#7201a8\"], [0.3333333333333333, \"#9c179e\"], [0.4444444444444444, \"#bd3786\"], [0.5555555555555556, \"#d8576b\"], [0.6666666666666666, \"#ed7953\"], [0.7777777777777778, \"#fb9f3a\"], [0.8888888888888888, \"#fdca26\"], [1.0, \"#f0f921\"]]}, \"colorway\": [\"#636efa\", \"#EF553B\", \"#00cc96\", \"#ab63fa\", \"#FFA15A\", \"#19d3f3\", \"#FF6692\", \"#B6E880\", \"#FF97FF\", \"#FECB52\"], \"font\": {\"color\": \"#2a3f5f\"}, \"geo\": {\"bgcolor\": \"white\", \"lakecolor\": \"white\", \"landcolor\": \"#E5ECF6\", \"showlakes\": true, \"showland\": true, \"subunitcolor\": \"white\"}, \"hoverlabel\": {\"align\": \"left\"}, \"hovermode\": \"closest\", \"mapbox\": {\"style\": \"light\"}, \"paper_bgcolor\": \"white\", \"plot_bgcolor\": \"#E5ECF6\", \"polar\": {\"angularaxis\": {\"gridcolor\": \"white\", \"linecolor\": \"white\", \"ticks\": \"\"}, \"bgcolor\": \"#E5ECF6\", \"radialaxis\": {\"gridcolor\": \"white\", \"linecolor\": \"white\", \"ticks\": \"\"}}, \"scene\": {\"xaxis\": {\"backgroundcolor\": \"#E5ECF6\", \"gridcolor\": \"white\", \"gridwidth\": 2, \"linecolor\": \"white\", \"showbackground\": true, \"ticks\": \"\", \"zerolinecolor\": \"white\"}, \"yaxis\": {\"backgroundcolor\": \"#E5ECF6\", \"gridcolor\": \"white\", \"gridwidth\": 2, \"linecolor\": \"white\", \"showbackground\": true, \"ticks\": \"\", \"zerolinecolor\": \"white\"}, \"zaxis\": {\"backgroundcolor\": \"#E5ECF6\", \"gridcolor\": \"white\", \"gridwidth\": 2, \"linecolor\": \"white\", \"showbackground\": true, \"ticks\": \"\", \"zerolinecolor\": \"white\"}}, \"shapedefaults\": {\"line\": {\"color\": \"#2a3f5f\"}}, \"ternary\": {\"aaxis\": {\"gridcolor\": \"white\", \"linecolor\": \"white\", \"ticks\": \"\"}, \"baxis\": {\"gridcolor\": \"white\", \"linecolor\": \"white\", \"ticks\": \"\"}, \"bgcolor\": \"#E5ECF6\", \"caxis\": {\"gridcolor\": \"white\", \"linecolor\": \"white\", \"ticks\": \"\"}}, \"title\": {\"x\": 0.05}, \"xaxis\": {\"automargin\": true, \"gridcolor\": \"white\", \"linecolor\": \"white\", \"ticks\": \"\", \"title\": {\"standoff\": 15}, \"zerolinecolor\": \"white\", \"zerolinewidth\": 2}, \"yaxis\": {\"automargin\": true, \"gridcolor\": \"white\", \"linecolor\": \"white\", \"ticks\": \"\", \"title\": {\"standoff\": 15}, \"zerolinecolor\": \"white\", \"zerolinewidth\": 2}}}, \"width\": 2000},\n",
       "                        {\"responsive\": true}\n",
       "                    ).then(function(){\n",
       "                            \n",
       "var gd = document.getElementById('b343e5cc-02de-4646-8f48-6a542e26d239');\n",
       "var x = new MutationObserver(function (mutations, observer) {{\n",
       "        var display = window.getComputedStyle(gd).display;\n",
       "        if (!display || display === 'none') {{\n",
       "            console.log([gd, 'removed!']);\n",
       "            Plotly.purge(gd);\n",
       "            observer.disconnect();\n",
       "        }}\n",
       "}});\n",
       "\n",
       "// Listen for the removal of the full notebook cells\n",
       "var notebookContainer = gd.closest('#notebook-container');\n",
       "if (notebookContainer) {{\n",
       "    x.observe(notebookContainer, {childList: true});\n",
       "}}\n",
       "\n",
       "// Listen for the clearing of the current output cell\n",
       "var outputEl = gd.closest('.output');\n",
       "if (outputEl) {{\n",
       "    x.observe(outputEl, {childList: true});\n",
       "}}\n",
       "\n",
       "                        })\n",
       "                };\n",
       "                });\n",
       "            </script>\n",
       "        </div>"
      ]
     },
     "metadata": {},
     "output_type": "display_data"
    }
   ],
   "source": [
    "fig = px.scatter_mapbox(geo, lat=geo.latitude, lon=geo.longitude, color_discrete_sequence=[\"fuchsia\"], zoom=4, width=2000,height=800)\n",
    "fig.update_layout(mapbox_style=\"open-street-map\")\n",
    "fig.update_layout(margin={\"r\":0,\"t\":0,\"l\":0,\"b\":0})\n",
    "fig.show()"
   ]
  },
  {
   "cell_type": "code",
   "execution_count": 151,
   "metadata": {
    "scrolled": false
   },
   "outputs": [
    {
     "data": {
      "image/png": "[encoded data removed]",
      "text/plain": [
       "<Figure size 432x288 with 1 Axes>"
      ]
     },
     "metadata": {
      "needs_background": "light"
     },
     "output_type": "display_data"
    }
   ],
   "source": [
    "distortions = []\n",
    "K = range(1,20)\n",
    "for k in K:\n",
    "    kmeans = KMeans(n_clusters=k, random_state=0).fit(geo)\n",
    "    distortions.append(sum(np.min(cdist(geo,kmeans.cluster_centers_,'euclidean'),axis=1))/geo.shape[0])\n",
    "\n",
    "df_distortion = pd.DataFrame(distortions,columns=['sum_square_distances_to_center'])\n",
    "df_distortion.to_csv(r'C:\\Users\\u279014\\Documents\\H_Drive\\7.AA Models\\12.Logistic_Optimization\\data\\k_selection.csv',index='No_cluster')  \n",
    "\n",
    "    # Plot the elbow\n",
    "plt.plot(K, distortions, 'bx-')\n",
    "plt.xlabel('k')\n",
    "plt.ylabel('Distortion')\n",
    "plt.title('The Elbow Method showing the optimal k')\n",
    "plt.show()"
   ]
  },
  {
   "cell_type": "code",
   "execution_count": 152,
   "metadata": {},
   "outputs": [],
   "source": [
    "df_distortion['distortion_moving_diff'] = df_distortion.sum_square_distances_to_center.diff(-1)"
   ]
  },
  {
   "cell_type": "code",
   "execution_count": 153,
   "metadata": {},
   "outputs": [
    {
     "data": {
      "image/png": "[encoded data removed]",
      "text/plain": [
       "<Figure size 432x288 with 1 Axes>"
      ]
     },
     "metadata": {
      "needs_background": "light"
     },
     "output_type": "display_data"
    }
   ],
   "source": [
    "plt.plot(K, df_distortion.distortion_moving_diff, 'bx-')\n",
    "plt.xlabel('k')\n",
    "plt.ylabel('Distortion_DIFF')\n",
    "plt.title('The Elbow Method showing the optimal k')\n",
    "plt.show()"
   ]
  },
  {
   "cell_type": "code",
   "execution_count": 154,
   "metadata": {},
   "outputs": [],
   "source": [
    "df_distortion.to_csv(r'C:\\Users\\u279014\\Documents\\H_Drive\\7.AA Models\\12.Logistic_Optimization\\data\\k_selection.csv',index='No_cluster')  "
   ]
  },
  {
   "cell_type": "code",
   "execution_count": 155,
   "metadata": {
    "scrolled": true
   },
   "outputs": [],
   "source": [
    "id_n=6\n",
    "kmeans = KMeans(n_clusters=id_n, random_state=0).fit(geo)\n",
    "id_label=kmeans.labels_\n",
    "kmeans_centers = kmeans.cluster_centers_"
   ]
  },
  {
   "cell_type": "code",
   "execution_count": 156,
   "metadata": {
    "scrolled": true
   },
   "outputs": [],
   "source": [
    "geo_cass = cass_zip\n",
    "geo_cass['label'] = kmeans.labels_\n",
    "cluster_centers = pd.DataFrame(kmeans_centers, columns=['longitude','latitude'])\n",
    "geo_cass.to_csv(r'C:\\Users\\u279014\\Documents\\H_Drive\\7.AA Models\\12.Logistic_Optimization\\data\\geo_cass.csv',index=False)  "
   ]
  },
  {
   "cell_type": "code",
   "execution_count": 157,
   "metadata": {},
   "outputs": [],
   "source": [
    "from plotly.graph_objs import *"
   ]
  },
  {
   "cell_type": "code",
   "execution_count": 158,
   "metadata": {
    "scrolled": false
   },
   "outputs": [
    {
     "name": "stderr",
     "output_type": "stream",
     "text": [
      "C:\\Users\\U279014\\AppData\\Roaming\\Python\\Python37\\site-packages\\plotly\\graph_objs\\_deprecations.py:40: DeprecationWarning:\n",
      "\n",
      "plotly.graph_objs.Data is deprecated.\n",
      "Please replace it with a list or tuple of instances of the following types\n",
      "  - plotly.graph_objs.Scatter\n",
      "  - plotly.graph_objs.Bar\n",
      "  - plotly.graph_objs.Area\n",
      "  - plotly.graph_objs.Histogram\n",
      "  - etc.\n",
      "\n",
      "\n"
     ]
    },
    {
     "data": {
      "application/vnd.plotly.v1+json": {
       "config": {
        "plotlyServerURL": "https://plot.ly"
       },
       "data": [
        {
         "lat": [
          40.670138,
          40.670138,
          40.670138,
          40.700068,
          40.725968,
          40.725968,
          42.453663,
          42.453663,
          42.091924,
          40.404119,
          40.44952,
          40.299646,
          40.319956,
          40.954059,
          40.325374,
          40.325374,
          40.325374,
          40.348973,
          40.348973,
          40.348973,
          40.348973,
          40.348973,
          40.498793,
          41.607955,
          42.110757,
          42.126956,
          40.264389,
          39.931123,
          39.931123,
          39.931123,
          39.931123,
          39.931123,
          39.931123,
          39.931123,
          39.931123,
          39.931123,
          39.931123,
          39.792122,
          39.792122,
          39.792122,
          39.942589,
          40.076657,
          40.053308,
          39.965131,
          39.962821000000005,
          39.962821000000005,
          40.645665,
          40.645665,
          40.656498,
          41.345579,
          41.197908,
          40.13477,
          39.832762,
          39.832762,
          40.214661,
          40.123708,
          40.390943,
          39.626296999999994,
          39.432272999999995,
          39.432272999999995,
          39.432272999999995,
          39.432272999999995,
          39.211758,
          39.332240000000006,
          39.423344,
          37.107273,
          37.107273,
          35.679194,
          35.384344,
          35.501447999999996,
          35.501447999999996,
          35.263287,
          35.229565,
          35.407499,
          35.407499,
          35.407499,
          35.003712,
          35.003712,
          35.003712,
          35.003712,
          35.173377,
          34.738793,
          34.911417,
          34.911417,
          35.295403,
          35.599363000000004,
          35.575877,
          34.002167,
          34.789884,
          34.681278999999996,
          34.914611,
          34.914611,
          34.914611,
          34.914611,
          34.001159,
          34.001159,
          34.027533,
          33.909952000000004,
          34.12115,
          34.12115,
          34.12115,
          34.12115,
          34.12115,
          34.416521,
          34.416521,
          34.188280999999996,
          34.188280999999996,
          34.167309,
          34.167309,
          34.167309,
          34.167309,
          34.167309,
          36.112058000000005,
          35.929314,
          35.929314,
          35.929314,
          38.87872,
          36.866845,
          41.388519,
          41.388519,
          41.29037,
          41.29037,
          41.540724,
          41.540724,
          41.540724,
          41.688162,
          41.688162,
          41.688162,
          41.688162,
          41.688162,
          41.484688,
          41.454439,
          41.454439,
          41.017522,
          41.249404999999996,
          41.249404999999996,
          41.090089,
          41.090089,
          40.843685,
          40.815179,
          40.815179,
          39.276271,
          39.276271,
          39.242559,
          39.958117,
          39.820807,
          40.452556,
          40.874092,
          40.874092,
          40.047965999999995,
          40.047965999999995,
          40.047965999999995,
          40.333771999999996,
          41.170584000000005,
          41.47339,
          41.47339,
          41.47339,
          41.47339,
          41.725061,
          41.725061,
          41.667797,
          41.667797,
          41.667797,
          41.667797,
          41.667797,
          41.667797,
          41.667797,
          41.449897,
          41.267553,
          41.267553,
          41.070498,
          39.185340999999994,
          39.185340999999994,
          39.185340999999994,
          39.185340999999994,
          39.185340999999994,
          39.185340999999994,
          39.185340999999994,
          39.185340999999994,
          39.185340999999994,
          39.185340999999994,
          39.831061,
          38.387935,
          38.170876,
          38.170876,
          42.365936,
          43.264205,
          42.074435,
          42.074435,
          42.252268,
          42.227536,
          42.252846999999996,
          42.964176,
          42.964176,
          42.964176,
          42.999561,
          42.02933,
          42.02933,
          42.02933,
          41.637638,
          43.184994,
          43.382021,
          42.221176,
          42.221176,
          42.221176,
          42.221176,
          42.221176,
          40.814207,
          40.830534,
          41.513182,
          43.313361,
          43.313361,
          43.313361,
          43.313361,
          43.313361,
          43.151183,
          43.40328,
          42.896145000000004,
          42.896145000000004,
          42.884347,
          42.884347,
          42.884347,
          42.884347,
          42.666761,
          43.407179,
          44.179504,
          44.844133,
          44.844133,
          44.553719,
          44.885168,
          44.524054,
          44.277231,
          43.543934,
          44.293820000000004,
          44.212447999999995,
          44.867013,
          46.900348,
          46.900348,
          42.065427,
          42.229856,
          42.188074,
          42.188074,
          41.920228,
          41.972328000000005,
          41.918578000000004,
          41.962979,
          41.962979,
          41.350484,
          41.598234999999995,
          41.813776000000004,
          42.213439,
          40.817586999999996,
          40.567088,
          40.567088,
          40.567088,
          40.567088,
          40.567088,
          39.004728,
          39.004728,
          40.183335,
          40.183335,
          41.437838,
          29.760794,
          27.648832000000002,
          27.648832000000002,
          27.648832000000002,
          27.648832000000002,
          27.648832000000002,
          27.648832000000002,
          27.648832000000002,
          27.648832000000002,
          26.172017999999998,
          26.172017999999998,
          26.206602,
          26.105725,
          26.105725,
          26.105725,
          26.105725,
          26.105725,
          31.684338,
          31.674736,
          31.674736,
          31.674736,
          31.674736,
          31.766354999999997,
          31.766354999999997,
          31.766354999999997,
          31.766354999999997,
          31.382775,
          34.036085,
          34.036085,
          34.036085,
          34.036085,
          32.574397999999995,
          32.574397999999995,
          33.8808,
          33.8808,
          47.193729
         ],
         "lon": [
          -73.75140999999999,
          -73.75140999999999,
          -73.75140999999999,
          -73.80986,
          -73.44151,
          -73.44151,
          -76.06983000000001,
          -76.06983000000001,
          -76.79217,
          -80.09014,
          -80.179475,
          -79.38845,
          -79.35901,
          -78.97017,
          -78.91485,
          -78.91485,
          -78.91485,
          -78.94131999999999,
          -78.94131999999999,
          -78.94131999999999,
          -78.94131999999999,
          -78.94131999999999,
          -78.74591,
          -80.29601,
          -80.10024,
          -80.0004,
          -76.80298,
          -77.66139,
          -77.66139,
          -77.66139,
          -77.66139,
          -77.66139,
          -77.66139,
          -77.66139,
          -77.66139,
          -77.66139,
          -77.66139,
          -77.74923000000001,
          -77.74923000000001,
          -77.74923000000001,
          -77.99529,
          -77.65433,
          -77.50622,
          -77.00863000000001,
          -76.76764,
          -76.76764,
          -75.36926,
          -75.36926,
          -75.32938,
          -75.97596,
          -76.00325,
          -75.20374,
          -75.44063,
          -75.44063,
          -74.81812,
          -75.33843,
          -75.9375,
          -75.71386,
          -76.35578000000001,
          -76.35578000000001,
          -76.35578000000001,
          -76.35578000000001,
          -76.56623,
          -76.50365,
          -77.38902,
          -80.67384,
          -80.67384,
          -78.60246,
          -78.00893,
          -81.00412,
          -81.00412,
          -81.15312,
          -81.12847,
          -80.41228000000001,
          -80.41228000000001,
          -80.41228000000001,
          -78.92179,
          -78.92179,
          -78.92179,
          -78.92179,
          -79.013799,
          -77.97788,
          -77.77153,
          -77.77153,
          -82.388325,
          -82.50007,
          -82.6062,
          -79.19325,
          -82.56459,
          -82.19731999999999,
          -81.0125,
          -81.0125,
          -81.0125,
          -81.0125,
          -84.01487,
          -84.01487,
          -84.51475,
          -84.1794,
          -84.01804,
          -84.01804,
          -84.01804,
          -84.01804,
          -84.01804,
          -84.10849,
          -84.10849,
          -83.91813,
          -83.91813,
          -83.68536,
          -83.68536,
          -83.68536,
          -83.68536,
          -83.68536,
          -86.77626,
          -85.05926,
          -85.05926,
          -85.05926,
          -84.62558,
          -87.47617,
          -83.65795,
          -83.65795,
          -84.36539,
          -84.36539,
          -83.58904,
          -83.58904,
          -83.58904,
          -81.33378,
          -81.33378,
          -81.33378,
          -81.33378,
          -81.33378,
          -81.70125,
          -81.92865,
          -81.92865,
          -81.61616,
          -81.34404,
          -81.34404,
          -80.86735999999999,
          -80.86735999999999,
          -81.26298,
          -82.97091,
          -82.97091,
          -84.39324,
          -84.39324,
          -84.36041999999999,
          -84.33335,
          -84.19381,
          -84.38731,
          -84.57871,
          -84.57871,
          -86.46592,
          -86.46592,
          -86.46592,
          -86.38161,
          -87.33142,
          -87.03165,
          -87.03165,
          -87.03165,
          -87.03165,
          -85.81792,
          -85.81792,
          -86.31341,
          -86.31341,
          -86.31341,
          -86.31341,
          -86.31341,
          -86.31341,
          -86.31341,
          -85.26765,
          -84.93525,
          -84.93525,
          -85.10706,
          -85.9456,
          -85.9456,
          -85.9456,
          -85.9456,
          -85.9456,
          -85.9456,
          -85.9456,
          -85.9456,
          -85.9456,
          -85.9456,
          -84.89067,
          -86.74717,
          -86.99889,
          -86.99889,
          -83.36513000000001,
          -82.81674,
          -86.47935,
          -86.47935,
          -84.38842,
          -84.40913,
          -84.213755,
          -85.65885,
          -85.65885,
          -85.65885,
          -85.75371,
          -93.60965999999999,
          -93.60965999999999,
          -93.60965999999999,
          -93.61636,
          -95.85888,
          -92.10263,
          -91.19335,
          -91.19335,
          -91.19335,
          -91.19335,
          -91.19335,
          -91.11910999999999,
          -91.17849,
          -90.61672,
          -88.37331999999999,
          -88.37331999999999,
          -88.37331999999999,
          -88.37331999999999,
          -88.37331999999999,
          -88.11034000000001,
          -88.18026,
          -88.00891,
          -88.00891,
          -87.8992,
          -87.8992,
          -87.8992,
          -87.8992,
          -88.99528000000001,
          -89.05837,
          -88.07449,
          -87.38044000000001,
          -87.38044000000001,
          -90.61457,
          -89.61922,
          -89.55621,
          -90.80066,
          -90.89904,
          -88.53556999999999,
          -88.40959000000001,
          -93.42557,
          -96.80015999999999,
          -96.80015999999999,
          -87.93621,
          -87.96779000000001,
          -87.92716999999999,
          -87.92716999999999,
          -88.07891,
          -88.02195999999999,
          -88.13688,
          -87.97688000000001,
          -87.97688000000001,
          -87.62408,
          -88.02753,
          -89.70537,
          -89.05595,
          -89.56654,
          -89.63382,
          -89.63382,
          -89.63382,
          -89.63382,
          -89.63382,
          -87.7495,
          -87.7495,
          -92.58341,
          -92.58341,
          -97.37191999999999,
          -95.26043,
          -99.53371,
          -99.53371,
          -99.53371,
          -99.53371,
          -99.53371,
          -99.53371,
          -99.53371,
          -99.53371,
          -98.25041999999999,
          -98.25041999999999,
          -97.68776,
          -98.24639,
          -98.24639,
          -98.24639,
          -98.24639,
          -98.24639,
          -106.20788,
          -106.197528,
          -106.197528,
          -106.197528,
          -106.197528,
          -106.29828,
          -106.29828,
          -106.29828,
          -106.29828,
          -109.55035,
          -117.6086,
          -117.6086,
          -117.6086,
          -117.6086,
          -117.05633,
          -117.05633,
          -117.54068000000001,
          -117.54068000000001,
          -121.91915
         ],
         "marker": {
          "color": "fuchsia",
          "opacity": 0.6,
          "size": 6,
          "sizemode": "area",
          "sizeref": 20
         },
         "mode": "markers",
         "type": "scattermapbox"
        },
        {
         "lat": [
          40.35960534328358,
          42.636705890625,
          40.75291938271605,
          34.763124,
          28.67228519230769,
          34.89456484
         ],
         "lon": [
          -77.21464141791046,
          -90.00072921875,
          -84.90656981481482,
          -117.109792,
          -101.27468353846155,
          -81.87358608
         ],
         "marker": {
          "color": "firebrick",
          "opacity": 0.5,
          "size": 37,
          "sizemode": "area",
          "sizeref": 10
         },
         "mode": "markers",
         "type": "scattermapbox"
        }
       ],
       "layout": {
        "autosize": false,
        "height": 900,
        "mapbox": {
         "center": {
          "lat": 40.7194,
          "lon": -73.89
         },
         "style": "open-street-map",
         "zoom": 8
        },
        "margin": {
         "b": 0,
         "l": 0,
         "r": 0,
         "t": 0
        },
        "template": {
         "data": {
          "bar": [
           {
            "error_x": {
             "color": "#2a3f5f"
            },
            "error_y": {
             "color": "#2a3f5f"
            },
            "marker": {
             "line": {
              "color": "#E5ECF6",
              "width": 0.5
             }
            },
            "type": "bar"
           }
          ],
          "barpolar": [
           {
            "marker": {
             "line": {
              "color": "#E5ECF6",
              "width": 0.5
             }
            },
            "type": "barpolar"
           }
          ],
          "carpet": [
           {
            "aaxis": {
             "endlinecolor": "#2a3f5f",
             "gridcolor": "white",
             "linecolor": "white",
             "minorgridcolor": "white",
             "startlinecolor": "#2a3f5f"
            },
            "baxis": {
             "endlinecolor": "#2a3f5f",
             "gridcolor": "white",
             "linecolor": "white",
             "minorgridcolor": "white",
             "startlinecolor": "#2a3f5f"
            },
            "type": "carpet"
           }
          ],
          "choropleth": [
           {
            "colorbar": {
             "outlinewidth": 0,
             "ticks": ""
            },
            "type": "choropleth"
           }
          ],
          "contour": [
           {
            "colorbar": {
             "outlinewidth": 0,
             "ticks": ""
            },
            "colorscale": [
             [
              0,
              "#0d0887"
             ],
             [
              0.1111111111111111,
              "#46039f"
             ],
             [
              0.2222222222222222,
              "#7201a8"
             ],
             [
              0.3333333333333333,
              "#9c179e"
             ],
             [
              0.4444444444444444,
              "#bd3786"
             ],
             [
              0.5555555555555556,
              "#d8576b"
             ],
             [
              0.6666666666666666,
              "#ed7953"
             ],
             [
              0.7777777777777778,
              "#fb9f3a"
             ],
             [
              0.8888888888888888,
              "#fdca26"
             ],
             [
              1,
              "#f0f921"
             ]
            ],
            "type": "contour"
           }
          ],
          "contourcarpet": [
           {
            "colorbar": {
             "outlinewidth": 0,
             "ticks": ""
            },
            "type": "contourcarpet"
           }
          ],
          "heatmap": [
           {
            "colorbar": {
             "outlinewidth": 0,
             "ticks": ""
            },
            "colorscale": [
             [
              0,
              "#0d0887"
             ],
             [
              0.1111111111111111,
              "#46039f"
             ],
             [
              0.2222222222222222,
              "#7201a8"
             ],
             [
              0.3333333333333333,
              "#9c179e"
             ],
             [
              0.4444444444444444,
              "#bd3786"
             ],
             [
              0.5555555555555556,
              "#d8576b"
             ],
             [
              0.6666666666666666,
              "#ed7953"
             ],
             [
              0.7777777777777778,
              "#fb9f3a"
             ],
             [
              0.8888888888888888,
              "#fdca26"
             ],
             [
              1,
              "#f0f921"
             ]
            ],
            "type": "heatmap"
           }
          ],
          "heatmapgl": [
           {
            "colorbar": {
             "outlinewidth": 0,
             "ticks": ""
            },
            "colorscale": [
             [
              0,
              "#0d0887"
             ],
             [
              0.1111111111111111,
              "#46039f"
             ],
             [
              0.2222222222222222,
              "#7201a8"
             ],
             [
              0.3333333333333333,
              "#9c179e"
             ],
             [
              0.4444444444444444,
              "#bd3786"
             ],
             [
              0.5555555555555556,
              "#d8576b"
             ],
             [
              0.6666666666666666,
              "#ed7953"
             ],
             [
              0.7777777777777778,
              "#fb9f3a"
             ],
             [
              0.8888888888888888,
              "#fdca26"
             ],
             [
              1,
              "#f0f921"
             ]
            ],
            "type": "heatmapgl"
           }
          ],
          "histogram": [
           {
            "marker": {
             "colorbar": {
              "outlinewidth": 0,
              "ticks": ""
             }
            },
            "type": "histogram"
           }
          ],
          "histogram2d": [
           {
            "colorbar": {
             "outlinewidth": 0,
             "ticks": ""
            },
            "colorscale": [
             [
              0,
              "#0d0887"
             ],
             [
              0.1111111111111111,
              "#46039f"
             ],
             [
              0.2222222222222222,
              "#7201a8"
             ],
             [
              0.3333333333333333,
              "#9c179e"
             ],
             [
              0.4444444444444444,
              "#bd3786"
             ],
             [
              0.5555555555555556,
              "#d8576b"
             ],
             [
              0.6666666666666666,
              "#ed7953"
             ],
             [
              0.7777777777777778,
              "#fb9f3a"
             ],
             [
              0.8888888888888888,
              "#fdca26"
             ],
             [
              1,
              "#f0f921"
             ]
            ],
            "type": "histogram2d"
           }
          ],
          "histogram2dcontour": [
           {
            "colorbar": {
             "outlinewidth": 0,
             "ticks": ""
            },
            "colorscale": [
             [
              0,
              "#0d0887"
             ],
             [
              0.1111111111111111,
              "#46039f"
             ],
             [
              0.2222222222222222,
              "#7201a8"
             ],
             [
              0.3333333333333333,
              "#9c179e"
             ],
             [
              0.4444444444444444,
              "#bd3786"
             ],
             [
              0.5555555555555556,
              "#d8576b"
             ],
             [
              0.6666666666666666,
              "#ed7953"
             ],
             [
              0.7777777777777778,
              "#fb9f3a"
             ],
             [
              0.8888888888888888,
              "#fdca26"
             ],
             [
              1,
              "#f0f921"
             ]
            ],
            "type": "histogram2dcontour"
           }
          ],
          "mesh3d": [
           {
            "colorbar": {
             "outlinewidth": 0,
             "ticks": ""
            },
            "type": "mesh3d"
           }
          ],
          "parcoords": [
           {
            "line": {
             "colorbar": {
              "outlinewidth": 0,
              "ticks": ""
             }
            },
            "type": "parcoords"
           }
          ],
          "pie": [
           {
            "automargin": true,
            "type": "pie"
           }
          ],
          "scatter": [
           {
            "marker": {
             "colorbar": {
              "outlinewidth": 0,
              "ticks": ""
             }
            },
            "type": "scatter"
           }
          ],
          "scatter3d": [
           {
            "line": {
             "colorbar": {
              "outlinewidth": 0,
              "ticks": ""
             }
            },
            "marker": {
             "colorbar": {
              "outlinewidth": 0,
              "ticks": ""
             }
            },
            "type": "scatter3d"
           }
          ],
          "scattercarpet": [
           {
            "marker": {
             "colorbar": {
              "outlinewidth": 0,
              "ticks": ""
             }
            },
            "type": "scattercarpet"
           }
          ],
          "scattergeo": [
           {
            "marker": {
             "colorbar": {
              "outlinewidth": 0,
              "ticks": ""
             }
            },
            "type": "scattergeo"
           }
          ],
          "scattergl": [
           {
            "marker": {
             "colorbar": {
              "outlinewidth": 0,
              "ticks": ""
             }
            },
            "type": "scattergl"
           }
          ],
          "scattermapbox": [
           {
            "marker": {
             "colorbar": {
              "outlinewidth": 0,
              "ticks": ""
             }
            },
            "type": "scattermapbox"
           }
          ],
          "scatterpolar": [
           {
            "marker": {
             "colorbar": {
              "outlinewidth": 0,
              "ticks": ""
             }
            },
            "type": "scatterpolar"
           }
          ],
          "scatterpolargl": [
           {
            "marker": {
             "colorbar": {
              "outlinewidth": 0,
              "ticks": ""
             }
            },
            "type": "scatterpolargl"
           }
          ],
          "scatterternary": [
           {
            "marker": {
             "colorbar": {
              "outlinewidth": 0,
              "ticks": ""
             }
            },
            "type": "scatterternary"
           }
          ],
          "surface": [
           {
            "colorbar": {
             "outlinewidth": 0,
             "ticks": ""
            },
            "colorscale": [
             [
              0,
              "#0d0887"
             ],
             [
              0.1111111111111111,
              "#46039f"
             ],
             [
              0.2222222222222222,
              "#7201a8"
             ],
             [
              0.3333333333333333,
              "#9c179e"
             ],
             [
              0.4444444444444444,
              "#bd3786"
             ],
             [
              0.5555555555555556,
              "#d8576b"
             ],
             [
              0.6666666666666666,
              "#ed7953"
             ],
             [
              0.7777777777777778,
              "#fb9f3a"
             ],
             [
              0.8888888888888888,
              "#fdca26"
             ],
             [
              1,
              "#f0f921"
             ]
            ],
            "type": "surface"
           }
          ],
          "table": [
           {
            "cells": {
             "fill": {
              "color": "#EBF0F8"
             },
             "line": {
              "color": "white"
             }
            },
            "header": {
             "fill": {
              "color": "#C8D4E3"
             },
             "line": {
              "color": "white"
             }
            },
            "type": "table"
           }
          ]
         },
         "layout": {
          "annotationdefaults": {
           "arrowcolor": "#2a3f5f",
           "arrowhead": 0,
           "arrowwidth": 1
          },
          "coloraxis": {
           "colorbar": {
            "outlinewidth": 0,
            "ticks": ""
           }
          },
          "colorscale": {
           "diverging": [
            [
             0,
             "#8e0152"
            ],
            [
             0.1,
             "#c51b7d"
            ],
            [
             0.2,
             "#de77ae"
            ],
            [
             0.3,
             "#f1b6da"
            ],
            [
             0.4,
             "#fde0ef"
            ],
            [
             0.5,
             "#f7f7f7"
            ],
            [
             0.6,
             "#e6f5d0"
            ],
            [
             0.7,
             "#b8e186"
            ],
            [
             0.8,
             "#7fbc41"
            ],
            [
             0.9,
             "#4d9221"
            ],
            [
             1,
             "#276419"
            ]
           ],
           "sequential": [
            [
             0,
             "#0d0887"
            ],
            [
             0.1111111111111111,
             "#46039f"
            ],
            [
             0.2222222222222222,
             "#7201a8"
            ],
            [
             0.3333333333333333,
             "#9c179e"
            ],
            [
             0.4444444444444444,
             "#bd3786"
            ],
            [
             0.5555555555555556,
             "#d8576b"
            ],
            [
             0.6666666666666666,
             "#ed7953"
            ],
            [
             0.7777777777777778,
             "#fb9f3a"
            ],
            [
             0.8888888888888888,
             "#fdca26"
            ],
            [
             1,
             "#f0f921"
            ]
           ],
           "sequentialminus": [
            [
             0,
             "#0d0887"
            ],
            [
             0.1111111111111111,
             "#46039f"
            ],
            [
             0.2222222222222222,
             "#7201a8"
            ],
            [
             0.3333333333333333,
             "#9c179e"
            ],
            [
             0.4444444444444444,
             "#bd3786"
            ],
            [
             0.5555555555555556,
             "#d8576b"
            ],
            [
             0.6666666666666666,
             "#ed7953"
            ],
            [
             0.7777777777777778,
             "#fb9f3a"
            ],
            [
             0.8888888888888888,
             "#fdca26"
            ],
            [
             1,
             "#f0f921"
            ]
           ]
          },
          "colorway": [
           "#636efa",
           "#EF553B",
           "#00cc96",
           "#ab63fa",
           "#FFA15A",
           "#19d3f3",
           "#FF6692",
           "#B6E880",
           "#FF97FF",
           "#FECB52"
          ],
          "font": {
           "color": "#2a3f5f"
          },
          "geo": {
           "bgcolor": "white",
           "lakecolor": "white",
           "landcolor": "#E5ECF6",
           "showlakes": true,
           "showland": true,
           "subunitcolor": "white"
          },
          "hoverlabel": {
           "align": "left"
          },
          "hovermode": "closest",
          "mapbox": {
           "style": "light"
          },
          "paper_bgcolor": "white",
          "plot_bgcolor": "#E5ECF6",
          "polar": {
           "angularaxis": {
            "gridcolor": "white",
            "linecolor": "white",
            "ticks": ""
           },
           "bgcolor": "#E5ECF6",
           "radialaxis": {
            "gridcolor": "white",
            "linecolor": "white",
            "ticks": ""
           }
          },
          "scene": {
           "xaxis": {
            "backgroundcolor": "#E5ECF6",
            "gridcolor": "white",
            "gridwidth": 2,
            "linecolor": "white",
            "showbackground": true,
            "ticks": "",
            "zerolinecolor": "white"
           },
           "yaxis": {
            "backgroundcolor": "#E5ECF6",
            "gridcolor": "white",
            "gridwidth": 2,
            "linecolor": "white",
            "showbackground": true,
            "ticks": "",
            "zerolinecolor": "white"
           },
           "zaxis": {
            "backgroundcolor": "#E5ECF6",
            "gridcolor": "white",
            "gridwidth": 2,
            "linecolor": "white",
            "showbackground": true,
            "ticks": "",
            "zerolinecolor": "white"
           }
          },
          "shapedefaults": {
           "line": {
            "color": "#2a3f5f"
           }
          },
          "ternary": {
           "aaxis": {
            "gridcolor": "white",
            "linecolor": "white",
            "ticks": ""
           },
           "baxis": {
            "gridcolor": "white",
            "linecolor": "white",
            "ticks": ""
           },
           "bgcolor": "#E5ECF6",
           "caxis": {
            "gridcolor": "white",
            "linecolor": "white",
            "ticks": ""
           }
          },
          "title": {
           "x": 0.05
          },
          "xaxis": {
           "automargin": true,
           "gridcolor": "white",
           "linecolor": "white",
           "ticks": "",
           "title": {
            "standoff": 15
           },
           "zerolinecolor": "white",
           "zerolinewidth": 2
          },
          "yaxis": {
           "automargin": true,
           "gridcolor": "white",
           "linecolor": "white",
           "ticks": "",
           "title": {
            "standoff": 15
           },
           "zerolinecolor": "white",
           "zerolinewidth": 2
          }
         }
        },
        "title": {
         "text": "Two Distinct Traces on Scatter Mapbox"
        },
        "width": 1900
       }
      },
      "text/html": [
       "<div>\n",
       "        \n",
       "        \n",
       "            <div id=\"e737e616-de0f-495d-ab02-942ed862282d\" class=\"plotly-graph-div\" style=\"height:900px; width:1900px;\"></div>\n",
       "            <script type=\"text/javascript\">\n",
       "                require([\"plotly\"], function(Plotly) {\n",
       "                    window.PLOTLYENV=window.PLOTLYENV || {};\n",
       "                    \n",
       "                if (document.getElementById(\"e737e616-de0f-495d-ab02-942ed862282d\")) {\n",
       "                    Plotly.newPlot(\n",
       "                        'e737e616-de0f-495d-ab02-942ed862282d',\n",
       "                        [{\"lat\": [40.670138, 40.670138, 40.670138, 40.700068, 40.725968, 40.725968, 42.453663, 42.453663, 42.091924, 40.404119, 40.44952, 40.299646, 40.319956, 40.954059, 40.325374, 40.325374, 40.325374, 40.348973, 40.348973, 40.348973, 40.348973, 40.348973, 40.498793, 41.607955, 42.110757, 42.126956, 40.264389, 39.931123, 39.931123, 39.931123, 39.931123, 39.931123, 39.931123, 39.931123, 39.931123, 39.931123, 39.931123, 39.792122, 39.792122, 39.792122, 39.942589, 40.076657, 40.053308, 39.965131, 39.962821000000005, 39.962821000000005, 40.645665, 40.645665, 40.656498, 41.345579, 41.197908, 40.13477, 39.832762, 39.832762, 40.214661, 40.123708, 40.390943, 39.626296999999994, 39.432272999999995, 39.432272999999995, 39.432272999999995, 39.432272999999995, 39.211758, 39.332240000000006, 39.423344, 37.107273, 37.107273, 35.679194, 35.384344, 35.501447999999996, 35.501447999999996, 35.263287, 35.229565, 35.407499, 35.407499, 35.407499, 35.003712, 35.003712, 35.003712, 35.003712, 35.173377, 34.738793, 34.911417, 34.911417, 35.295403, 35.599363000000004, 35.575877, 34.002167, 34.789884, 34.681278999999996, 34.914611, 34.914611, 34.914611, 34.914611, 34.001159, 34.001159, 34.027533, 33.909952000000004, 34.12115, 34.12115, 34.12115, 34.12115, 34.12115, 34.416521, 34.416521, 34.188280999999996, 34.188280999999996, 34.167309, 34.167309, 34.167309, 34.167309, 34.167309, 36.112058000000005, 35.929314, 35.929314, 35.929314, 38.87872, 36.866845, 41.388519, 41.388519, 41.29037, 41.29037, 41.540724, 41.540724, 41.540724, 41.688162, 41.688162, 41.688162, 41.688162, 41.688162, 41.484688, 41.454439, 41.454439, 41.017522, 41.249404999999996, 41.249404999999996, 41.090089, 41.090089, 40.843685, 40.815179, 40.815179, 39.276271, 39.276271, 39.242559, 39.958117, 39.820807, 40.452556, 40.874092, 40.874092, 40.047965999999995, 40.047965999999995, 40.047965999999995, 40.333771999999996, 41.170584000000005, 41.47339, 41.47339, 41.47339, 41.47339, 41.725061, 41.725061, 41.667797, 41.667797, 41.667797, 41.667797, 41.667797, 41.667797, 41.667797, 41.449897, 41.267553, 41.267553, 41.070498, 39.185340999999994, 39.185340999999994, 39.185340999999994, 39.185340999999994, 39.185340999999994, 39.185340999999994, 39.185340999999994, 39.185340999999994, 39.185340999999994, 39.185340999999994, 39.831061, 38.387935, 38.170876, 38.170876, 42.365936, 43.264205, 42.074435, 42.074435, 42.252268, 42.227536, 42.252846999999996, 42.964176, 42.964176, 42.964176, 42.999561, 42.02933, 42.02933, 42.02933, 41.637638, 43.184994, 43.382021, 42.221176, 42.221176, 42.221176, 42.221176, 42.221176, 40.814207, 40.830534, 41.513182, 43.313361, 43.313361, 43.313361, 43.313361, 43.313361, 43.151183, 43.40328, 42.896145000000004, 42.896145000000004, 42.884347, 42.884347, 42.884347, 42.884347, 42.666761, 43.407179, 44.179504, 44.844133, 44.844133, 44.553719, 44.885168, 44.524054, 44.277231, 43.543934, 44.293820000000004, 44.212447999999995, 44.867013, 46.900348, 46.900348, 42.065427, 42.229856, 42.188074, 42.188074, 41.920228, 41.972328000000005, 41.918578000000004, 41.962979, 41.962979, 41.350484, 41.598234999999995, 41.813776000000004, 42.213439, 40.817586999999996, 40.567088, 40.567088, 40.567088, 40.567088, 40.567088, 39.004728, 39.004728, 40.183335, 40.183335, 41.437838, 29.760794, 27.648832000000002, 27.648832000000002, 27.648832000000002, 27.648832000000002, 27.648832000000002, 27.648832000000002, 27.648832000000002, 27.648832000000002, 26.172017999999998, 26.172017999999998, 26.206602, 26.105725, 26.105725, 26.105725, 26.105725, 26.105725, 31.684338, 31.674736, 31.674736, 31.674736, 31.674736, 31.766354999999997, 31.766354999999997, 31.766354999999997, 31.766354999999997, 31.382775, 34.036085, 34.036085, 34.036085, 34.036085, 32.574397999999995, 32.574397999999995, 33.8808, 33.8808, 47.193729], \"lon\": [-73.75140999999999, -73.75140999999999, -73.75140999999999, -73.80986, -73.44151, -73.44151, -76.06983000000001, -76.06983000000001, -76.79217, -80.09014, -80.179475, -79.38845, -79.35901, -78.97017, -78.91485, -78.91485, -78.91485, -78.94131999999999, -78.94131999999999, -78.94131999999999, -78.94131999999999, -78.94131999999999, -78.74591, -80.29601, -80.10024, -80.0004, -76.80298, -77.66139, -77.66139, -77.66139, -77.66139, -77.66139, -77.66139, -77.66139, -77.66139, -77.66139, -77.66139, -77.74923000000001, -77.74923000000001, -77.74923000000001, -77.99529, -77.65433, -77.50622, -77.00863000000001, -76.76764, -76.76764, -75.36926, -75.36926, -75.32938, -75.97596, -76.00325, -75.20374, -75.44063, -75.44063, -74.81812, -75.33843, -75.9375, -75.71386, -76.35578000000001, -76.35578000000001, -76.35578000000001, -76.35578000000001, -76.56623, -76.50365, -77.38902, -80.67384, -80.67384, -78.60246, -78.00893, -81.00412, -81.00412, -81.15312, -81.12847, -80.41228000000001, -80.41228000000001, -80.41228000000001, -78.92179, -78.92179, -78.92179, -78.92179, -79.013799, -77.97788, -77.77153, -77.77153, -82.388325, -82.50007, -82.6062, -79.19325, -82.56459, -82.19731999999999, -81.0125, -81.0125, -81.0125, -81.0125, -84.01487, -84.01487, -84.51475, -84.1794, -84.01804, -84.01804, -84.01804, -84.01804, -84.01804, -84.10849, -84.10849, -83.91813, -83.91813, -83.68536, -83.68536, -83.68536, -83.68536, -83.68536, -86.77626, -85.05926, -85.05926, -85.05926, -84.62558, -87.47617, -83.65795, -83.65795, -84.36539, -84.36539, -83.58904, -83.58904, -83.58904, -81.33378, -81.33378, -81.33378, -81.33378, -81.33378, -81.70125, -81.92865, -81.92865, -81.61616, -81.34404, -81.34404, -80.86735999999999, -80.86735999999999, -81.26298, -82.97091, -82.97091, -84.39324, -84.39324, -84.36041999999999, -84.33335, -84.19381, -84.38731, -84.57871, -84.57871, -86.46592, -86.46592, -86.46592, -86.38161, -87.33142, -87.03165, -87.03165, -87.03165, -87.03165, -85.81792, -85.81792, -86.31341, -86.31341, -86.31341, -86.31341, -86.31341, -86.31341, -86.31341, -85.26765, -84.93525, -84.93525, -85.10706, -85.9456, -85.9456, -85.9456, -85.9456, -85.9456, -85.9456, -85.9456, -85.9456, -85.9456, -85.9456, -84.89067, -86.74717, -86.99889, -86.99889, -83.36513000000001, -82.81674, -86.47935, -86.47935, -84.38842, -84.40913, -84.213755, -85.65885, -85.65885, -85.65885, -85.75371, -93.60965999999999, -93.60965999999999, -93.60965999999999, -93.61636, -95.85888, -92.10263, -91.19335, -91.19335, -91.19335, -91.19335, -91.19335, -91.11910999999999, -91.17849, -90.61672, -88.37331999999999, -88.37331999999999, -88.37331999999999, -88.37331999999999, -88.37331999999999, -88.11034000000001, -88.18026, -88.00891, -88.00891, -87.8992, -87.8992, -87.8992, -87.8992, -88.99528000000001, -89.05837, -88.07449, -87.38044000000001, -87.38044000000001, -90.61457, -89.61922, -89.55621, -90.80066, -90.89904, -88.53556999999999, -88.40959000000001, -93.42557, -96.80015999999999, -96.80015999999999, -87.93621, -87.96779000000001, -87.92716999999999, -87.92716999999999, -88.07891, -88.02195999999999, -88.13688, -87.97688000000001, -87.97688000000001, -87.62408, -88.02753, -89.70537, -89.05595, -89.56654, -89.63382, -89.63382, -89.63382, -89.63382, -89.63382, -87.7495, -87.7495, -92.58341, -92.58341, -97.37191999999999, -95.26043, -99.53371, -99.53371, -99.53371, -99.53371, -99.53371, -99.53371, -99.53371, -99.53371, -98.25041999999999, -98.25041999999999, -97.68776, -98.24639, -98.24639, -98.24639, -98.24639, -98.24639, -106.20788, -106.197528, -106.197528, -106.197528, -106.197528, -106.29828, -106.29828, -106.29828, -106.29828, -109.55035, -117.6086, -117.6086, -117.6086, -117.6086, -117.05633, -117.05633, -117.54068000000001, -117.54068000000001, -121.91915], \"marker\": {\"color\": \"fuchsia\", \"opacity\": 0.6, \"size\": 6, \"sizemode\": \"area\", \"sizeref\": 20}, \"mode\": \"markers\", \"type\": \"scattermapbox\"}, {\"lat\": [40.35960534328358, 42.636705890625, 40.75291938271605, 34.763124, 28.67228519230769, 34.89456484], \"lon\": [-77.21464141791046, -90.00072921875, -84.90656981481482, -117.109792, -101.27468353846155, -81.87358608], \"marker\": {\"color\": \"firebrick\", \"opacity\": 0.5, \"size\": 37, \"sizemode\": \"area\", \"sizeref\": 10}, \"mode\": \"markers\", \"type\": \"scattermapbox\"}],\n",
       "                        {\"autosize\": false, \"height\": 900, \"mapbox\": {\"center\": {\"lat\": 40.7194, \"lon\": -73.89}, \"style\": \"open-street-map\", \"zoom\": 8}, \"margin\": {\"b\": 0, \"l\": 0, \"r\": 0, \"t\": 0}, \"template\": {\"data\": {\"bar\": [{\"error_x\": {\"color\": \"#2a3f5f\"}, \"error_y\": {\"color\": \"#2a3f5f\"}, \"marker\": {\"line\": {\"color\": \"#E5ECF6\", \"width\": 0.5}}, \"type\": \"bar\"}], \"barpolar\": [{\"marker\": {\"line\": {\"color\": \"#E5ECF6\", \"width\": 0.5}}, \"type\": \"barpolar\"}], \"carpet\": [{\"aaxis\": {\"endlinecolor\": \"#2a3f5f\", \"gridcolor\": \"white\", \"linecolor\": \"white\", \"minorgridcolor\": \"white\", \"startlinecolor\": \"#2a3f5f\"}, \"baxis\": {\"endlinecolor\": \"#2a3f5f\", \"gridcolor\": \"white\", \"linecolor\": \"white\", \"minorgridcolor\": \"white\", \"startlinecolor\": \"#2a3f5f\"}, \"type\": \"carpet\"}], \"choropleth\": [{\"colorbar\": {\"outlinewidth\": 0, \"ticks\": \"\"}, \"type\": \"choropleth\"}], \"contour\": [{\"colorbar\": {\"outlinewidth\": 0, \"ticks\": \"\"}, \"colorscale\": [[0.0, \"#0d0887\"], [0.1111111111111111, \"#46039f\"], [0.2222222222222222, \"#7201a8\"], [0.3333333333333333, \"#9c179e\"], [0.4444444444444444, \"#bd3786\"], [0.5555555555555556, \"#d8576b\"], [0.6666666666666666, \"#ed7953\"], [0.7777777777777778, \"#fb9f3a\"], [0.8888888888888888, \"#fdca26\"], [1.0, \"#f0f921\"]], \"type\": \"contour\"}], \"contourcarpet\": [{\"colorbar\": {\"outlinewidth\": 0, \"ticks\": \"\"}, \"type\": \"contourcarpet\"}], \"heatmap\": [{\"colorbar\": {\"outlinewidth\": 0, \"ticks\": \"\"}, \"colorscale\": [[0.0, \"#0d0887\"], [0.1111111111111111, \"#46039f\"], [0.2222222222222222, \"#7201a8\"], [0.3333333333333333, \"#9c179e\"], [0.4444444444444444, \"#bd3786\"], [0.5555555555555556, \"#d8576b\"], [0.6666666666666666, \"#ed7953\"], [0.7777777777777778, \"#fb9f3a\"], [0.8888888888888888, \"#fdca26\"], [1.0, \"#f0f921\"]], \"type\": \"heatmap\"}], \"heatmapgl\": [{\"colorbar\": {\"outlinewidth\": 0, \"ticks\": \"\"}, \"colorscale\": [[0.0, \"#0d0887\"], [0.1111111111111111, \"#46039f\"], [0.2222222222222222, \"#7201a8\"], [0.3333333333333333, \"#9c179e\"], [0.4444444444444444, \"#bd3786\"], [0.5555555555555556, \"#d8576b\"], [0.6666666666666666, \"#ed7953\"], [0.7777777777777778, \"#fb9f3a\"], [0.8888888888888888, \"#fdca26\"], [1.0, \"#f0f921\"]], \"type\": \"heatmapgl\"}], \"histogram\": [{\"marker\": {\"colorbar\": {\"outlinewidth\": 0, \"ticks\": \"\"}}, \"type\": \"histogram\"}], \"histogram2d\": [{\"colorbar\": {\"outlinewidth\": 0, \"ticks\": \"\"}, \"colorscale\": [[0.0, \"#0d0887\"], [0.1111111111111111, \"#46039f\"], [0.2222222222222222, \"#7201a8\"], [0.3333333333333333, \"#9c179e\"], [0.4444444444444444, \"#bd3786\"], [0.5555555555555556, \"#d8576b\"], [0.6666666666666666, \"#ed7953\"], [0.7777777777777778, \"#fb9f3a\"], [0.8888888888888888, \"#fdca26\"], [1.0, \"#f0f921\"]], \"type\": \"histogram2d\"}], \"histogram2dcontour\": [{\"colorbar\": {\"outlinewidth\": 0, \"ticks\": \"\"}, \"colorscale\": [[0.0, \"#0d0887\"], [0.1111111111111111, \"#46039f\"], [0.2222222222222222, \"#7201a8\"], [0.3333333333333333, \"#9c179e\"], [0.4444444444444444, \"#bd3786\"], [0.5555555555555556, \"#d8576b\"], [0.6666666666666666, \"#ed7953\"], [0.7777777777777778, \"#fb9f3a\"], [0.8888888888888888, \"#fdca26\"], [1.0, \"#f0f921\"]], \"type\": \"histogram2dcontour\"}], \"mesh3d\": [{\"colorbar\": {\"outlinewidth\": 0, \"ticks\": \"\"}, \"type\": \"mesh3d\"}], \"parcoords\": [{\"line\": {\"colorbar\": {\"outlinewidth\": 0, \"ticks\": \"\"}}, \"type\": \"parcoords\"}], \"pie\": [{\"automargin\": true, \"type\": \"pie\"}], \"scatter\": [{\"marker\": {\"colorbar\": {\"outlinewidth\": 0, \"ticks\": \"\"}}, \"type\": \"scatter\"}], \"scatter3d\": [{\"line\": {\"colorbar\": {\"outlinewidth\": 0, \"ticks\": \"\"}}, \"marker\": {\"colorbar\": {\"outlinewidth\": 0, \"ticks\": \"\"}}, \"type\": \"scatter3d\"}], \"scattercarpet\": [{\"marker\": {\"colorbar\": {\"outlinewidth\": 0, \"ticks\": \"\"}}, \"type\": \"scattercarpet\"}], \"scattergeo\": [{\"marker\": {\"colorbar\": {\"outlinewidth\": 0, \"ticks\": \"\"}}, \"type\": \"scattergeo\"}], \"scattergl\": [{\"marker\": {\"colorbar\": {\"outlinewidth\": 0, \"ticks\": \"\"}}, \"type\": \"scattergl\"}], \"scattermapbox\": [{\"marker\": {\"colorbar\": {\"outlinewidth\": 0, \"ticks\": \"\"}}, \"type\": \"scattermapbox\"}], \"scatterpolar\": [{\"marker\": {\"colorbar\": {\"outlinewidth\": 0, \"ticks\": \"\"}}, \"type\": \"scatterpolar\"}], \"scatterpolargl\": [{\"marker\": {\"colorbar\": {\"outlinewidth\": 0, \"ticks\": \"\"}}, \"type\": \"scatterpolargl\"}], \"scatterternary\": [{\"marker\": {\"colorbar\": {\"outlinewidth\": 0, \"ticks\": \"\"}}, \"type\": \"scatterternary\"}], \"surface\": [{\"colorbar\": {\"outlinewidth\": 0, \"ticks\": \"\"}, \"colorscale\": [[0.0, \"#0d0887\"], [0.1111111111111111, \"#46039f\"], [0.2222222222222222, \"#7201a8\"], [0.3333333333333333, \"#9c179e\"], [0.4444444444444444, \"#bd3786\"], [0.5555555555555556, \"#d8576b\"], [0.6666666666666666, \"#ed7953\"], [0.7777777777777778, \"#fb9f3a\"], [0.8888888888888888, \"#fdca26\"], [1.0, \"#f0f921\"]], \"type\": \"surface\"}], \"table\": [{\"cells\": {\"fill\": {\"color\": \"#EBF0F8\"}, \"line\": {\"color\": \"white\"}}, \"header\": {\"fill\": {\"color\": \"#C8D4E3\"}, \"line\": {\"color\": \"white\"}}, \"type\": \"table\"}]}, \"layout\": {\"annotationdefaults\": {\"arrowcolor\": \"#2a3f5f\", \"arrowhead\": 0, \"arrowwidth\": 1}, \"coloraxis\": {\"colorbar\": {\"outlinewidth\": 0, \"ticks\": \"\"}}, \"colorscale\": {\"diverging\": [[0, \"#8e0152\"], [0.1, \"#c51b7d\"], [0.2, \"#de77ae\"], [0.3, \"#f1b6da\"], [0.4, \"#fde0ef\"], [0.5, \"#f7f7f7\"], [0.6, \"#e6f5d0\"], [0.7, \"#b8e186\"], [0.8, \"#7fbc41\"], [0.9, \"#4d9221\"], [1, \"#276419\"]], \"sequential\": [[0.0, \"#0d0887\"], [0.1111111111111111, \"#46039f\"], [0.2222222222222222, \"#7201a8\"], [0.3333333333333333, \"#9c179e\"], [0.4444444444444444, \"#bd3786\"], [0.5555555555555556, \"#d8576b\"], [0.6666666666666666, \"#ed7953\"], [0.7777777777777778, \"#fb9f3a\"], [0.8888888888888888, \"#fdca26\"], [1.0, \"#f0f921\"]], \"sequentialminus\": [[0.0, \"#0d0887\"], [0.1111111111111111, \"#46039f\"], [0.2222222222222222, \"#7201a8\"], [0.3333333333333333, \"#9c179e\"], [0.4444444444444444, \"#bd3786\"], [0.5555555555555556, \"#d8576b\"], [0.6666666666666666, \"#ed7953\"], [0.7777777777777778, \"#fb9f3a\"], [0.8888888888888888, \"#fdca26\"], [1.0, \"#f0f921\"]]}, \"colorway\": [\"#636efa\", \"#EF553B\", \"#00cc96\", \"#ab63fa\", \"#FFA15A\", \"#19d3f3\", \"#FF6692\", \"#B6E880\", \"#FF97FF\", \"#FECB52\"], \"font\": {\"color\": \"#2a3f5f\"}, \"geo\": {\"bgcolor\": \"white\", \"lakecolor\": \"white\", \"landcolor\": \"#E5ECF6\", \"showlakes\": true, \"showland\": true, \"subunitcolor\": \"white\"}, \"hoverlabel\": {\"align\": \"left\"}, \"hovermode\": \"closest\", \"mapbox\": {\"style\": \"light\"}, \"paper_bgcolor\": \"white\", \"plot_bgcolor\": \"#E5ECF6\", \"polar\": {\"angularaxis\": {\"gridcolor\": \"white\", \"linecolor\": \"white\", \"ticks\": \"\"}, \"bgcolor\": \"#E5ECF6\", \"radialaxis\": {\"gridcolor\": \"white\", \"linecolor\": \"white\", \"ticks\": \"\"}}, \"scene\": {\"xaxis\": {\"backgroundcolor\": \"#E5ECF6\", \"gridcolor\": \"white\", \"gridwidth\": 2, \"linecolor\": \"white\", \"showbackground\": true, \"ticks\": \"\", \"zerolinecolor\": \"white\"}, \"yaxis\": {\"backgroundcolor\": \"#E5ECF6\", \"gridcolor\": \"white\", \"gridwidth\": 2, \"linecolor\": \"white\", \"showbackground\": true, \"ticks\": \"\", \"zerolinecolor\": \"white\"}, \"zaxis\": {\"backgroundcolor\": \"#E5ECF6\", \"gridcolor\": \"white\", \"gridwidth\": 2, \"linecolor\": \"white\", \"showbackground\": true, \"ticks\": \"\", \"zerolinecolor\": \"white\"}}, \"shapedefaults\": {\"line\": {\"color\": \"#2a3f5f\"}}, \"ternary\": {\"aaxis\": {\"gridcolor\": \"white\", \"linecolor\": \"white\", \"ticks\": \"\"}, \"baxis\": {\"gridcolor\": \"white\", \"linecolor\": \"white\", \"ticks\": \"\"}, \"bgcolor\": \"#E5ECF6\", \"caxis\": {\"gridcolor\": \"white\", \"linecolor\": \"white\", \"ticks\": \"\"}}, \"title\": {\"x\": 0.05}, \"xaxis\": {\"automargin\": true, \"gridcolor\": \"white\", \"linecolor\": \"white\", \"ticks\": \"\", \"title\": {\"standoff\": 15}, \"zerolinecolor\": \"white\", \"zerolinewidth\": 2}, \"yaxis\": {\"automargin\": true, \"gridcolor\": \"white\", \"linecolor\": \"white\", \"ticks\": \"\", \"title\": {\"standoff\": 15}, \"zerolinecolor\": \"white\", \"zerolinewidth\": 2}}}, \"title\": {\"text\": \"Two Distinct Traces on Scatter Mapbox\"}, \"width\": 1900},\n",
       "                        {\"responsive\": true}\n",
       "                    ).then(function(){\n",
       "                            \n",
       "var gd = document.getElementById('e737e616-de0f-495d-ab02-942ed862282d');\n",
       "var x = new MutationObserver(function (mutations, observer) {{\n",
       "        var display = window.getComputedStyle(gd).display;\n",
       "        if (!display || display === 'none') {{\n",
       "            console.log([gd, 'removed!']);\n",
       "            Plotly.purge(gd);\n",
       "            observer.disconnect();\n",
       "        }}\n",
       "}});\n",
       "\n",
       "// Listen for the removal of the full notebook cells\n",
       "var notebookContainer = gd.closest('#notebook-container');\n",
       "if (notebookContainer) {{\n",
       "    x.observe(notebookContainer, {childList: true});\n",
       "}}\n",
       "\n",
       "// Listen for the clearing of the current output cell\n",
       "var outputEl = gd.closest('.output');\n",
       "if (outputEl) {{\n",
       "    x.observe(outputEl, {childList: true});\n",
       "}}\n",
       "\n",
       "                        })\n",
       "                };\n",
       "                });\n",
       "            </script>\n",
       "        </div>"
      ]
     },
     "metadata": {},
     "output_type": "display_data"
    }
   ],
   "source": [
    "supplier_location = {\n",
    "  \"mode\": \"markers\", \n",
    "  \"type\": \"scattermapbox\", \n",
    "  \"lat\": geo_cass.latitude, \n",
    "  \"lon\": geo_cass.longitude, \n",
    "  \"marker\": {\n",
    "    \"color\": 'fuchsia',\n",
    "    \"opacity\": 0.6, \n",
    "    \"sizeref\": 20, \n",
    "    \"size\": 6, \n",
    "    \"sizemode\": \"area\"\n",
    "  }\n",
    "}\n",
    "\n",
    "hub_location = {\n",
    "  \"mode\": \"markers\", \n",
    "  \"type\": \"scattermapbox\", \n",
    "  \"lat\": cluster_centers.latitude, \n",
    "  \"lon\": cluster_centers.longitude, \n",
    "  \"marker\": {\n",
    "    \"color\": \"firebrick\", \n",
    "    \"opacity\": 0.5, \n",
    "    \"sizeref\": 10, \n",
    "    \"size\": 37, \n",
    "    \"sizemode\": \"area\"\n",
    "  }\n",
    "}\n",
    "\n",
    "data = Data([supplier_location, hub_location])\n",
    "\n",
    "layout = {\n",
    "  \"title\": {\"text\": \"Two Distinct Traces on Scatter Mapbox\"}, \n",
    "  \"mapbox\": {\n",
    "      \"zoom\": 8, \n",
    "      \"style\": \"dark\", \n",
    "      \"center\": {\n",
    "      \"lat\": 40.7194, \n",
    "      \"lon\": -73.89}\n",
    "  },\n",
    "    \"autosize\": False, \n",
    "    \"width\": 1900,\n",
    "    \"height\": 900\n",
    "}\n",
    "fig = go.Figure(data=data, layout=layout)\n",
    "fig.update_layout(mapbox_style=\"open-street-map\")\n",
    "fig.update_layout(margin={\"r\":0,\"t\":0,\"l\":0,\"b\":0})\n",
    "fig.show()"
   ]
  },
  {
   "cell_type": "markdown",
   "metadata": {},
   "source": [
    "### Solution 2: DBSCAN_Modeling:\n",
    "####  - advantange: calculates gap distance limitation & precomputed distance matrix gives more flexibilit\n",
    "#### -  weakness: not mentioning where to be center"
   ]
  },
  {
   "cell_type": "code",
   "execution_count": 159,
   "metadata": {},
   "outputs": [],
   "source": [
    "from sklearn.cluster import DBSCAN\n",
    "from scipy.spatial.distance import pdist, squareform"
   ]
  },
  {
   "cell_type": "code",
   "execution_count": 160,
   "metadata": {},
   "outputs": [],
   "source": [
    "s = 'WI,IL'"
   ]
  },
  {
   "cell_type": "code",
   "execution_count": 161,
   "metadata": {},
   "outputs": [],
   "source": [
    "if not isinstance(s, list):\n",
    "    new_s = s.split(',')"
   ]
  },
  {
   "cell_type": "code",
   "execution_count": 162,
   "metadata": {},
   "outputs": [
    {
     "data": {
      "text/plain": [
       "['WI', 'IL']"
      ]
     },
     "execution_count": 162,
     "metadata": {},
     "output_type": "execute_result"
    }
   ],
   "source": [
    "new_s"
   ]
  },
  {
   "cell_type": "code",
   "execution_count": 163,
   "metadata": {
    "scrolled": true
   },
   "outputs": [
    {
     "data": {
      "text/plain": [
       "shipper_state\n",
       "IN    20368381\n",
       "GA    11249432\n",
       "OH     5996058\n",
       "WI     5435499\n",
       "IA     5256441\n",
       "NC     4692391\n",
       "PA     4608181\n",
       "IL     2529555\n",
       "SC     1102323\n",
       "NY     1019152\n",
       "WA      939500\n",
       "VA      823169\n",
       "TX      624186\n",
       "MI      591874\n",
       "MO      449841\n",
       "MD      130002\n",
       "CA      107868\n",
       "LA       48959\n",
       "TN       27112\n",
       "ND       23363\n",
       "AZ       19179\n",
       "DE        8431\n",
       "KY        3070\n",
       "MN         826\n",
       "NE         430\n",
       "NV           0\n",
       "Name: ship_weight, dtype: int32"
      ]
     },
     "execution_count": 163,
     "metadata": {},
     "output_type": "execute_result"
    }
   ],
   "source": [
    "cass_zip.groupby(['shipper_state'])['ship_weight'].sum().sort_values(ascending = False)"
   ]
  },
  {
   "cell_type": "code",
   "execution_count": 164,
   "metadata": {},
   "outputs": [],
   "source": [
    "cluster_selections = ['IN', 'GA', 'OH', 'WI', 'IA', 'NC', 'PA', 'IL', 'SC', 'NY']\n",
    "geo = cass_zip[cass_zip.shipper_state.isin(cluster_selections)].reset_index(drop=True)"
   ]
  },
  {
   "cell_type": "code",
   "execution_count": 165,
   "metadata": {},
   "outputs": [
    {
     "data": {
      "text/html": [
       "<div>\n",
       "<style scoped>\n",
       "    .dataframe tbody tr th:only-of-type {\n",
       "        vertical-align: middle;\n",
       "    }\n",
       "\n",
       "    .dataframe tbody tr th {\n",
       "        vertical-align: top;\n",
       "    }\n",
       "\n",
       "    .dataframe thead th {\n",
       "        text-align: right;\n",
       "    }\n",
       "</style>\n",
       "<table border=\"1\" class=\"dataframe\">\n",
       "  <thead>\n",
       "    <tr style=\"text-align: right;\">\n",
       "      <th></th>\n",
       "      <th>zip_code</th>\n",
       "      <th>longitude</th>\n",
       "      <th>latitude</th>\n",
       "      <th>cluster</th>\n",
       "      <th>shipper_name</th>\n",
       "      <th>shipper_state</th>\n",
       "      <th>ship_weight</th>\n",
       "      <th>miles</th>\n",
       "      <th>billed_amount</th>\n",
       "      <th>label</th>\n",
       "    </tr>\n",
       "  </thead>\n",
       "  <tbody>\n",
       "    <tr>\n",
       "      <th>0</th>\n",
       "      <td>11413</td>\n",
       "      <td>-73.75141</td>\n",
       "      <td>40.670138</td>\n",
       "      <td>north_east</td>\n",
       "      <td>CEVA FM</td>\n",
       "      <td>NY</td>\n",
       "      <td>8763</td>\n",
       "      <td>246</td>\n",
       "      <td>1185.72</td>\n",
       "      <td>0</td>\n",
       "    </tr>\n",
       "    <tr>\n",
       "      <th>1</th>\n",
       "      <td>11413</td>\n",
       "      <td>-73.75141</td>\n",
       "      <td>40.670138</td>\n",
       "      <td>north_east</td>\n",
       "      <td>CEVA FM JFK</td>\n",
       "      <td>NY</td>\n",
       "      <td>41251</td>\n",
       "      <td>738</td>\n",
       "      <td>4112.88</td>\n",
       "      <td>0</td>\n",
       "    </tr>\n",
       "    <tr>\n",
       "      <th>2</th>\n",
       "      <td>11413</td>\n",
       "      <td>-73.75141</td>\n",
       "      <td>40.670138</td>\n",
       "      <td>north_east</td>\n",
       "      <td>CEVA LOGISTI</td>\n",
       "      <td>NY</td>\n",
       "      <td>246983</td>\n",
       "      <td>3690</td>\n",
       "      <td>15838.11</td>\n",
       "      <td>0</td>\n",
       "    </tr>\n",
       "    <tr>\n",
       "      <th>3</th>\n",
       "      <td>11435</td>\n",
       "      <td>-73.80986</td>\n",
       "      <td>40.700068</td>\n",
       "      <td>north_east</td>\n",
       "      <td>ROSCO INC</td>\n",
       "      <td>NY</td>\n",
       "      <td>72611</td>\n",
       "      <td>9720</td>\n",
       "      <td>21451.07</td>\n",
       "      <td>0</td>\n",
       "    </tr>\n",
       "    <tr>\n",
       "      <th>4</th>\n",
       "      <td>11735</td>\n",
       "      <td>-73.44151</td>\n",
       "      <td>40.725968</td>\n",
       "      <td>north_east</td>\n",
       "      <td>TAPESWITCH</td>\n",
       "      <td>NY</td>\n",
       "      <td>6783</td>\n",
       "      <td>1320</td>\n",
       "      <td>1099.02</td>\n",
       "      <td>0</td>\n",
       "    </tr>\n",
       "    <tr>\n",
       "      <th>...</th>\n",
       "      <td>...</td>\n",
       "      <td>...</td>\n",
       "      <td>...</td>\n",
       "      <td>...</td>\n",
       "      <td>...</td>\n",
       "      <td>...</td>\n",
       "      <td>...</td>\n",
       "      <td>...</td>\n",
       "      <td>...</td>\n",
       "      <td>...</td>\n",
       "    </tr>\n",
       "    <tr>\n",
       "      <th>222</th>\n",
       "      <td>61554</td>\n",
       "      <td>-89.63382</td>\n",
       "      <td>40.567088</td>\n",
       "      <td>mid_west</td>\n",
       "      <td>KMI WAREHOUS</td>\n",
       "      <td>IL</td>\n",
       "      <td>1466450</td>\n",
       "      <td>58814</td>\n",
       "      <td>166252.94</td>\n",
       "      <td>1</td>\n",
       "    </tr>\n",
       "    <tr>\n",
       "      <th>223</th>\n",
       "      <td>61554</td>\n",
       "      <td>-89.63382</td>\n",
       "      <td>40.567088</td>\n",
       "      <td>mid_west</td>\n",
       "      <td>KMI WARHOUSE</td>\n",
       "      <td>IL</td>\n",
       "      <td>18600</td>\n",
       "      <td>726</td>\n",
       "      <td>2003.76</td>\n",
       "      <td>1</td>\n",
       "    </tr>\n",
       "    <tr>\n",
       "      <th>224</th>\n",
       "      <td>61554</td>\n",
       "      <td>-89.63382</td>\n",
       "      <td>40.567088</td>\n",
       "      <td>mid_west</td>\n",
       "      <td>OSHKOSH CORP</td>\n",
       "      <td>IL</td>\n",
       "      <td>7750</td>\n",
       "      <td>726</td>\n",
       "      <td>1035.89</td>\n",
       "      <td>1</td>\n",
       "    </tr>\n",
       "    <tr>\n",
       "      <th>225</th>\n",
       "      <td>62454</td>\n",
       "      <td>-87.74950</td>\n",
       "      <td>39.004728</td>\n",
       "      <td>mid_west</td>\n",
       "      <td>E.H. BAARE CORP.</td>\n",
       "      <td>IL</td>\n",
       "      <td>28412</td>\n",
       "      <td>37920</td>\n",
       "      <td>14308.61</td>\n",
       "      <td>2</td>\n",
       "    </tr>\n",
       "    <tr>\n",
       "      <th>226</th>\n",
       "      <td>62454</td>\n",
       "      <td>-87.74950</td>\n",
       "      <td>39.004728</td>\n",
       "      <td>mid_west</td>\n",
       "      <td>EH BARRE COR</td>\n",
       "      <td>IL</td>\n",
       "      <td>610</td>\n",
       "      <td>669</td>\n",
       "      <td>102.96</td>\n",
       "      <td>2</td>\n",
       "    </tr>\n",
       "  </tbody>\n",
       "</table>\n",
       "<p>227 rows × 10 columns</p>\n",
       "</div>"
      ],
      "text/plain": [
       "    zip_code  longitude   latitude     cluster      shipper_name  \\\n",
       "0      11413  -73.75141  40.670138  north_east           CEVA FM   \n",
       "1      11413  -73.75141  40.670138  north_east       CEVA FM JFK   \n",
       "2      11413  -73.75141  40.670138  north_east      CEVA LOGISTI   \n",
       "3      11435  -73.80986  40.700068  north_east         ROSCO INC   \n",
       "4      11735  -73.44151  40.725968  north_east        TAPESWITCH   \n",
       "..       ...        ...        ...         ...               ...   \n",
       "222    61554  -89.63382  40.567088    mid_west      KMI WAREHOUS   \n",
       "223    61554  -89.63382  40.567088    mid_west      KMI WARHOUSE   \n",
       "224    61554  -89.63382  40.567088    mid_west      OSHKOSH CORP   \n",
       "225    62454  -87.74950  39.004728    mid_west  E.H. BAARE CORP.   \n",
       "226    62454  -87.74950  39.004728    mid_west      EH BARRE COR   \n",
       "\n",
       "    shipper_state  ship_weight  miles  billed_amount  label  \n",
       "0              NY         8763    246        1185.72      0  \n",
       "1              NY        41251    738        4112.88      0  \n",
       "2              NY       246983   3690       15838.11      0  \n",
       "3              NY        72611   9720       21451.07      0  \n",
       "4              NY         6783   1320        1099.02      0  \n",
       "..            ...          ...    ...            ...    ...  \n",
       "222            IL      1466450  58814      166252.94      1  \n",
       "223            IL        18600    726        2003.76      1  \n",
       "224            IL         7750    726        1035.89      1  \n",
       "225            IL        28412  37920       14308.61      2  \n",
       "226            IL          610    669         102.96      2  \n",
       "\n",
       "[227 rows x 10 columns]"
      ]
     },
     "execution_count": 165,
     "metadata": {},
     "output_type": "execute_result"
    }
   ],
   "source": [
    "geo"
   ]
  },
  {
   "cell_type": "code",
   "execution_count": 166,
   "metadata": {
    "scrolled": true
   },
   "outputs": [],
   "source": [
    "# distance_matrix = distance_on_sphere_numpy(geo)"
   ]
  },
  {
   "cell_type": "markdown",
   "metadata": {},
   "source": [
    "### Distance_Matrix using actual riding distance >>>>"
   ]
  },
  {
   "cell_type": "code",
   "execution_count": 167,
   "metadata": {},
   "outputs": [],
   "source": [
    "path = r'C:\\Users\\u279014\\Documents\\H_Drive\\7.AA Models\\12.Logistic_Optimization\\data'\n",
    "file = r'riding_distance_matrix.xlsx'\n",
    "riding_distance_matrix = load_riding_distance_matrix(path,file)\n",
    "distance_matrix = riding_distance(riding_distance_matrix, geo)"
   ]
  },
  {
   "cell_type": "code",
   "execution_count": 168,
   "metadata": {},
   "outputs": [],
   "source": [
    "pd.DataFrame([x for x in dfcass.shipper_zip.unique() if x not in riding_distance_matrix.index]).to_csv('extra_zipcode.csv')"
   ]
  },
  {
   "cell_type": "code",
   "execution_count": 169,
   "metadata": {},
   "outputs": [
    {
     "data": {
      "text/plain": [
       "Index(['11201', '11435', '11716', '12193', '13088', '14009', '14150', '15056',\n",
       "       '15085', '17201',\n",
       "       ...\n",
       "       '54915', '37760', '1752', '13089', '44309', '46515', '1966', '53408',\n",
       "       '46860', '17256'],\n",
       "      dtype='object', name='zipcode', length=548)"
      ]
     },
     "execution_count": 169,
     "metadata": {},
     "output_type": "execute_result"
    }
   ],
   "source": [
    "riding_distance_matrix.index"
   ]
  },
  {
   "cell_type": "code",
   "execution_count": 170,
   "metadata": {},
   "outputs": [
    {
     "data": {
      "text/plain": [
       "True"
      ]
     },
     "execution_count": 170,
     "metadata": {},
     "output_type": "execute_result"
    }
   ],
   "source": [
    "np.any(riding_distance_matrix.columns == '53012')"
   ]
  },
  {
   "cell_type": "code",
   "execution_count": 174,
   "metadata": {
    "scrolled": false
   },
   "outputs": [
    {
     "data": {
      "text/plain": [
       "DBSCAN(algorithm='auto', eps=80, leaf_size=30, metric='precomputed',\n",
       "       metric_params=None, min_samples=3, n_jobs=None, p=None)"
      ]
     },
     "execution_count": 174,
     "metadata": {},
     "output_type": "execute_result"
    }
   ],
   "source": [
    "\"\"\"\n",
    "parameter:\n",
    "    eps: location to core distance in between\n",
    "    min_samples: minimum locations in one group(cluster)\n",
    "    metric: precomputed as we have our own distance metricx\n",
    "return:\n",
    "    cluster model\n",
    "\"\"\"\n",
    "db = DBSCAN(eps=80,min_samples=3,metric='precomputed',leaf_size=30)\n",
    "db.fit(distance_matrix)"
   ]
  },
  {
   "cell_type": "code",
   "execution_count": 175,
   "metadata": {},
   "outputs": [],
   "source": [
    "# Save csv for PowerBI visualization\n",
    "geo['label']=db.labels_\n",
    "geo.to_csv('cass_zip_cluster.csv',index=False)\n",
    "geo.to_feather('cass_zip_cluster')"
   ]
  },
  {
   "cell_type": "code",
   "execution_count": 176,
   "metadata": {
    "scrolled": true
   },
   "outputs": [
    {
     "data": {
      "text/plain": [
       "[(6, 82),\n",
       " (0, 36),\n",
       " (1, 31),\n",
       " (5, 18),\n",
       " (7, 14),\n",
       " (3, 11),\n",
       " (2, 10),\n",
       " (-1, 9),\n",
       " (4, 5),\n",
       " (9, 4),\n",
       " (10, 4),\n",
       " (8, 3)]"
      ]
     },
     "execution_count": 176,
     "metadata": {},
     "output_type": "execute_result"
    }
   ],
   "source": [
    "# let's take a look which cluster has most locations:\n",
    "counter = Counter(db.labels_)\n",
    "counter.most_common()"
   ]
  },
  {
   "cell_type": "markdown",
   "metadata": {},
   "source": [
    "## Now, go to PowerBi for Reviewing >>>>>>>"
   ]
  },
  {
   "cell_type": "code",
   "execution_count": null,
   "metadata": {},
   "outputs": [],
   "source": []
  }
 ],
 "metadata": {
  "kernelspec": {
   "display_name": "Python 3",
   "language": "python",
   "name": "python3"
  },
  "language_info": {
   "codemirror_mode": {
    "name": "ipython",
    "version": 3
   },
   "file_extension": ".py",
   "mimetype": "text/x-python",
   "name": "python",
   "nbconvert_exporter": "python",
   "pygments_lexer": "ipython3",
   "version": "3.7.6"
  }
 },
 "nbformat": 4,
 "nbformat_minor": 2
}
