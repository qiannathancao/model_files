{
 "cells": [
  {
   "cell_type": "markdown",
   "metadata": {},
   "source": [
    "### Install wheels for Basemap\n",
    "- install Proj: https://proj.org/install.html#install\n",
    "- go to above link >> find Windows: click OSGeo4W >> download 64bit >> following above link's Window section to isntall PROJ\n",
    "- install basemap wheel and pyproj wheel from link: https://www.lfd.uci.edu/~gohlke/pythonlibs/\n",
    "- find: Basemap: a matplotlib toolkit for plotting 2D data on maps based on GEOS. \n",
    "- find: Pyproj: an interface to the PROJ library for cartographic transformations.\n",
    "- #### Important: pip install numpy --upgrade ###"
   ]
  },
  {
   "cell_type": "markdown",
   "metadata": {},
   "source": [
    "# ML - Unsupervised Modeling"
   ]
  },
  {
   "cell_type": "code",
   "execution_count": 1,
   "metadata": {},
   "outputs": [
    {
     "data": {
      "text/plain": [
       "'C:\\\\Users\\\\u279014\\\\Documents\\\\H_Drive\\\\7.AA Models\\\\12.Logistic_Optimization\\\\data'"
      ]
     },
     "execution_count": 1,
     "metadata": {},
     "output_type": "execute_result"
    }
   ],
   "source": [
    "# import general packages:\n",
    "from openpyxl import load_workbook\n",
    "import win32com.client\n",
    "import numpy as np\n",
    "import pandas as pd\n",
    "from pandas import Grouper\n",
    "from pandas import Timestamp\n",
    "import os\n",
    "import io\n",
    "import datetime as dt\n",
    "import time \n",
    "import feather\n",
    "import itertools\n",
    "from math import sqrt\n",
    "import csv\n",
    "import dask.dataframe as dd\n",
    "from datetime import datetime\n",
    "import timestring\n",
    "from IPython.core.display import display, HTML\n",
    "\n",
    "# import modeling packages\n",
    "from sklearn.cluster import AffinityPropagation\n",
    "from sklearn.cluster import KMeans\n",
    "from sklearn import preprocessing, datasets\n",
    "from sklearn.metrics import pairwise_distances_argmin\n",
    "from scipy.spatial.distance import cdist,pdist\n",
    "from scipy import stats\n",
    "from scipy.sparse import *\n",
    "from collections import Counter\n",
    "\n",
    "# import visualization packages:\n",
    "from matplotlib import pyplot as plt\n",
    "# from mpl_toolkits.basemap import Basemap\n",
    "import seaborn as sns\n",
    "# import ggplot\n",
    "%matplotlib inline\n",
    "\n",
    "# checking path and dir\n",
    "os.chdir('C:\\\\Users\\\\u279014\\\\Documents\\\\H_Drive\\\\7.AA Models\\\\12.Logistic_Optimization\\\\data')\n",
    "os.getcwd()"
   ]
  },
  {
   "cell_type": "code",
   "execution_count": 2,
   "metadata": {},
   "outputs": [],
   "source": [
    "def riding_distance(riding_distance_matrix, geo):\n",
    "    \"\"\"\n",
    "    Compute a distance matrix of the coordinates using a spherical metric.\n",
    "    :param  \n",
    "        coordinate_df: numpy.ndarray with shape (n,n); riding_distance_matri: dataframe, col & index type: str \n",
    "        geo_zipcode: Data.Series, element type: str\n",
    "    :returns distance_mat: numpy.ndarray with shape (n, n) containing distance in km between coords.\n",
    "    \"\"\"\n",
    "    d_matrix = []\n",
    "    zipcodes = geo['zip_code']\n",
    "    for i in zipcodes:\n",
    "        d_row = []\n",
    "        for j in zipcodes:\n",
    "            d_row.append(riding_distance_matrix.loc[i,j])\n",
    "        d_matrix.append(d_row)\n",
    "    return np.asarray(d_matrix)"
   ]
  },
  {
   "cell_type": "code",
   "execution_count": 3,
   "metadata": {},
   "outputs": [],
   "source": [
    "def load_riding_distance_matrix(path,file):\n",
    "    riding_distance_matrix = pd.read_excel(os.path.join(path,file)).set_index('zipcode')\n",
    "    riding_distance_matrix.columns = riding_distance_matrix.columns.astype('str')\n",
    "    riding_distance_matrix.index = riding_distance_matrix.index.astype('str')\n",
    "    return riding_distance_matrix"
   ]
  },
  {
   "cell_type": "code",
   "execution_count": 4,
   "metadata": {},
   "outputs": [],
   "source": [
    "# def distance_on_sphere_numpy(coordinate_df):\n",
    "#     \"\"\"\n",
    "#     Compute a distance matrix of the coordinates using a spherical metric.\n",
    "#     :param coordinate_array: numpy.ndarray with shape (n,2); latitude is in 1st col, longitude in 2nd.\n",
    "#     :returns distance_mat: numpy.ndarray with shape (n, n) containing distance in km between coords.\n",
    "#     \"\"\"\n",
    "#     # Radius of the earth in km (GRS 80-Ellipsoid)\n",
    "#     EARTH_RADIUS = 6371.007176\n",
    "#     km2mile_ratio = 0.62137\n",
    "\n",
    "#     # Unpacking coordinates\n",
    "#     latitudes = coordinate_df.loc[:,'latitude']\n",
    "#     longitudes = coordinate_df.loc[:,'longitude']\n",
    "\n",
    "#     # Convert latitude and longitude to spherical coordinates in radians.\n",
    "#     degrees_to_radians = np.pi/180.0\n",
    "#     phi_values = (90.0 - latitudes)*degrees_to_radians\n",
    "#     theta_values = longitudes*degrees_to_radians\n",
    "\n",
    "#     # Expand phi_values and theta_values into grids\n",
    "#     theta_1, theta_2 = np.meshgrid(theta_values, theta_values)\n",
    "#     theta_diff_mat = theta_1 - theta_2\n",
    "\n",
    "#     phi_1, phi_2 = np.meshgrid(phi_values, phi_values)\n",
    "\n",
    "#     # Compute spherical distance from spherical coordinates\n",
    "#     angle = (np.sin(phi_1) * np.sin(phi_2) * np.cos(theta_diff_mat) + \n",
    "#            np.cos(phi_1) * np.cos(phi_2))\n",
    "#     arc = np.arccos(angle)\n",
    "\n",
    "#     # Multiply by earth's radius to obtain distance in km\n",
    "#     return np.nan_to_num(arc * EARTH_RADIUS * km2mile_ratio)"
   ]
  },
  {
   "cell_type": "code",
   "execution_count": 5,
   "metadata": {},
   "outputs": [],
   "source": [
    "# standardize dataframe colume names\n",
    "def col_name(df):\n",
    "    \"\"\"\n",
    "    this is to trim the data_frame column names to a unique format:\n",
    "    all case, replace space to underscore, remove parentheses\n",
    "    param df:\n",
    "        raw from share drive for\n",
    "    return:\n",
    "        polished data set with new column names\n",
    "    \"\"\"\n",
    "    df.columns = df.columns.str.strip().str.lower().str.replace('-','').str.replace(' ', '_').str.replace('(', '').\\\n",
    "                    str.replace(')', '').str.replace('\"','')\n",
    "    return df"
   ]
  },
  {
   "cell_type": "code",
   "execution_count": 6,
   "metadata": {},
   "outputs": [],
   "source": [
    "# covert time format from str to timestamp\n",
    "def str2time(x):\n",
    "    \"\"\"\n",
    "    paramter \n",
    "        x: string formated time\n",
    "    return: \n",
    "        timeStamp with mm/dd/yyyy format \n",
    "    \"\"\"\n",
    "    try: \n",
    "        return datetime.strptime(x,'%b %d, %Y')\n",
    "    except:\n",
    "        return '0000-00-00'"
   ]
  },
  {
   "cell_type": "code",
   "execution_count": 7,
   "metadata": {},
   "outputs": [
    {
     "data": {
      "text/plain": [
       "datetime.datetime(2019, 10, 1, 0, 0)"
      ]
     },
     "execution_count": 7,
     "metadata": {},
     "output_type": "execute_result"
    }
   ],
   "source": [
    "datetime.strptime('2019-10-01', '%Y-%m-%d')"
   ]
  },
  {
   "cell_type": "code",
   "execution_count": 8,
   "metadata": {},
   "outputs": [],
   "source": [
    "# numpy not support multiple logic, this conducts 3 logic binary\n",
    "def logic_and_3_condition(x1,x2,x3):\n",
    "    return np.logical_and(np.logical_and(x1,x2),x3)"
   ]
  },
  {
   "cell_type": "code",
   "execution_count": 9,
   "metadata": {},
   "outputs": [],
   "source": [
    "# public source zipcode format standaraization\n",
    "def clean_zip(file_path = None):\n",
    "    \"\"\"\n",
    "    this is to clean the zip file: \n",
    "        - corrdinate format\n",
    "        - save file as feather format\n",
    "    \n",
    "    parameter:\n",
    "        df: original zipcode msater file \n",
    "        file_path: zipcode file directory\n",
    "        \n",
    "    return:\n",
    "        zipcode feather format\n",
    "    \"\"\"\n",
    "    # change zipcodes which contain alphabix letter to 0 (outside of USA)\n",
    "    def to_string(x):\n",
    "        try:\n",
    "            return str(x)\n",
    "        except:\n",
    "            return 0   \n",
    "        \n",
    "    zipcode = pd.read_csv(file_path)\n",
    "    zipcode = col_name(zipcode)\n",
    "    zipcode['zip_code'] = zipcode['zip_code'].apply(lambda x: to_string(x))\n",
    "    # save to feather format so fast processing\n",
    "    zipcode.to_feather('zipcode_feather')\n",
    "    \n",
    "    return feather.read_dataframe ('zipcode_feather')"
   ]
  },
  {
   "cell_type": "code",
   "execution_count": 10,
   "metadata": {},
   "outputs": [],
   "source": [
    "\"\"\" Slice shipper_zipcode_region \"\"\"\n",
    "def clean_cass2(file_path, \n",
    "                source_state=None,\n",
    "                shipper_country=None,\n",
    "                inbound_outbound_indicator='INBOUND',\n",
    "                dest_zip='54942', \n",
    "                shipping_date_start='2018-10-01', \n",
    "                shipping_window=7,\n",
    "                truck_mode='LT'):\n",
    "    \"\"\"\n",
    "    parameter: \n",
    "        df: dataFrame, original dataset downloaded from cass\n",
    "        source_state: str, comma needed, default 'WI' as the largest shipping from\n",
    "        dest_zip: str, default 54942 as greenville\n",
    "        shipping_date_start: str, starting shipping schedule cut-off date\n",
    "        shipping_window: int, days out as shipping period window\n",
    "        truck_mode: str, no comma needed, default LT for less than truck and full truck both inclusive\n",
    "        \n",
    "    return:\n",
    "        df: cleaned dataFrame\n",
    "    \"\"\"\n",
    "    \n",
    "    shipping_date_start = datetime.strptime(shipping_date_start, '%Y-%m-%d')\n",
    "    df = pd.read_csv(file_path, low_memory = False)\n",
    "    df = col_name(df)\n",
    "    df = df[['source_weekend_date','mode','inbound_outbound_indicator', 'shipper_name',\n",
    "       'shipper_address', 'shipper_city', 'shipper_zip', 'shipper_state', 'shipper_country',\n",
    "       'destination_city', 'destination_zip', 'destination_state',\n",
    "       'bill_of_lading_number', 'ship_weight','miles','billed_amount']]\n",
    "    df = df[df.shipper_country == shipper_country]    \n",
    "    df.drop(columns=['shipper_country'], inplace=True) \n",
    "    \n",
    "    df = df[np.logical_and(df.destination_zip == dest_zip, df.inbound_outbound_indicator == inbound_outbound_indicator)]\n",
    "    df = df[df.destination_zip == dest_zip]\n",
    "    df['ship_weight']=df.ship_weight.apply(lambda x: x.replace(',','')).astype('int')\n",
    "    df.drop(columns=['inbound_outbound_indicator'], inplace = True)\n",
    "\n",
    "    if source_state and source_state is not 'all':\n",
    "        states = source_state.split(',')\n",
    "        df = df[np.logical_and(df.destination_zip == dest_zip,df.shipper_state.isin(states))]\n",
    "\n",
    "    df['shipping_date'] = df.source_weekend_date.apply(lambda x: str2time(x))\n",
    "    \n",
    "    df = df[logic_and_3_condition((df.shipping_date >= shipping_date_start),\n",
    "                           (df.shipping_date - dt.timedelta(shipping_window) <= shipping_date_start),\n",
    "                           (df['mode'].isin(list(truck_mode))))]  \n",
    "    \n",
    "    df['miles'] = df.miles.apply(lambda x: x.replace(',','')).astype('int')\n",
    "    df['billed_amount'] = df.billed_amount.apply(lambda x: x.replace(',','')).astype('float')\n",
    "    \n",
    "    # change zipcodes which contain alphabix letter to 0 (outside of USA)\n",
    "    def to_string(x):\n",
    "        try:\n",
    "            return str(x)\n",
    "        except:\n",
    "            return 0  \n",
    "    df['shipper_zip'] = df['shipper_zip'].apply(lambda x: to_string(x))    \n",
    "    return df.reset_index(drop = True)"
   ]
  },
  {
   "cell_type": "code",
   "execution_count": 11,
   "metadata": {},
   "outputs": [],
   "source": [
    "def cass_merge_zip(df_cass,df_zip):\n",
    "    \"\"\"\n",
    "    parameter:\n",
    "        df1: cleaned cass dataset\n",
    "        df2: original zipcode matrix\n",
    "        \n",
    "    return:\n",
    "        merged dataFrame contains longitude and latitude\n",
    "    \"\"\"\n",
    "\n",
    "    df = pd.merge(df_cass,df_zip[['zip_code','longitude','latitude']],how='left',left_on='shipper_zip', right_on='zip_code')\n",
    "    df = df.groupby(['zip_code','longitude','latitude','cluster','shipper_name','shipper_state'])['ship_weight','miles','billed_amount'].sum()  \n",
    "    df.dropna(inplace = True)\n",
    "    df.reset_index(inplace = True)\n",
    "    df.to_feather('cass_zip')\n",
    "    return feather.read_dataframe('cass_zip')"
   ]
  },
  {
   "cell_type": "code",
   "execution_count": 12,
   "metadata": {},
   "outputs": [],
   "source": [
    "zipcode_path = r'C:\\\\Users\\\\u279014\\\\Documents\\\\H_Drive\\\\7.AA Models\\\\12.Logistic_Optimization\\\\data\\\\zipcode_Lon_Lat.csv'\n",
    "zipcode = clean_zip(zipcode_path)"
   ]
  },
  {
   "cell_type": "markdown",
   "metadata": {},
   "source": [
    "# Modeling Param: by State"
   ]
  },
  {
   "cell_type": "code",
   "execution_count": 45,
   "metadata": {},
   "outputs": [],
   "source": [
    "cass_path = r'C:\\\\Users\\\\u279014\\\\Documents\\\\H_Drive\\\\7.AA Models\\\\12.Logistic_Optimization\\\\data\\\\Cass FY19 Invoice Detail.csv'\n",
    "dfcass = clean_cass2(cass_path, source_state='all', shipper_country='US', inbound_outbound_indicator='INBOUND', shipping_date_start='2019-01-01',dest_zip='54942', shipping_window=360, truck_mode='TL')"
   ]
  },
  {
   "cell_type": "code",
   "execution_count": 47,
   "metadata": {},
   "outputs": [],
   "source": [
    "def get_cluster(state):\n",
    "    if state in ['WI','IL','MI','IN']:\n",
    "        return 'mid_west'\n",
    "    elif state in ['PA','NY','MD']:\n",
    "        return 'north_east'\n",
    "    elif state in ['NC','SC','GA']:\n",
    "        return 'south_east'\n",
    "    return 'other'\n",
    "    \n",
    "dfcass['cluster'] = dfcass.shipper_state.apply(get_cluster)\n",
    "dfcass.to_csv(r'C:\\Users\\u279014\\Documents\\H_Drive\\7.AA Models\\12.Logistic_Optimization\\data\\supplier_clustering.csv',index=False)\n",
    "dfcass.shipper_zip.to_excel(r'C:\\Users\\u279014\\Documents\\H_Drive\\7.AA Models\\12.Logistic_Optimization\\data\\PCMiller\\zipcodes.xlsx',\n",
    "                            sheet_name='Sheet1',header = False,index = False)"
   ]
  },
  {
   "cell_type": "code",
   "execution_count": 48,
   "metadata": {
    "scrolled": false
   },
   "outputs": [
    {
     "name": "stderr",
     "output_type": "stream",
     "text": [
      "C:\\Users\\U279014\\Anaconda3\\lib\\site-packages\\ipykernel_launcher.py:12: FutureWarning: Indexing with multiple keys (implicitly converted to a tuple of keys) will be deprecated, use a list instead.\n",
      "  if sys.path[0] == '':\n"
     ]
    }
   ],
   "source": [
    "### Distance Matrix: to replaced by using PCM_Riding Distance Matrix\n",
    "cass_zip = cass_merge_zip(dfcass,zipcode)\n",
    "cass_zip.to_csv(r'C:\\Users\\u279014\\Documents\\H_Drive\\7.AA Models\\12.Logistic_Optimization\\data\\suppliers_geo.csv')\n",
    "##### To run PCM API for riding distance #####"
   ]
  },
  {
   "cell_type": "markdown",
   "metadata": {},
   "source": [
    "# Clustering Modeling: Supplier by Region Modeling (Kmeans, DBSCAN)\n",
    "### Solution 1: KMeans_Modeling\n",
    "- #### Using euclidean distance based geograpthic infomation and historical volume to cluser suppliers by zipcode in region\n",
    "- #### Clustering metrix: ‘cosine’, ‘euclidean’[default], ‘l1’, ‘l2’,\n"
   ]
  },
  {
   "cell_type": "code",
   "execution_count": 49,
   "metadata": {},
   "outputs": [],
   "source": [
    "from sklearn.cluster import KMeans\n",
    "from collections import Counter"
   ]
  },
  {
   "cell_type": "code",
   "execution_count": 50,
   "metadata": {},
   "outputs": [],
   "source": [
    "geo = cass_zip.loc[:,['longitude','latitude']]\n",
    "X = np.array(geo)"
   ]
  },
  {
   "cell_type": "code",
   "execution_count": 51,
   "metadata": {
    "scrolled": true
   },
   "outputs": [],
   "source": [
    "# plt.figure(figsize=(20,20))\n",
    "# mm = Basemap(llcrnrlon = min(X[:,0])-15,llcrnrlat = min(X[:,1]-10), urcrnrlon = max(X[:,0]+10),urcrnrlat = max(X[:,1]+10))\n",
    "# # mm.drawmapboundary(fill_color = '#A6CAE0',linewidth = 0)\n",
    "# mm.fillcontinents(color = 'grey', alpha = 0.3, lake_color = 'black')\n",
    "# mm.drawcoastlines(linewidth = 0.5,color = 'white')\n",
    "\n",
    "# mm.shadedrelief()\n",
    "# mm.drawcoastlines(color='gray')\n",
    "# mm.drawcountries(color='gray')\n",
    "# mm.drawstates(color='gray')\n",
    "\n",
    "\n",
    "# plt.scatter(X[:,0],X[:,1],s=200,cmap='viridis',c='blue')\n",
    "# plt.show()"
   ]
  },
  {
   "cell_type": "code",
   "execution_count": 52,
   "metadata": {
    "scrolled": false
   },
   "outputs": [
    {
     "data": {
      "image/png": "[encoded data removed]",
      "text/plain": [
       "<Figure size 432x288 with 1 Axes>"
      ]
     },
     "metadata": {
      "needs_background": "light"
     },
     "output_type": "display_data"
    }
   ],
   "source": [
    "distortions = []\n",
    "K = range(1,20)\n",
    "for k in K:\n",
    "    kmeans = KMeans(n_clusters=k, random_state=0).fit(geo)\n",
    "    distortions.append(sum(np.min(cdist(geo,kmeans.cluster_centers_,'euclidean'),axis=1))/geo.shape[0])\n",
    "\n",
    "df_distortion = pd.DataFrame(distortions,columns=['sum_square_distances_to_center'])\n",
    "df_distortion.to_csv(r'C:\\Users\\u279014\\Documents\\H_Drive\\7.AA Models\\12.Logistic_Optimization\\data\\k_selection.csv',index='No_cluster')  \n",
    "\n",
    "    # Plot the elbow\n",
    "plt.plot(K, distortions, 'bx-')\n",
    "plt.xlabel('k')\n",
    "plt.ylabel('Distortion')\n",
    "plt.title('The Elbow Method showing the optimal k')\n",
    "plt.show()"
   ]
  },
  {
   "cell_type": "code",
   "execution_count": 53,
   "metadata": {},
   "outputs": [],
   "source": [
    "df_distortion['distortion_moving_diff'] = df_distortion.sum_square_distances_to_center.diff(-1)"
   ]
  },
  {
   "cell_type": "code",
   "execution_count": 54,
   "metadata": {},
   "outputs": [
    {
     "data": {
      "image/png": "[encoded data removed]",
      "text/plain": [
       "<Figure size 432x288 with 1 Axes>"
      ]
     },
     "metadata": {
      "needs_background": "light"
     },
     "output_type": "display_data"
    }
   ],
   "source": [
    "plt.plot(K, df_distortion.distortion_moving_diff, 'bx-')\n",
    "plt.xlabel('k')\n",
    "plt.ylabel('Distortion_DIFF')\n",
    "plt.title('The Elbow Method showing the optimal k')\n",
    "plt.show()"
   ]
  },
  {
   "cell_type": "code",
   "execution_count": 55,
   "metadata": {},
   "outputs": [],
   "source": [
    "df_distortion.to_csv(r'C:\\Users\\u279014\\Documents\\H_Drive\\7.AA Models\\12.Logistic_Optimization\\data\\k_selection.csv',index='No_cluster')  "
   ]
  },
  {
   "cell_type": "code",
   "execution_count": 56,
   "metadata": {
    "scrolled": true
   },
   "outputs": [],
   "source": [
    "id_n=8\n",
    "kmeans = KMeans(n_clusters=id_n, random_state=0).fit(geo)\n",
    "id_label=kmeans.labels_\n",
    "kmeans_centers = kmeans.cluster_centers_"
   ]
  },
  {
   "cell_type": "code",
   "execution_count": 57,
   "metadata": {
    "scrolled": true
   },
   "outputs": [],
   "source": [
    "geo_cass = cass_zip\n",
    "geo_cass['label'] = kmeans.labels_\n",
    "geo_cass.to_csv(r'C:\\Users\\u279014\\Documents\\H_Drive\\7.AA Models\\12.Logistic_Optimization\\data\\geo_cass.csv',index=False)  "
   ]
  },
  {
   "cell_type": "code",
   "execution_count": 58,
   "metadata": {
    "scrolled": false
   },
   "outputs": [],
   "source": [
    "# plt.figure(figsize=(20,20))\n",
    "# mm = Basemap(llcrnrlon = min(kmeans_centers[:,0])-15,llcrnrlat = min(kmeans_centers[:,1]-10), \n",
    "#              urcrnrlon = max(kmeans_centers[:,0]+10),urcrnrlat = max(kmeans_centers[:,1]+10))\n",
    "# mm.fillcontinents(color = 'grey', alpha = 0.3, lake_color = 'black')\n",
    "# mm.drawcoastlines(linewidth = 0.5,color = 'white')\n",
    "\n",
    "# mm.shadedrelief()\n",
    "# mm.drawcoastlines(color='gray')\n",
    "# mm.drawcountries(color='gray')\n",
    "# mm.drawstates(color='gray')\n",
    "\n",
    "# plt.scatter(kmeans_centers[:,0],kmeans_centers[:,1],s=200,cmap='viridis',c='blue')\n",
    "# plt.show()"
   ]
  },
  {
   "cell_type": "markdown",
   "metadata": {},
   "source": [
    "### Solution 2: DBSCAN_Modeling:\n",
    "####  - advantange: calculates gap distance limitation & precomputed distance matrix gives more flexibilit\n",
    "#### -  weakness: not mentioning where to be center"
   ]
  },
  {
   "cell_type": "code",
   "execution_count": 59,
   "metadata": {},
   "outputs": [],
   "source": [
    "from sklearn.cluster import DBSCAN\n",
    "from scipy.spatial.distance import pdist, squareform"
   ]
  },
  {
   "cell_type": "code",
   "execution_count": 60,
   "metadata": {},
   "outputs": [],
   "source": [
    "s = 'WI,IL'"
   ]
  },
  {
   "cell_type": "code",
   "execution_count": 61,
   "metadata": {},
   "outputs": [],
   "source": [
    "if not isinstance(s, list):\n",
    "    new_s = s.split(',')"
   ]
  },
  {
   "cell_type": "code",
   "execution_count": 62,
   "metadata": {},
   "outputs": [
    {
     "data": {
      "text/plain": [
       "['WI', 'IL']"
      ]
     },
     "execution_count": 62,
     "metadata": {},
     "output_type": "execute_result"
    }
   ],
   "source": [
    "new_s"
   ]
  },
  {
   "cell_type": "code",
   "execution_count": 63,
   "metadata": {},
   "outputs": [],
   "source": [
    "cluster_selections = ['WI','IL','MI','IN','IA','MI']\n",
    "geo = cass_zip[cass_zip.shipper_state.isin(cluster_selections)].reset_index()"
   ]
  },
  {
   "cell_type": "code",
   "execution_count": 64,
   "metadata": {},
   "outputs": [
    {
     "data": {
      "text/plain": [
       "str"
      ]
     },
     "execution_count": 64,
     "metadata": {},
     "output_type": "execute_result"
    }
   ],
   "source": [
    "type(geo.zip_code[0])"
   ]
  },
  {
   "cell_type": "code",
   "execution_count": 65,
   "metadata": {
    "scrolled": true
   },
   "outputs": [],
   "source": [
    "# distance_matrix = distance_on_sphere_numpy(geo)"
   ]
  },
  {
   "cell_type": "markdown",
   "metadata": {},
   "source": [
    "### Distance_Matrix using actual riding distance >>>>"
   ]
  },
  {
   "cell_type": "code",
   "execution_count": 66,
   "metadata": {},
   "outputs": [
    {
     "ename": "KeyError",
     "evalue": "'46515'",
     "output_type": "error",
     "traceback": [
      "\u001b[1;31m---------------------------------------------------------------------------\u001b[0m",
      "\u001b[1;31mKeyError\u001b[0m                                  Traceback (most recent call last)",
      "\u001b[1;32m~\\Anaconda3\\lib\\site-packages\\pandas\\core\\indexes\\base.py\u001b[0m in \u001b[0;36mget_loc\u001b[1;34m(self, key, method, tolerance)\u001b[0m\n\u001b[0;32m   2645\u001b[0m             \u001b[1;32mtry\u001b[0m\u001b[1;33m:\u001b[0m\u001b[1;33m\u001b[0m\u001b[1;33m\u001b[0m\u001b[0m\n\u001b[1;32m-> 2646\u001b[1;33m                 \u001b[1;32mreturn\u001b[0m \u001b[0mself\u001b[0m\u001b[1;33m.\u001b[0m\u001b[0m_engine\u001b[0m\u001b[1;33m.\u001b[0m\u001b[0mget_loc\u001b[0m\u001b[1;33m(\u001b[0m\u001b[0mkey\u001b[0m\u001b[1;33m)\u001b[0m\u001b[1;33m\u001b[0m\u001b[1;33m\u001b[0m\u001b[0m\n\u001b[0m\u001b[0;32m   2647\u001b[0m             \u001b[1;32mexcept\u001b[0m \u001b[0mKeyError\u001b[0m\u001b[1;33m:\u001b[0m\u001b[1;33m\u001b[0m\u001b[1;33m\u001b[0m\u001b[0m\n",
      "\u001b[1;32mpandas\\_libs\\index.pyx\u001b[0m in \u001b[0;36mpandas._libs.index.IndexEngine.get_loc\u001b[1;34m()\u001b[0m\n",
      "\u001b[1;32mpandas\\_libs\\index.pyx\u001b[0m in \u001b[0;36mpandas._libs.index.IndexEngine.get_loc\u001b[1;34m()\u001b[0m\n",
      "\u001b[1;32mpandas\\_libs\\hashtable_class_helper.pxi\u001b[0m in \u001b[0;36mpandas._libs.hashtable.PyObjectHashTable.get_item\u001b[1;34m()\u001b[0m\n",
      "\u001b[1;32mpandas\\_libs\\hashtable_class_helper.pxi\u001b[0m in \u001b[0;36mpandas._libs.hashtable.PyObjectHashTable.get_item\u001b[1;34m()\u001b[0m\n",
      "\u001b[1;31mKeyError\u001b[0m: '46515'",
      "\nDuring handling of the above exception, another exception occurred:\n",
      "\u001b[1;31mKeyError\u001b[0m                                  Traceback (most recent call last)",
      "\u001b[1;32m<ipython-input-66-a238e6b43ad1>\u001b[0m in \u001b[0;36m<module>\u001b[1;34m\u001b[0m\n\u001b[0;32m      2\u001b[0m \u001b[0mfile\u001b[0m \u001b[1;33m=\u001b[0m \u001b[1;34mr'riding_distance_matrix.xlsx'\u001b[0m\u001b[1;33m\u001b[0m\u001b[1;33m\u001b[0m\u001b[0m\n\u001b[0;32m      3\u001b[0m \u001b[0mriding_distance_matrix\u001b[0m \u001b[1;33m=\u001b[0m \u001b[0mload_riding_distance_matrix\u001b[0m\u001b[1;33m(\u001b[0m\u001b[0mpath\u001b[0m\u001b[1;33m,\u001b[0m\u001b[0mfile\u001b[0m\u001b[1;33m)\u001b[0m\u001b[1;33m\u001b[0m\u001b[1;33m\u001b[0m\u001b[0m\n\u001b[1;32m----> 4\u001b[1;33m \u001b[0mdistance_matrix\u001b[0m \u001b[1;33m=\u001b[0m \u001b[0mriding_distance\u001b[0m\u001b[1;33m(\u001b[0m\u001b[0mriding_distance_matrix\u001b[0m\u001b[1;33m,\u001b[0m \u001b[0mgeo\u001b[0m\u001b[1;33m)\u001b[0m\u001b[1;33m\u001b[0m\u001b[1;33m\u001b[0m\u001b[0m\n\u001b[0m",
      "\u001b[1;32m<ipython-input-2-345cb67a8304>\u001b[0m in \u001b[0;36mriding_distance\u001b[1;34m(riding_distance_matrix, geo)\u001b[0m\n\u001b[0;32m     12\u001b[0m         \u001b[0md_row\u001b[0m \u001b[1;33m=\u001b[0m \u001b[1;33m[\u001b[0m\u001b[1;33m]\u001b[0m\u001b[1;33m\u001b[0m\u001b[1;33m\u001b[0m\u001b[0m\n\u001b[0;32m     13\u001b[0m         \u001b[1;32mfor\u001b[0m \u001b[0mj\u001b[0m \u001b[1;32min\u001b[0m \u001b[0mzipcodes\u001b[0m\u001b[1;33m:\u001b[0m\u001b[1;33m\u001b[0m\u001b[1;33m\u001b[0m\u001b[0m\n\u001b[1;32m---> 14\u001b[1;33m             \u001b[0md_row\u001b[0m\u001b[1;33m.\u001b[0m\u001b[0mappend\u001b[0m\u001b[1;33m(\u001b[0m\u001b[0mriding_distance_matrix\u001b[0m\u001b[1;33m.\u001b[0m\u001b[0mloc\u001b[0m\u001b[1;33m[\u001b[0m\u001b[0mi\u001b[0m\u001b[1;33m,\u001b[0m\u001b[0mj\u001b[0m\u001b[1;33m]\u001b[0m\u001b[1;33m)\u001b[0m\u001b[1;33m\u001b[0m\u001b[1;33m\u001b[0m\u001b[0m\n\u001b[0m\u001b[0;32m     15\u001b[0m         \u001b[0md_matrix\u001b[0m\u001b[1;33m.\u001b[0m\u001b[0mappend\u001b[0m\u001b[1;33m(\u001b[0m\u001b[0md_row\u001b[0m\u001b[1;33m)\u001b[0m\u001b[1;33m\u001b[0m\u001b[1;33m\u001b[0m\u001b[0m\n\u001b[0;32m     16\u001b[0m     \u001b[1;32mreturn\u001b[0m \u001b[0mnp\u001b[0m\u001b[1;33m.\u001b[0m\u001b[0masarray\u001b[0m\u001b[1;33m(\u001b[0m\u001b[0md_matrix\u001b[0m\u001b[1;33m)\u001b[0m\u001b[1;33m\u001b[0m\u001b[1;33m\u001b[0m\u001b[0m\n",
      "\u001b[1;32m~\\Anaconda3\\lib\\site-packages\\pandas\\core\\indexing.py\u001b[0m in \u001b[0;36m__getitem__\u001b[1;34m(self, key)\u001b[0m\n\u001b[0;32m   1759\u001b[0m                 \u001b[1;32mexcept\u001b[0m \u001b[1;33m(\u001b[0m\u001b[0mKeyError\u001b[0m\u001b[1;33m,\u001b[0m \u001b[0mIndexError\u001b[0m\u001b[1;33m,\u001b[0m \u001b[0mAttributeError\u001b[0m\u001b[1;33m)\u001b[0m\u001b[1;33m:\u001b[0m\u001b[1;33m\u001b[0m\u001b[1;33m\u001b[0m\u001b[0m\n\u001b[0;32m   1760\u001b[0m                     \u001b[1;32mpass\u001b[0m\u001b[1;33m\u001b[0m\u001b[1;33m\u001b[0m\u001b[0m\n\u001b[1;32m-> 1761\u001b[1;33m             \u001b[1;32mreturn\u001b[0m \u001b[0mself\u001b[0m\u001b[1;33m.\u001b[0m\u001b[0m_getitem_tuple\u001b[0m\u001b[1;33m(\u001b[0m\u001b[0mkey\u001b[0m\u001b[1;33m)\u001b[0m\u001b[1;33m\u001b[0m\u001b[1;33m\u001b[0m\u001b[0m\n\u001b[0m\u001b[0;32m   1762\u001b[0m         \u001b[1;32melse\u001b[0m\u001b[1;33m:\u001b[0m\u001b[1;33m\u001b[0m\u001b[1;33m\u001b[0m\u001b[0m\n\u001b[0;32m   1763\u001b[0m             \u001b[1;31m# we by definition only have the 0th axis\u001b[0m\u001b[1;33m\u001b[0m\u001b[1;33m\u001b[0m\u001b[1;33m\u001b[0m\u001b[0m\n",
      "\u001b[1;32m~\\Anaconda3\\lib\\site-packages\\pandas\\core\\indexing.py\u001b[0m in \u001b[0;36m_getitem_tuple\u001b[1;34m(self, tup)\u001b[0m\n\u001b[0;32m   1269\u001b[0m     \u001b[1;32mdef\u001b[0m \u001b[0m_getitem_tuple\u001b[0m\u001b[1;33m(\u001b[0m\u001b[0mself\u001b[0m\u001b[1;33m,\u001b[0m \u001b[0mtup\u001b[0m\u001b[1;33m:\u001b[0m \u001b[0mTuple\u001b[0m\u001b[1;33m)\u001b[0m\u001b[1;33m:\u001b[0m\u001b[1;33m\u001b[0m\u001b[1;33m\u001b[0m\u001b[0m\n\u001b[0;32m   1270\u001b[0m         \u001b[1;32mtry\u001b[0m\u001b[1;33m:\u001b[0m\u001b[1;33m\u001b[0m\u001b[1;33m\u001b[0m\u001b[0m\n\u001b[1;32m-> 1271\u001b[1;33m             \u001b[1;32mreturn\u001b[0m \u001b[0mself\u001b[0m\u001b[1;33m.\u001b[0m\u001b[0m_getitem_lowerdim\u001b[0m\u001b[1;33m(\u001b[0m\u001b[0mtup\u001b[0m\u001b[1;33m)\u001b[0m\u001b[1;33m\u001b[0m\u001b[1;33m\u001b[0m\u001b[0m\n\u001b[0m\u001b[0;32m   1272\u001b[0m         \u001b[1;32mexcept\u001b[0m \u001b[0mIndexingError\u001b[0m\u001b[1;33m:\u001b[0m\u001b[1;33m\u001b[0m\u001b[1;33m\u001b[0m\u001b[0m\n\u001b[0;32m   1273\u001b[0m             \u001b[1;32mpass\u001b[0m\u001b[1;33m\u001b[0m\u001b[1;33m\u001b[0m\u001b[0m\n",
      "\u001b[1;32m~\\Anaconda3\\lib\\site-packages\\pandas\\core\\indexing.py\u001b[0m in \u001b[0;36m_getitem_lowerdim\u001b[1;34m(self, tup)\u001b[0m\n\u001b[0;32m   1418\u001b[0m                     \u001b[1;32mreturn\u001b[0m \u001b[0msection\u001b[0m\u001b[1;33m\u001b[0m\u001b[1;33m\u001b[0m\u001b[0m\n\u001b[0;32m   1419\u001b[0m                 \u001b[1;31m# This is an elided recursive call to iloc/loc/etc'\u001b[0m\u001b[1;33m\u001b[0m\u001b[1;33m\u001b[0m\u001b[1;33m\u001b[0m\u001b[0m\n\u001b[1;32m-> 1420\u001b[1;33m                 \u001b[1;32mreturn\u001b[0m \u001b[0mgetattr\u001b[0m\u001b[1;33m(\u001b[0m\u001b[0msection\u001b[0m\u001b[1;33m,\u001b[0m \u001b[0mself\u001b[0m\u001b[1;33m.\u001b[0m\u001b[0mname\u001b[0m\u001b[1;33m)\u001b[0m\u001b[1;33m[\u001b[0m\u001b[0mnew_key\u001b[0m\u001b[1;33m]\u001b[0m\u001b[1;33m\u001b[0m\u001b[1;33m\u001b[0m\u001b[0m\n\u001b[0m\u001b[0;32m   1421\u001b[0m \u001b[1;33m\u001b[0m\u001b[0m\n\u001b[0;32m   1422\u001b[0m         \u001b[1;32mraise\u001b[0m \u001b[0mIndexingError\u001b[0m\u001b[1;33m(\u001b[0m\u001b[1;34m\"not applicable\"\u001b[0m\u001b[1;33m)\u001b[0m\u001b[1;33m\u001b[0m\u001b[1;33m\u001b[0m\u001b[0m\n",
      "\u001b[1;32m~\\Anaconda3\\lib\\site-packages\\pandas\\core\\indexing.py\u001b[0m in \u001b[0;36m__getitem__\u001b[1;34m(self, key)\u001b[0m\n\u001b[0;32m   1765\u001b[0m \u001b[1;33m\u001b[0m\u001b[0m\n\u001b[0;32m   1766\u001b[0m             \u001b[0mmaybe_callable\u001b[0m \u001b[1;33m=\u001b[0m \u001b[0mcom\u001b[0m\u001b[1;33m.\u001b[0m\u001b[0mapply_if_callable\u001b[0m\u001b[1;33m(\u001b[0m\u001b[0mkey\u001b[0m\u001b[1;33m,\u001b[0m \u001b[0mself\u001b[0m\u001b[1;33m.\u001b[0m\u001b[0mobj\u001b[0m\u001b[1;33m)\u001b[0m\u001b[1;33m\u001b[0m\u001b[1;33m\u001b[0m\u001b[0m\n\u001b[1;32m-> 1767\u001b[1;33m             \u001b[1;32mreturn\u001b[0m \u001b[0mself\u001b[0m\u001b[1;33m.\u001b[0m\u001b[0m_getitem_axis\u001b[0m\u001b[1;33m(\u001b[0m\u001b[0mmaybe_callable\u001b[0m\u001b[1;33m,\u001b[0m \u001b[0maxis\u001b[0m\u001b[1;33m=\u001b[0m\u001b[0maxis\u001b[0m\u001b[1;33m)\u001b[0m\u001b[1;33m\u001b[0m\u001b[1;33m\u001b[0m\u001b[0m\n\u001b[0m\u001b[0;32m   1768\u001b[0m \u001b[1;33m\u001b[0m\u001b[0m\n\u001b[0;32m   1769\u001b[0m     \u001b[1;32mdef\u001b[0m \u001b[0m_is_scalar_access\u001b[0m\u001b[1;33m(\u001b[0m\u001b[0mself\u001b[0m\u001b[1;33m,\u001b[0m \u001b[0mkey\u001b[0m\u001b[1;33m:\u001b[0m \u001b[0mTuple\u001b[0m\u001b[1;33m)\u001b[0m\u001b[1;33m:\u001b[0m\u001b[1;33m\u001b[0m\u001b[1;33m\u001b[0m\u001b[0m\n",
      "\u001b[1;32m~\\Anaconda3\\lib\\site-packages\\pandas\\core\\indexing.py\u001b[0m in \u001b[0;36m_getitem_axis\u001b[1;34m(self, key, axis)\u001b[0m\n\u001b[0;32m   1962\u001b[0m         \u001b[1;31m# fall thru to straight lookup\u001b[0m\u001b[1;33m\u001b[0m\u001b[1;33m\u001b[0m\u001b[1;33m\u001b[0m\u001b[0m\n\u001b[0;32m   1963\u001b[0m         \u001b[0mself\u001b[0m\u001b[1;33m.\u001b[0m\u001b[0m_validate_key\u001b[0m\u001b[1;33m(\u001b[0m\u001b[0mkey\u001b[0m\u001b[1;33m,\u001b[0m \u001b[0maxis\u001b[0m\u001b[1;33m)\u001b[0m\u001b[1;33m\u001b[0m\u001b[1;33m\u001b[0m\u001b[0m\n\u001b[1;32m-> 1964\u001b[1;33m         \u001b[1;32mreturn\u001b[0m \u001b[0mself\u001b[0m\u001b[1;33m.\u001b[0m\u001b[0m_get_label\u001b[0m\u001b[1;33m(\u001b[0m\u001b[0mkey\u001b[0m\u001b[1;33m,\u001b[0m \u001b[0maxis\u001b[0m\u001b[1;33m=\u001b[0m\u001b[0maxis\u001b[0m\u001b[1;33m)\u001b[0m\u001b[1;33m\u001b[0m\u001b[1;33m\u001b[0m\u001b[0m\n\u001b[0m\u001b[0;32m   1965\u001b[0m \u001b[1;33m\u001b[0m\u001b[0m\n\u001b[0;32m   1966\u001b[0m \u001b[1;33m\u001b[0m\u001b[0m\n",
      "\u001b[1;32m~\\Anaconda3\\lib\\site-packages\\pandas\\core\\indexing.py\u001b[0m in \u001b[0;36m_get_label\u001b[1;34m(self, label, axis)\u001b[0m\n\u001b[0;32m    618\u001b[0m             \u001b[1;31m# but will fail when the index is not present\u001b[0m\u001b[1;33m\u001b[0m\u001b[1;33m\u001b[0m\u001b[1;33m\u001b[0m\u001b[0m\n\u001b[0;32m    619\u001b[0m             \u001b[1;31m# see GH5667\u001b[0m\u001b[1;33m\u001b[0m\u001b[1;33m\u001b[0m\u001b[1;33m\u001b[0m\u001b[0m\n\u001b[1;32m--> 620\u001b[1;33m             \u001b[1;32mreturn\u001b[0m \u001b[0mself\u001b[0m\u001b[1;33m.\u001b[0m\u001b[0mobj\u001b[0m\u001b[1;33m.\u001b[0m\u001b[0m_xs\u001b[0m\u001b[1;33m(\u001b[0m\u001b[0mlabel\u001b[0m\u001b[1;33m,\u001b[0m \u001b[0maxis\u001b[0m\u001b[1;33m=\u001b[0m\u001b[0maxis\u001b[0m\u001b[1;33m)\u001b[0m\u001b[1;33m\u001b[0m\u001b[1;33m\u001b[0m\u001b[0m\n\u001b[0m\u001b[0;32m    621\u001b[0m         \u001b[1;32melif\u001b[0m \u001b[0misinstance\u001b[0m\u001b[1;33m(\u001b[0m\u001b[0mlabel\u001b[0m\u001b[1;33m,\u001b[0m \u001b[0mtuple\u001b[0m\u001b[1;33m)\u001b[0m \u001b[1;32mand\u001b[0m \u001b[0misinstance\u001b[0m\u001b[1;33m(\u001b[0m\u001b[0mlabel\u001b[0m\u001b[1;33m[\u001b[0m\u001b[0maxis\u001b[0m\u001b[1;33m]\u001b[0m\u001b[1;33m,\u001b[0m \u001b[0mslice\u001b[0m\u001b[1;33m)\u001b[0m\u001b[1;33m:\u001b[0m\u001b[1;33m\u001b[0m\u001b[1;33m\u001b[0m\u001b[0m\n\u001b[0;32m    622\u001b[0m             \u001b[1;32mraise\u001b[0m \u001b[0mIndexingError\u001b[0m\u001b[1;33m(\u001b[0m\u001b[1;34m\"no slices here, handle elsewhere\"\u001b[0m\u001b[1;33m)\u001b[0m\u001b[1;33m\u001b[0m\u001b[1;33m\u001b[0m\u001b[0m\n",
      "\u001b[1;32m~\\Anaconda3\\lib\\site-packages\\pandas\\core\\generic.py\u001b[0m in \u001b[0;36mxs\u001b[1;34m(self, key, axis, level, drop_level)\u001b[0m\n\u001b[0;32m   3535\u001b[0m             \u001b[0mloc\u001b[0m\u001b[1;33m,\u001b[0m \u001b[0mnew_index\u001b[0m \u001b[1;33m=\u001b[0m \u001b[0mself\u001b[0m\u001b[1;33m.\u001b[0m\u001b[0mindex\u001b[0m\u001b[1;33m.\u001b[0m\u001b[0mget_loc_level\u001b[0m\u001b[1;33m(\u001b[0m\u001b[0mkey\u001b[0m\u001b[1;33m,\u001b[0m \u001b[0mdrop_level\u001b[0m\u001b[1;33m=\u001b[0m\u001b[0mdrop_level\u001b[0m\u001b[1;33m)\u001b[0m\u001b[1;33m\u001b[0m\u001b[1;33m\u001b[0m\u001b[0m\n\u001b[0;32m   3536\u001b[0m         \u001b[1;32melse\u001b[0m\u001b[1;33m:\u001b[0m\u001b[1;33m\u001b[0m\u001b[1;33m\u001b[0m\u001b[0m\n\u001b[1;32m-> 3537\u001b[1;33m             \u001b[0mloc\u001b[0m \u001b[1;33m=\u001b[0m \u001b[0mself\u001b[0m\u001b[1;33m.\u001b[0m\u001b[0mindex\u001b[0m\u001b[1;33m.\u001b[0m\u001b[0mget_loc\u001b[0m\u001b[1;33m(\u001b[0m\u001b[0mkey\u001b[0m\u001b[1;33m)\u001b[0m\u001b[1;33m\u001b[0m\u001b[1;33m\u001b[0m\u001b[0m\n\u001b[0m\u001b[0;32m   3538\u001b[0m \u001b[1;33m\u001b[0m\u001b[0m\n\u001b[0;32m   3539\u001b[0m             \u001b[1;32mif\u001b[0m \u001b[0misinstance\u001b[0m\u001b[1;33m(\u001b[0m\u001b[0mloc\u001b[0m\u001b[1;33m,\u001b[0m \u001b[0mnp\u001b[0m\u001b[1;33m.\u001b[0m\u001b[0mndarray\u001b[0m\u001b[1;33m)\u001b[0m\u001b[1;33m:\u001b[0m\u001b[1;33m\u001b[0m\u001b[1;33m\u001b[0m\u001b[0m\n",
      "\u001b[1;32m~\\Anaconda3\\lib\\site-packages\\pandas\\core\\indexes\\base.py\u001b[0m in \u001b[0;36mget_loc\u001b[1;34m(self, key, method, tolerance)\u001b[0m\n\u001b[0;32m   2646\u001b[0m                 \u001b[1;32mreturn\u001b[0m \u001b[0mself\u001b[0m\u001b[1;33m.\u001b[0m\u001b[0m_engine\u001b[0m\u001b[1;33m.\u001b[0m\u001b[0mget_loc\u001b[0m\u001b[1;33m(\u001b[0m\u001b[0mkey\u001b[0m\u001b[1;33m)\u001b[0m\u001b[1;33m\u001b[0m\u001b[1;33m\u001b[0m\u001b[0m\n\u001b[0;32m   2647\u001b[0m             \u001b[1;32mexcept\u001b[0m \u001b[0mKeyError\u001b[0m\u001b[1;33m:\u001b[0m\u001b[1;33m\u001b[0m\u001b[1;33m\u001b[0m\u001b[0m\n\u001b[1;32m-> 2648\u001b[1;33m                 \u001b[1;32mreturn\u001b[0m \u001b[0mself\u001b[0m\u001b[1;33m.\u001b[0m\u001b[0m_engine\u001b[0m\u001b[1;33m.\u001b[0m\u001b[0mget_loc\u001b[0m\u001b[1;33m(\u001b[0m\u001b[0mself\u001b[0m\u001b[1;33m.\u001b[0m\u001b[0m_maybe_cast_indexer\u001b[0m\u001b[1;33m(\u001b[0m\u001b[0mkey\u001b[0m\u001b[1;33m)\u001b[0m\u001b[1;33m)\u001b[0m\u001b[1;33m\u001b[0m\u001b[1;33m\u001b[0m\u001b[0m\n\u001b[0m\u001b[0;32m   2649\u001b[0m         \u001b[0mindexer\u001b[0m \u001b[1;33m=\u001b[0m \u001b[0mself\u001b[0m\u001b[1;33m.\u001b[0m\u001b[0mget_indexer\u001b[0m\u001b[1;33m(\u001b[0m\u001b[1;33m[\u001b[0m\u001b[0mkey\u001b[0m\u001b[1;33m]\u001b[0m\u001b[1;33m,\u001b[0m \u001b[0mmethod\u001b[0m\u001b[1;33m=\u001b[0m\u001b[0mmethod\u001b[0m\u001b[1;33m,\u001b[0m \u001b[0mtolerance\u001b[0m\u001b[1;33m=\u001b[0m\u001b[0mtolerance\u001b[0m\u001b[1;33m)\u001b[0m\u001b[1;33m\u001b[0m\u001b[1;33m\u001b[0m\u001b[0m\n\u001b[0;32m   2650\u001b[0m         \u001b[1;32mif\u001b[0m \u001b[0mindexer\u001b[0m\u001b[1;33m.\u001b[0m\u001b[0mndim\u001b[0m \u001b[1;33m>\u001b[0m \u001b[1;36m1\u001b[0m \u001b[1;32mor\u001b[0m \u001b[0mindexer\u001b[0m\u001b[1;33m.\u001b[0m\u001b[0msize\u001b[0m \u001b[1;33m>\u001b[0m \u001b[1;36m1\u001b[0m\u001b[1;33m:\u001b[0m\u001b[1;33m\u001b[0m\u001b[1;33m\u001b[0m\u001b[0m\n",
      "\u001b[1;32mpandas\\_libs\\index.pyx\u001b[0m in \u001b[0;36mpandas._libs.index.IndexEngine.get_loc\u001b[1;34m()\u001b[0m\n",
      "\u001b[1;32mpandas\\_libs\\index.pyx\u001b[0m in \u001b[0;36mpandas._libs.index.IndexEngine.get_loc\u001b[1;34m()\u001b[0m\n",
      "\u001b[1;32mpandas\\_libs\\hashtable_class_helper.pxi\u001b[0m in \u001b[0;36mpandas._libs.hashtable.PyObjectHashTable.get_item\u001b[1;34m()\u001b[0m\n",
      "\u001b[1;32mpandas\\_libs\\hashtable_class_helper.pxi\u001b[0m in \u001b[0;36mpandas._libs.hashtable.PyObjectHashTable.get_item\u001b[1;34m()\u001b[0m\n",
      "\u001b[1;31mKeyError\u001b[0m: '46515'"
     ]
    }
   ],
   "source": [
    "path = r'C:\\Users\\u279014\\Documents\\H_Drive\\7.AA Models\\12.Logistic_Optimization\\data'\n",
    "file = r'riding_distance_matrix.xlsx'\n",
    "riding_distance_matrix = load_riding_distance_matrix(path,file)\n",
    "distance_matrix = riding_distance(riding_distance_matrix, geo)"
   ]
  },
  {
   "cell_type": "code",
   "execution_count": 36,
   "metadata": {},
   "outputs": [
    {
     "data": {
      "text/plain": [
       "173"
      ]
     },
     "execution_count": 36,
     "metadata": {},
     "output_type": "execute_result"
    }
   ],
   "source": [
    "len(dfcass.shipper_zip.unique())"
   ]
  },
  {
   "cell_type": "code",
   "execution_count": 37,
   "metadata": {},
   "outputs": [],
   "source": [
    "pd.DataFrame([x for x in dfcass.shipper_zip.unique() if x not in riding_distance_matrix.index]).to_csv('extra_zipcode.csv')"
   ]
  },
  {
   "cell_type": "code",
   "execution_count": 38,
   "metadata": {},
   "outputs": [
    {
     "data": {
      "text/plain": [
       "Index(['11201', '11435', '11716', '12193', '13088', '14009', '14150', '15056',\n",
       "       '15085', '17201',\n",
       "       ...\n",
       "       '45383', '29544', '15275', '17316', '28805', '30534', '17257', '30043',\n",
       "       '15650', '77029'],\n",
       "      dtype='object', name='zipcode', length=519)"
      ]
     },
     "execution_count": 38,
     "metadata": {},
     "output_type": "execute_result"
    }
   ],
   "source": [
    "riding_distance_matrix.index"
   ]
  },
  {
   "cell_type": "code",
   "execution_count": 39,
   "metadata": {},
   "outputs": [
    {
     "data": {
      "text/plain": [
       "True"
      ]
     },
     "execution_count": 39,
     "metadata": {},
     "output_type": "execute_result"
    }
   ],
   "source": [
    "np.any(riding_distance_matrix.columns == '53012')"
   ]
  },
  {
   "cell_type": "code",
   "execution_count": 40,
   "metadata": {
    "scrolled": false
   },
   "outputs": [
    {
     "data": {
      "text/plain": [
       "DBSCAN(algorithm='auto', eps=20, leaf_size=30, metric='precomputed',\n",
       "       metric_params=None, min_samples=3, n_jobs=None, p=None)"
      ]
     },
     "execution_count": 40,
     "metadata": {},
     "output_type": "execute_result"
    }
   ],
   "source": [
    "\"\"\"\n",
    "parameter:\n",
    "    eps: location to core distance in between\n",
    "    min_samples: minimum locations in one group(cluster)\n",
    "    metric: precomputed as we have our own distance metricx\n",
    "return:\n",
    "    cluster model\n",
    "\"\"\"\n",
    "db = DBSCAN(eps=20,min_samples=3,metric='precomputed',leaf_size=30)\n",
    "db.fit(distance_matrix)"
   ]
  },
  {
   "cell_type": "code",
   "execution_count": 41,
   "metadata": {},
   "outputs": [],
   "source": [
    "# Save csv for PowerBI visualization\n",
    "geo['label']=db.labels_\n",
    "geo.to_csv('cass_zip_cluster.csv',index=False)\n",
    "geo.to_feather('cass_zip_cluster')"
   ]
  },
  {
   "cell_type": "code",
   "execution_count": 42,
   "metadata": {
    "scrolled": true
   },
   "outputs": [
    {
     "data": {
      "text/plain": [
       "[(-1, 40),\n",
       " (11, 9),\n",
       " (3, 7),\n",
       " (4, 7),\n",
       " (9, 6),\n",
       " (10, 6),\n",
       " (12, 5),\n",
       " (2, 4),\n",
       " (6, 4),\n",
       " (8, 4),\n",
       " (0, 3),\n",
       " (1, 3),\n",
       " (5, 3),\n",
       " (7, 3)]"
      ]
     },
     "execution_count": 42,
     "metadata": {},
     "output_type": "execute_result"
    }
   ],
   "source": [
    "# let's take a look which cluster has most locations:\n",
    "counter = Counter(db.labels_)\n",
    "counter.most_common()"
   ]
  },
  {
   "cell_type": "markdown",
   "metadata": {},
   "source": [
    "## Now, go to PowerBi for Reviewing >>>>>>>"
   ]
  },
  {
   "cell_type": "code",
   "execution_count": null,
   "metadata": {},
   "outputs": [],
   "source": []
  }
 ],
 "metadata": {
  "kernelspec": {
   "display_name": "Python 3",
   "language": "python",
   "name": "python3"
  },
  "language_info": {
   "codemirror_mode": {
    "name": "ipython",
    "version": 3
   },
   "file_extension": ".py",
   "mimetype": "text/x-python",
   "name": "python",
   "nbconvert_exporter": "python",
   "pygments_lexer": "ipython3",
   "version": "3.7.6"
  }
 },
 "nbformat": 4,
 "nbformat_minor": 2
}
