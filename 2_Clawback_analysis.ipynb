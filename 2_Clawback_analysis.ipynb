{
 "cells": [
  {
   "cell_type": "code",
   "execution_count": 5,
   "metadata": {},
   "outputs": [],
   "source": [
    "# import general packages:\n",
    "import numpy as np\n",
    "import pandas as pd\n",
    "from pandas import Grouper\n",
    "from pandas import Timestamp\n",
    "import os\n",
    "import datetime as dt\n",
    "import time \n",
    "from scipy.stats import boxcox\n",
    "# import feather\n",
    "import itertools\n",
    "from math import sqrt\n",
    "import csv\n",
    "import datetime\n",
    "# import timestring\n",
    "from IPython.core.display import display, HTML\n",
    "\n",
    "# import visualization packages:\n",
    "from matplotlib import pyplot as plt\n",
    "import seaborn as sns\n",
    "# import ggplot\n",
    "\n",
    "# import modeling pacakges:\n",
    "import statsmodels.api as sm\n",
    "from sklearn.linear_model import Ridge\n",
    "from sklearn.metrics import mean_squared_error\n",
    "from sklearn.preprocessing import PolynomialFeatures\n",
    "from sklearn.pipeline import make_pipeline\n",
    "from sklearn import metrics\n",
    "from sklearn.kernel_ridge import KernelRidge"
   ]
  },
  {
   "cell_type": "code",
   "execution_count": 6,
   "metadata": {},
   "outputs": [
    {
     "data": {
      "text/html": [
       "<style>.container { width:100% !important; }</style>"
      ],
      "text/plain": [
       "<IPython.core.display.HTML object>"
      ]
     },
     "metadata": {},
     "output_type": "display_data"
    }
   ],
   "source": [
    "# make jynb full screen \n",
    "display(HTML(\"<style>.container { width:100% !important; }</style>\"))"
   ]
  },
  {
   "cell_type": "code",
   "execution_count": 7,
   "metadata": {},
   "outputs": [],
   "source": [
    "# pd.set_option('display.max_columns', None)\n",
    "# pd.set_option('display.max_rows', 1000)\n",
    "# pd.set_option('display.max_colwidth', 1000)"
   ]
  },
  {
   "cell_type": "code",
   "execution_count": 8,
   "metadata": {},
   "outputs": [],
   "source": [
    "# os.chdir('S:\\\\CORP-Share\\\\DEPT\\\\IT\\\\STRATEGY\\\\Advanced Analytics\\\\Nathan\\\\1.GPSC_Project\\Pricing_Index\\\\Data')\n",
    "os.chdir('C:\\\\Users\\\\u279014\\\\Documents\\\\H_Drive\\\\7.AA Models\\\\2.Claw_back_Analysis\\\\Data')\n",
    "os.makedirs('temp',exist_ok=True)"
   ]
  },
  {
   "cell_type": "code",
   "execution_count": 9,
   "metadata": {},
   "outputs": [],
   "source": [
    "file = [f for f in os.listdir() if'JLG' in f][0]\n",
    "df_index = pd.read_excel(file,sheet_name='Sheet1',skiprows=[0])\n",
    "\n",
    "file = [f for f in os.listdir() if'PPV filtered for steel impact' in f][0]\n",
    "df_pp = pd.read_csv(file)\n",
    "\n",
    "file = [f for f in os.listdir() if'DirectedBuyFabricatorPricing' in f][0]\n",
    "df_db = pd.read_csv(file)\n",
    "\n",
    "file = [f for f in os.listdir() if'Dir_Buy_Index' in f][0]\n",
    "df_index_list = pd.read_csv(file,skiprows=[0])\n",
    "\n",
    "file = [f for f in os.listdir() if'Volume' in f][0]\n",
    "df_vol = pd.read_csv(file)"
   ]
  },
  {
   "cell_type": "markdown",
   "metadata": {},
   "source": [
    "## 1.Direct_buy PPV analysis"
   ]
  },
  {
   "cell_type": "markdown",
   "metadata": {},
   "source": [
    "### Direct-buy index data set"
   ]
  },
  {
   "cell_type": "code",
   "execution_count": 10,
   "metadata": {},
   "outputs": [
    {
     "ename": "NameError",
     "evalue": "name 'feather' is not defined",
     "output_type": "error",
     "traceback": [
      "\u001b[1;31m---------------------------------------------------------------------------\u001b[0m",
      "\u001b[1;31mNameError\u001b[0m                                 Traceback (most recent call last)",
      "\u001b[1;32m<ipython-input-10-8a67d38a1ccb>\u001b[0m in \u001b[0;36m<module>\u001b[1;34m\u001b[0m\n\u001b[0;32m      7\u001b[0m \u001b[1;33m\u001b[0m\u001b[0m\n\u001b[0;32m      8\u001b[0m \u001b[1;31m# read feather file\u001b[0m\u001b[1;33m\u001b[0m\u001b[1;33m\u001b[0m\u001b[1;33m\u001b[0m\u001b[0m\n\u001b[1;32m----> 9\u001b[1;33m \u001b[0mdf_index_f\u001b[0m \u001b[1;33m=\u001b[0m \u001b[0mfeather\u001b[0m\u001b[1;33m.\u001b[0m\u001b[0mread_dataframe\u001b[0m \u001b[1;33m(\u001b[0m\u001b[1;34m'temp/fname_ind'\u001b[0m\u001b[1;33m)\u001b[0m\u001b[1;33m\u001b[0m\u001b[1;33m\u001b[0m\u001b[0m\n\u001b[0m\u001b[0;32m     10\u001b[0m \u001b[1;31m#df_ppv_f = feather.read_dataframe ('temp/fname_ppv')\u001b[0m\u001b[1;33m\u001b[0m\u001b[1;33m\u001b[0m\u001b[1;33m\u001b[0m\u001b[0m\n",
      "\u001b[1;31mNameError\u001b[0m: name 'feather' is not defined"
     ]
    }
   ],
   "source": [
    "# trim full index data set to CRU only\n",
    "df_index = df_index.loc[:,['Period', 'Year', ' Quarter', 'Cal Mo ID', 'Month', 'CRU HRC','CRU Plate', 'Platts Plate']]\n",
    "\n",
    "# build feather format for faster reading and writing\n",
    "df_index.to_feather('temp/fname_ind')\n",
    "#df_ppvto_feather('temp/fname_ppv')\n",
    "\n",
    "# read feather file\n",
    "df_index_f = feather.read_dataframe ('temp/fname_ind')\n",
    "#df_ppv_f = feather.read_dataframe ('temp/fname_ppv')"
   ]
  },
  {
   "cell_type": "code",
   "execution_count": null,
   "metadata": {},
   "outputs": [],
   "source": [
    "df_index_f = df_index_f[np.logical_and(df_index_f['Month']>'2018-06-01',df_index_f['Month']<'2019-08-01')]\n",
    "df_index_f = df_index_f[df_index_f['Year'] != 'FY18']\n",
    "df_index_f.drop_duplicates(subset=['Period'],keep='first',inplace=True)"
   ]
  },
  {
   "cell_type": "markdown",
   "metadata": {},
   "source": [
    "### PPV data set prep."
   ]
  },
  {
   "cell_type": "code",
   "execution_count": null,
   "metadata": {},
   "outputs": [],
   "source": [
    "# trim full index data \n",
    "df_pp = df_pp.loc[:,['MONTH','SUPPLIER #','SUPPLIER NAME','ITEM #','ITEM DESCRIPTION',' STD MAT ', ' CUR MAT ', ' PPV ']]\n",
    "\n",
    "# build feather format for faster reading and writing\n",
    "df_pp.to_feather('temp/fname_pp')\n",
    "#df_ppv.to_feather('temp/fname_ppv')\n",
    "\n",
    "# read feather file\n",
    "df_pp_f = feather.read_dataframe ('temp/fname_pp')\n",
    "#df_ppv_f = feather.read_dataframe ('temp/fname_ppv')"
   ]
  },
  {
   "cell_type": "code",
   "execution_count": null,
   "metadata": {},
   "outputs": [],
   "source": [
    "# df_pp_f['MAT_Diff'] = df_pp_f['CUR MAT']-df_pp_f['STD MAT']\n",
    "# df_pp_f['MAT_Diff_%'] = df_pp_f['MAT_Diff']/df_pp_f['STD MAT']*100\n",
    "df_pp_f['MON_ID'] = 'Q' + df_pp_f.MONTH.apply(lambda x: int(int(x.split('-')[0])/4)+1).astype(str)\n",
    "df_pp_f.drop_duplicates(subset=['MONTH','SUPPLIER #','ITEM #'],keep='last',inplace=True)"
   ]
  },
  {
   "cell_type": "code",
   "execution_count": null,
   "metadata": {},
   "outputs": [],
   "source": [
    "# Supplier name duplication clean\n",
    "df_pp_f['SUPPLIER NAME'] = df_pp_f['SUPPLIER NAME'].apply(lambda x: x.replace('AAA SALES & ENGINEERING,','AAA SALES AND ENGINEERING'))\n",
    "df_pp_f['SUPPLIER #'] = df_pp_f['SUPPLIER #'].fillna(0).astype(int)\n",
    "df_pp_f['SUPPLIER #'] = df_pp_f['SUPPLIER #'].astype(int)\n",
    "df_pp_f['SUPPLIER #'] = df_pp_f['SUPPLIER #'].astype(str)"
   ]
  },
  {
   "cell_type": "markdown",
   "metadata": {},
   "source": [
    "### Direct buy parts prep."
   ]
  },
  {
   "cell_type": "code",
   "execution_count": null,
   "metadata": {},
   "outputs": [],
   "source": [
    "# trim full index data set to CRU only\n",
    "df_db_f = df_db.loc[:,['PARENT PART NUMBER LEVEL 1','Parts Type','Fabricator Number','Fabricator',' Quarter_Price ', ' Period ']]"
   ]
  },
  {
   "cell_type": "code",
   "execution_count": null,
   "metadata": {},
   "outputs": [],
   "source": [
    "# clean direct_buy duplication\n",
    "df_db_f.drop_duplicates(subset=['PARENT PART NUMBER LEVEL 1',' Period '],keep='first',inplace=True)\n",
    "\n",
    "# clean white space\n",
    "df_db_f[' Period '] = df_db_f[' Period '].apply(lambda x: x.strip())"
   ]
  },
  {
   "cell_type": "markdown",
   "metadata": {},
   "source": [
    "### Volume prep."
   ]
  },
  {
   "cell_type": "code",
   "execution_count": null,
   "metadata": {},
   "outputs": [],
   "source": [
    "# trim full data set\n",
    "df_vol = df_vol.loc[:,['PI Supplier - Supplier Id', 'PI Supplier - Supplier Name','PI Activ Measures - Item Id', \n",
    "                       'PI Invoice Date - Calendar Yr and Mth Number','PI Activ Measures - Invoice Qty','FYQ']]\n",
    "\n",
    "# build feather format for faster reading and writing\n",
    "df_vol.to_feather('temp/fname_vol')\n",
    "#df_ppvto_feather('temp/fname_ppv')\n",
    "\n",
    "# read feather file\n",
    "df_vol_f = feather.read_dataframe ('temp/fname_vol')\n",
    "df_vol_f['PI Activ Measures - Item Id'] = df_vol_f['PI Activ Measures - Item Id'].astype(str)\n",
    "df_vol_f['PI Supplier - Supplier Id'] = df_vol_f['PI Supplier - Supplier Id'].astype(str)\n",
    "df_vol_f['PI Activ Measures - Invoice Qty'] = df_vol_f['PI Activ Measures - Invoice Qty'].apply(lambda x: x.replace(',','')).astype(int)\n",
    "\n",
    "# aggregate material by invoiced qty sum() same: supplier_id + item_id + year and month\n",
    "df_vol_f = df_vol_f.groupby(['PI Supplier - Supplier Id',\n",
    "                  'PI Activ Measures - Item Id',\n",
    "                  'PI Invoice Date - Calendar Yr and Mth Number',\n",
    "                  'FYQ'])['PI Activ Measures - Invoice Qty'].sum().reset_index()\n",
    "\n",
    "# time split for month\n",
    "df_vol_f['month'] = df_vol_f['PI Invoice Date - Calendar Yr and Mth Number'].apply(lambda x: int(str(x)[-2:]))"
   ]
  },
  {
   "cell_type": "markdown",
   "metadata": {},
   "source": [
    "### Tables merging process"
   ]
  },
  {
   "cell_type": "code",
   "execution_count": null,
   "metadata": {},
   "outputs": [],
   "source": [
    "# PPV & Index merging\n",
    "df_pp_index = df_pp_f.merge(df_index_f[[' Quarter','Period','CRU HRC','CRU Plate','Platts Plate']],left_on='MON_ID', right_on=' Quarter',how='left')\n",
    "\n",
    "# ppv & direct_buy mergeing\n",
    "df_pp_index_db = df_pp_index.merge(df_db_f[[' Quarter_Price ','PARENT PART NUMBER LEVEL 1','Parts Type',' Period ',]],left_on=['ITEM #','MON_ID'], right_on=['PARENT PART NUMBER LEVEL 1',' Period '], how='inner')"
   ]
  },
  {
   "cell_type": "code",
   "execution_count": null,
   "metadata": {},
   "outputs": [],
   "source": [
    "# ppv & Index_list_break_down merging\n",
    "df_pp_idx_db_ls = df_pp_index_db.merge(df_index_list[['PARENT PART NUMBER','PRIMARY INDEX']],left_on='ITEM #', right_on='PARENT PART NUMBER',how='left')\n",
    "df_pp_idx_db_ls['month'] = df_pp_idx_db_ls.MONTH.apply(lambda x: timestring.Date(x).month)"
   ]
  },
  {
   "cell_type": "code",
   "execution_count": null,
   "metadata": {},
   "outputs": [],
   "source": [
    "df_pp_idx_db_ls.sort_values(by=['ITEM #','MONTH'],ascending=True,inplace=True)"
   ]
  },
  {
   "cell_type": "code",
   "execution_count": null,
   "metadata": {},
   "outputs": [],
   "source": [
    "# ppv & vol merging\n",
    "df_pp_idx_db_ls_vol = df_pp_idx_db_ls.merge(df_vol_f[['PI Supplier - Supplier Id','PI Activ Measures - Item Id','PI Activ Measures - Invoice Qty','month','FYQ']],\n",
    "                                            left_on=['SUPPLIER #','ITEM #','month'],\n",
    "                                            right_on=['PI Supplier - Supplier Id','PI Activ Measures - Item Id','month'], \n",
    "                                            how='left')"
   ]
  },
  {
   "cell_type": "code",
   "execution_count": null,
   "metadata": {},
   "outputs": [],
   "source": [
    "# direct_buy calculated PPV\n",
    "df_pp_idx_db_ls_vol ['NET_PPV'] = (df_pp_idx_db_ls_vol[' Quarter_Price ']\\\n",
    "                                   -df_pp_idx_db_ls_vol[' CUR MAT '])\\\n",
    "                                   *df_pp_idx_db_ls_vol['PI Activ Measures - Invoice Qty']\n",
    "\n",
    "df_final_direct = df_pp_idx_db_ls_vol.drop(columns=[ 'MON_ID', ' Quarter','PARENT PART NUMBER LEVEL 1', ' Period ',\n",
    "                                  'PARENT PART NUMBER','PI Supplier - Supplier Id',\n",
    "                                  'PI Activ Measures - Item Id','FYQ'])"
   ]
  },
  {
   "cell_type": "markdown",
   "metadata": {},
   "source": [
    "### Summarize direct_buy parts PPV"
   ]
  },
  {
   "cell_type": "code",
   "execution_count": null,
   "metadata": {},
   "outputs": [],
   "source": [
    "# report creation\n",
    "df_final_direct_GP = df_final_direct.groupby(['SUPPLIER #','SUPPLIER NAME','ITEM #'])[['NET_PPV']].sum().reset_index()\n",
    "df_final_direct_GP_negative_500 = df_final_direct[df_final_direct['NET_PPV']<-500]"
   ]
  },
  {
   "cell_type": "code",
   "execution_count": null,
   "metadata": {},
   "outputs": [],
   "source": [
    "# csv creartion\n",
    "df_final_direct.to_csv(r'result_direct_buy_items_ppv.csv',index=False,header=True)\n",
    "df_final_direct_GP_negative_500.to_csv(r'result_direct_buy_negative_ppv_less_500.csv',index=False,header=True)"
   ]
  },
  {
   "cell_type": "markdown",
   "metadata": {},
   "source": [
    "### Visulizations"
   ]
  },
  {
   "cell_type": "markdown",
   "metadata": {},
   "source": [
    "####  - Supplier Opportunity"
   ]
  },
  {
   "cell_type": "code",
   "execution_count": null,
   "metadata": {},
   "outputs": [],
   "source": [
    "def rank_plot(df,supplier = 'SUPPLIER NAME',ppv= ' PPV '):\n",
    "    sns.set(style = 'whitegrid')\n",
    "    f, ax = plt.subplots(figsize = (12,8))\n",
    "\n",
    "    sns.barplot(x=ppv, y=supplier, data=df,palette = 'Blues_d', \\\n",
    "                hue_order = df[ppv],\\\n",
    "                order=df.iloc[:,0])\n",
    "\n",
    "    ax.set(ylabel = '',xlabel = 'Parts Price Variance as opportunity')"
   ]
  },
  {
   "cell_type": "code",
   "execution_count": null,
   "metadata": {},
   "outputs": [],
   "source": [
    "# opportunity by supplier\n",
    "supplier_ppv_agg = df_pp_f[df_pp_f[' PPV ']>0].groupby('SUPPLIER NAME')[' PPV '].sum().reset_index()\n",
    "supplier_qt_08 = df_pp_f[df_pp_f[' PPV ']>0].groupby('SUPPLIER NAME')[' PPV '].sum().quantile(0.8)\n",
    "supplier_ppv_agg_plus08 = supplier_ppv_agg[supplier_ppv_agg[' PPV ']>supplier_qt_08].sort_values(by = ' PPV ',ascending = False)"
   ]
  },
  {
   "cell_type": "code",
   "execution_count": null,
   "metadata": {},
   "outputs": [],
   "source": [
    "result_supplier_ppv_agg = df_final_direct_GP[df_final_direct_GP.NET_PPV <0].groupby('SUPPLIER NAME')['NET_PPV'].sum().reset_index()\n",
    "result_supplier_ppv_agg.NET_PPV = result_supplier_ppv_agg.NET_PPV.abs()"
   ]
  },
  {
   "cell_type": "code",
   "execution_count": null,
   "metadata": {},
   "outputs": [],
   "source": [
    "result_supplier_qt_08 = result_supplier_ppv_agg.groupby('SUPPLIER NAME')['NET_PPV'].sum().quantile(0.6)\n",
    "result_supplier_ppv_agg_plus08 = result_supplier_ppv_agg[result_supplier_ppv_agg.NET_PPV > \\\n",
    "                                                         result_supplier_qt_08].sort_values(by = 'NET_PPV', ascending = True)\n",
    "    \n",
    "result_supplier_ppv_agg_plus08 = result_supplier_ppv_agg_plus08[['SUPPLIER NAME','NET_PPV']].sort_values(by = 'NET_PPV', ascending=False)"
   ]
  },
  {
   "cell_type": "code",
   "execution_count": null,
   "metadata": {},
   "outputs": [],
   "source": [
    "result_supplier_ppv_agg_plus08"
   ]
  },
  {
   "cell_type": "code",
   "execution_count": null,
   "metadata": {},
   "outputs": [],
   "source": [
    "# csv creartion\n",
    "supplier_ppv_agg.to_csv(r'result_original_supplier_ppv.csv',index=False,header=True)"
   ]
  },
  {
   "cell_type": "code",
   "execution_count": null,
   "metadata": {},
   "outputs": [],
   "source": [
    "# Original PPV: \n",
    "rank_plot(supplier_ppv_agg_plus08)"
   ]
  },
  {
   "cell_type": "code",
   "execution_count": null,
   "metadata": {},
   "outputs": [],
   "source": [
    "# Opportuniy PPV for Clawback:\n",
    "rank_plot(result_supplier_ppv_agg_plus08, ppv = 'NET_PPV')"
   ]
  },
  {
   "cell_type": "code",
   "execution_count": null,
   "metadata": {
    "scrolled": true
   },
   "outputs": [],
   "source": [
    "# PPV_pct\n",
    "result_supplier_ppv_agg_plus08['PPV_pct']=result_supplier_ppv_agg_plus08.NET_PPV/result_supplier_ppv_agg_plus08.NET_PPV.sum()\n",
    "\n",
    "# find top 10 worst PPV \n",
    "result_supplier_ppv_agg_plus08.head(10)"
   ]
  },
  {
   "cell_type": "markdown",
   "metadata": {},
   "source": [
    "### - Material opportunity"
   ]
  },
  {
   "cell_type": "code",
   "execution_count": null,
   "metadata": {
    "scrolled": true
   },
   "outputs": [],
   "source": [
    "# quick find supplier code\n",
    "def find_supplier_code(key_name):\n",
    "    return df_final_direct_GP[df_final_direct_GP['SUPPLIER NAME'].apply(lambda x: key_name in x.lower())]['SUPPLIER #'].unique()"
   ]
  },
  {
   "cell_type": "code",
   "execution_count": null,
   "metadata": {},
   "outputs": [],
   "source": [
    "# indexing supplier number\n",
    "target = find_supplier_code('MILL')[0]\n",
    "\n",
    "# opportunity by material\n",
    "supplier_material_ppv_agg = (df_final_direct_GP[np.logical_and(df_final_direct_GP['SUPPLIER #'] == target,\\\n",
    "                                                         df_final_direct_GP.NET_PPV <0)]).groupby('ITEM #')['NET_PPV'].sum().reset_index()"
   ]
  },
  {
   "cell_type": "code",
   "execution_count": null,
   "metadata": {},
   "outputs": [],
   "source": [
    "supplier_material_ppv_agg['PPV_pct']=supplier_material_ppv_agg.NET_PPV/supplier_material_ppv_agg.NET_PPV.sum()\n",
    "supplier_material_ppv_agg.sort_values(by = 'NET_PPV',ascending=True,inplace=True)\n",
    "supplier_material_ppv_agg.head(10)"
   ]
  },
  {
   "cell_type": "markdown",
   "metadata": {},
   "source": [
    "## 2.Non_Direct-Buy PPV Analysis"
   ]
  },
  {
   "cell_type": "code",
   "execution_count": 19,
   "metadata": {},
   "outputs": [],
   "source": [
    "def col_name(df):\n",
    "    df.columns = df.columns.str.strip().str.lower().str.replace(' ', '_').str.replace('(', '').str.replace(')', '')\n",
    "    return df"
   ]
  },
  {
   "cell_type": "code",
   "execution_count": 20,
   "metadata": {},
   "outputs": [],
   "source": [
    "def plot_info(df,title = 'purpose of plot'):\n",
    "    # timeseries plot all\n",
    "    df.plot()\n",
    "    plt.axis()\n",
    "    plt.gcf().set_size_inches(11,8)\n",
    "    plt.title(title) "
   ]
  },
  {
   "cell_type": "code",
   "execution_count": 21,
   "metadata": {},
   "outputs": [],
   "source": [
    "# filter df only including materials sold in all s periods\n",
    "def all_season_item(df,dup_list,s):\n",
    "    \"\"\"\n",
    "    dup_list: unique by combination of items in the list\n",
    "    s       : period lags to choose\n",
    "    \"\"\"\n",
    "    y = df.drop_duplicates(subset=dup_list) # find unique on combination criteria\n",
    "    x = y.groupby(dup_list[0])[dup_list[1]].count().reset_index() # group by count month appearance\n",
    "    x = x[x[dup_list[1]] == s] # bool selection on desire month\n",
    "    df = y[y[dup_list[0]].isin(x[dup_list[0]])] # datafram only has required month count\n",
    "    return df.reset_index(drop = True)"
   ]
  },
  {
   "cell_type": "code",
   "execution_count": 22,
   "metadata": {},
   "outputs": [],
   "source": [
    "def plot_index_info(*args,title = 'x-periods'):\n",
    "    # timeseries plot all\n",
    "    T_1 = args[0].index\n",
    "    T_2 = args[1].index\n",
    "\n",
    "    fig, ax1 = plt.subplots( figsize=(8,6))\n",
    "    ax1.set_xlabel('year',fontsize = 10)\n",
    "    ax1.set_ylabel('CRU_Index',fontsize = 10)\n",
    "    lns1 = ax1.plot(T_1,args[0],'b', label = 'index')\n",
    "    \n",
    "    ax2 = ax1.twinx()\n",
    "    ax2.set_ylabel('Billed Price',fontsize = 10)\n",
    "    lns2 = ax2.plot(T_2,args[1],'g', label = 'price') \n",
    "    \n",
    "    fig.legend(loc = 1, fontsize = 'large')    \n",
    "    plt.title(f'Index vs Billed price in {title}', fontsize=15)  \n",
    "    plt.savefig(f'{title}.pdf') "
   ]
  },
  {
   "cell_type": "code",
   "execution_count": 23,
   "metadata": {
    "scrolled": false
   },
   "outputs": [],
   "source": [
    "file = [f for f in os.listdir() if'Directed Buy - Index Record' in f][0]\n",
    "df_ndb_index = pd.read_excel(file,sheet_name='Sheet1',skiprows=[0])\n",
    "\n",
    "file = [f for f in os.listdir() if'DirectedBuyFabricatorPricing' in f][0]\n",
    "df_db = pd.read_csv(file)\n",
    "\n",
    "file = [f for f in os.listdir() if 'Non_Dir_Buy' in f][0]\n",
    "df_pp_ndb = pd.read_csv(file, encoding = \"ISO-8859-1\", low_memory = False)"
   ]
  },
  {
   "cell_type": "code",
   "execution_count": 24,
   "metadata": {},
   "outputs": [],
   "source": [
    "# trim full index data set to CRU only\n",
    "df_ndb_index = df_ndb_index.loc[:,['Period','Year',' Quarter','Cal Mo ID','Month','CRU HRC']]\n",
    "\n",
    "# build feather format for faster reading and writing\n",
    "df_ndb_index.to_feather('temp/fname_ndb_ind')\n",
    "#df_ppvto_feather('temp/fname_ppv')\n",
    "\n",
    "# read feather file\n",
    "df_ndb_index_f = feather.read_dataframe ('temp/fname_ndb_ind')\n",
    "\n",
    "# create a yyyy-mm col for join with parts data set\n",
    "df_ndb_index_f['YYYYMM'] = df_ndb_index_f.Month.apply(lambda x: str(x).replace('-','')[:6])"
   ]
  },
  {
   "cell_type": "markdown",
   "metadata": {},
   "source": [
    "### - parts dataset prep."
   ]
  },
  {
   "cell_type": "markdown",
   "metadata": {},
   "source": [
    "### Non_direct-buy index"
   ]
  },
  {
   "cell_type": "code",
   "execution_count": 25,
   "metadata": {
    "scrolled": true
   },
   "outputs": [],
   "source": [
    "# ppv-non-direct-buy parts creation\n",
    "df_pp_ndb['Part_type'] = 'Non_direct_buy'\n",
    "df_pp_ndb.drop(columns=[ 'DIR_BUY_FAB#', 'DIR_BUY_NAME', 'MATCH'],inplace=True)\n",
    "df_pp_ndb['IFM DATE'] = df_pp_ndb['IFM DATE'].apply(lambda x: str(x)[:-2])\n",
    "df_pp_ndb = df_pp_ndb.dropna(subset=[' CUR MAT '])\n",
    "\n",
    "# string clean up\n",
    "df_pp_ndb[' CUR MAT '] = df_pp_ndb[' CUR MAT '].apply(lambda x: str(x).strip().replace(',','').replace('-',''))\n",
    "df_pp_ndb = df_pp_ndb[df_pp_ndb[' CUR MAT ']!='']\n",
    "\n",
    "# convert price to int\n",
    "df_pp_ndb[' CUR MAT '] = df_pp_ndb[' CUR MAT '].astype(float)"
   ]
  },
  {
   "cell_type": "markdown",
   "metadata": {},
   "source": [
    "### Merge ppv, index, volume"
   ]
  },
  {
   "cell_type": "code",
   "execution_count": 26,
   "metadata": {},
   "outputs": [],
   "source": [
    "# merge pp & CRU monthly index\n",
    "df_pp_ndb_index = df_pp_ndb.merge(df_ndb_index_f,left_on='IFM DATE', right_on='YYYYMM', how='left')\n",
    "df_pp_ndb_index.drop_duplicates(subset=['ITEM #','IFM DATE','SUPPLIER #'],inplace = True)"
   ]
  },
  {
   "cell_type": "code",
   "execution_count": 27,
   "metadata": {},
   "outputs": [],
   "source": [
    "# only choose items sold in all 10 months\n",
    "dl = ['ITEM #','IFM DATE']\n",
    "df_pp_ndb_index_all_season = all_season_item(df_pp_ndb_index,dup_list=dl,s=20)"
   ]
  },
  {
   "cell_type": "code",
   "execution_count": 28,
   "metadata": {},
   "outputs": [],
   "source": [
    "# string clean up\n",
    "df_pp_ndb_index_all_season[' CUR MAT '] = df_pp_ndb_index_all_season[' CUR MAT '].apply(lambda x: str(x).strip().replace(',','').replace('-',''))\n",
    "df_pp_ndb_index_all_season = df_pp_ndb_index_all_season[df_pp_ndb_index_all_season[' CUR MAT ']!='']"
   ]
  },
  {
   "cell_type": "code",
   "execution_count": 29,
   "metadata": {},
   "outputs": [],
   "source": [
    "# convert price to int\n",
    "df_pp_ndb_index_all_season[' CUR MAT '] = df_pp_ndb_index_all_season[' CUR MAT '].astype(float)"
   ]
  },
  {
   "cell_type": "code",
   "execution_count": 30,
   "metadata": {},
   "outputs": [],
   "source": [
    "# transform group by mean to original all season items\n",
    "df_pp_ndb_index_all_season['Month_price_avg'] = df_pp_ndb_index_all_season.groupby('IFM DATE')[' CUR MAT '].transform(np.mean)"
   ]
  },
  {
   "cell_type": "code",
   "execution_count": 31,
   "metadata": {
    "collapsed": true
   },
   "outputs": [
    {
     "data": {
      "image/png": "[encoded data removed]",
      "text/plain": [
       "<Figure size 792x576 with 1 Axes>"
      ]
     },
     "metadata": {
      "needs_background": "light"
     },
     "output_type": "display_data"
    }
   ],
   "source": [
    "df_periods = df_pp_ndb_index_all_season.groupby('Month')[' CUR MAT '].mean()\n",
    "plot_info(df_periods,'20 months price agg. performance')"
   ]
  },
  {
   "cell_type": "markdown",
   "metadata": {},
   "source": [
    "### Opportunity Items: min(FY2018); max(FY2018); min(FY2019) if max-min_1 > max-min_2"
   ]
  },
  {
   "cell_type": "code",
   "execution_count": 32,
   "metadata": {},
   "outputs": [],
   "source": [
    "# Cut time data set\n",
    "period_1 = df_pp_ndb_index[df_pp_ndb_index.Month<'2018-10-01'].sort_values(by = 'Month')\n",
    "period_2 = df_pp_ndb_index[df_pp_ndb_index.Month>='2018-10-01'].sort_values(by = 'Month')"
   ]
  },
  {
   "cell_type": "code",
   "execution_count": 33,
   "metadata": {},
   "outputs": [],
   "source": [
    "p_1_grouped = period_1.groupby(['SUPPLIER NAME','SUPPLIER #','ITEM #'])[[' CUR MAT ','CRU HRC']].agg(['first','last'])\n",
    "p_1_grouped.columns = p_1_grouped.columns.map('_fy18_'.join).str.strip('|')\n",
    "\n",
    "p_2_grouped = period_2.groupby(['SUPPLIER NAME','SUPPLIER #','ITEM #'])[[' CUR MAT ','CRU HRC']].agg(['first','last'])\n",
    "p_2_grouped.columns = p_2_grouped.columns.map('_fy19_'.join).str.strip('|')\n",
    "\n",
    "# merge p_1 grouped and p_2 grouped\n",
    "p_1_2_grouped = p_1_grouped.merge(p_2_grouped,on=['SUPPLIER NAME','SUPPLIER #','ITEM #'],how='outer')\n",
    "\n",
    "# cleaning before exporting\n",
    "p_1_2_grouped = col_name(p_1_2_grouped)\n",
    "p_1_2_grouped.dropna(axis=0,how='any', inplace=True)"
   ]
  },
  {
   "cell_type": "code",
   "execution_count": 34,
   "metadata": {},
   "outputs": [],
   "source": [
    "def percent_of_numbers(num1,num2):  \n",
    "    return round((num2/num1)-1,2)\n",
    "\n",
    "# period 1 inputs\n",
    "p1_fp = p_1_2_grouped.cur_mat__fy18_first\n",
    "p1_lp = p_1_2_grouped.cur_mat__fy18_last\n",
    "p1_fi = p_1_2_grouped.cru_hrc_fy18_first\n",
    "p1_li = p_1_2_grouped.cru_hrc_fy18_last\n",
    "\n",
    "# period 2 inputs\n",
    "p2_fp = p_1_2_grouped.cur_mat__fy19_first\n",
    "p2_lp = p_1_2_grouped.cur_mat__fy19_last\n",
    "p2_fi = p_1_2_grouped.cru_hrc_fy19_first\n",
    "p2_li = p_1_2_grouped.cru_hrc_fy19_last\n",
    "\n",
    "# period-1 percent\n",
    "p_1_2_grouped['fy18_price_delta'] = percent_of_numbers(p1_fp,p1_lp)\n",
    "p_1_2_grouped['fy18_index_delta'] = percent_of_numbers(p1_fi,p1_li)\n",
    "\n",
    "# period-1 last and period-2 first percent\n",
    "p_1_2_grouped['gap_price_delta'] = percent_of_numbers(p1_lp,p2_fp)\n",
    "p_1_2_grouped['gap_index_delta'] = percent_of_numbers(p1_li,p2_fi)\n",
    "\n",
    "# period-2 percent\n",
    "p_1_2_grouped['fy19_price_delta'] = percent_of_numbers(p2_fp,p2_lp)\n",
    "p_1_2_grouped['fy19_index_delta'] = percent_of_numbers(p2_fi,p2_li)"
   ]
  },
  {
   "cell_type": "code",
   "execution_count": 36,
   "metadata": {},
   "outputs": [],
   "source": [
    "new_col = ['cur_mat__fy18_first', 'cur_mat__fy18_last', 'cru_hrc_fy18_first',\n",
    "       'cru_hrc_fy18_last', 'cur_mat__fy19_first', 'cur_mat__fy19_last',\n",
    "       'cru_hrc_fy19_first', 'cru_hrc_fy19_last', 'fy18_price_delta',\n",
    "       'gap_price_delta','fy19_price_delta', 'fy18_index_delta', 'gap_index_delta',\n",
    "       'fy19_index_delta']\n",
    "p_1_2_grouped = p_1_2_grouped.reindex(columns=new_col)\n",
    "\n",
    "# aggregate fluctuation price and indexes\n",
    "p_1_2_grouped['price_impact'] = p_1_2_grouped.fy18_price_delta + p_1_2_grouped.gap_price_delta + p_1_2_grouped.fy19_price_delta\n",
    "p_1_2_grouped['index_impact'] = p_1_2_grouped.fy18_index_delta + p_1_2_grouped.gap_index_delta + p_1_2_grouped.fy19_index_delta\n",
    "\n",
    "# indexex impact rate to price\n",
    "impact_rate = 0.6\n",
    "p_1_2_grouped['overall_impact'] = p_1_2_grouped.price_impact - p_1_2_grouped.index_impact * impact_rate"
   ]
  },
  {
   "cell_type": "code",
   "execution_count": 37,
   "metadata": {},
   "outputs": [],
   "source": [
    "p_1_2_grouped.to_csv(r'result_low-high-low_analysis.csv')"
   ]
  },
  {
   "cell_type": "markdown",
   "metadata": {},
   "source": [
    "## Condition 1: find items having both Oct 2017 and Sep 2019 price"
   ]
  },
  {
   "cell_type": "code",
   "execution_count": 39,
   "metadata": {},
   "outputs": [],
   "source": [
    "# find items having both Oct 2017 and Sep 2019 price\n",
    "df_pp_ndb_index_2017or2019  = df_pp_ndb_index[np.logical_or(df_pp_ndb_index['IFM DATE'] == '201710',\n",
    "               df_pp_ndb_index['IFM DATE'] == '201909')]"
   ]
  },
  {
   "cell_type": "code",
   "execution_count": 40,
   "metadata": {},
   "outputs": [],
   "source": [
    "df_pp_ndb_index_2017or2019  = df_pp_ndb_index[np.logical_or(df_pp_ndb_index['Period'] == 'FY18Q1',\n",
    "               df_pp_ndb_index['Period'] == 'FY19Q4')]"
   ]
  },
  {
   "cell_type": "code",
   "execution_count": 41,
   "metadata": {},
   "outputs": [],
   "source": [
    "x = df_pp_ndb_index_2017or2019.groupby(['ITEM #','Period'])['Period'].count()"
   ]
  },
  {
   "cell_type": "markdown",
   "metadata": {},
   "source": [
    "## Condition 2: period 2 corr < period 1 corr"
   ]
  },
  {
   "cell_type": "code",
   "execution_count": 42,
   "metadata": {},
   "outputs": [],
   "source": [
    "# Cut time data set\n",
    "period_1 = df_pp_ndb_index[df_pp_ndb_index.Month<'2018-10-01']\n",
    "period_2 = df_pp_ndb_index[df_pp_ndb_index.Month>='2018-10-01']\n",
    "\n",
    "# corr calculation\n",
    "period_1_corr = period_1.groupby(['SUPPLIER #', 'SUPPLIER NAME', 'ITEM #'])[[' CUR MAT ','CRU HRC']].corr().iloc[0::2,-1].reset_index()\n",
    "period_2_corr = period_2.groupby(['SUPPLIER #', 'SUPPLIER NAME', 'ITEM #'])[[' CUR MAT ','CRU HRC']].corr().iloc[0::2,-1].reset_index()\n",
    "\n",
    "# drop NA corr\n",
    "period_1_corr.dropna(subset=['CRU HRC'],inplace=True)\n",
    "period_2_corr.dropna(subset=['CRU HRC'],inplace=True)\n",
    "\n",
    "# rename corr per period\n",
    "period_1_corr = period_1_corr.rename(columns={'CRU HRC':'P_1_corr'})\n",
    "period_2_corr = period_2_corr.rename(columns={'CRU HRC':'P_2_corr'})"
   ]
  },
  {
   "cell_type": "code",
   "execution_count": null,
   "metadata": {
    "scrolled": true
   },
   "outputs": [],
   "source": [
    "# period_2_corr[period_2_corr['ITEM #']=='1001215373']\n",
    "# df_pp_ndb_index[df_pp_ndb_index['ITEM #'] == '1001215373'].sort_values(by='Month')\n",
    "# period_2[period_2['ITEM #'] == '1001215373'].groupby(['SUPPLIER #', 'SUPPLIER NAME', 'ITEM #'])[[' CUR MAT ','CRU HRC']].corr().iloc[0::2,-1].reset_index()\n",
    "# period_1_corr[np.logical_and(period_1_corr['SUPPLIER #']==161800,period_1_corr['ITEM #'] == '1001172834C')]"
   ]
  },
  {
   "cell_type": "code",
   "execution_count": 43,
   "metadata": {},
   "outputs": [],
   "source": [
    "# P_1 and P_2 corr merging\n",
    "P_1_2_corr = period_1_corr.merge(period_2_corr[['SUPPLIER #', 'SUPPLIER NAME','ITEM #','P_2_corr']],on=['SUPPLIER #', 'SUPPLIER NAME','ITEM #'], how='outer')\n",
    "\n",
    "# P_2_corr < P_1_corr\n",
    "# P_1_2_corr = P_1_2_corr[P_1_2_corr.P_2_corr<P_1_2_corr.P_1_corr]\n",
    "P_1_2_corr.to_csv(r'result_p2_corr_lower_.csv',index=False,header=True)"
   ]
  },
  {
   "cell_type": "markdown",
   "metadata": {},
   "source": [
    "### Combining corr analysis and 1221 analysis"
   ]
  },
  {
   "cell_type": "code",
   "execution_count": 44,
   "metadata": {},
   "outputs": [],
   "source": [
    "# merge corr analysis and first-last-last-first analysis\n",
    "p_corr_1221 = p_1_2_grouped.reset_index().merge(P_1_2_corr[['SUPPLIER #', 'SUPPLIER NAME', 'ITEM #', 'P_1_corr','P_2_corr']], \n",
    "                                                on=['SUPPLIER #', 'SUPPLIER NAME', 'ITEM #'], \n",
    "                                                how = 'left')\n",
    "p_corr_1221.to_csv(r'result_corr_1221_.csv',index=False,header=True)"
   ]
  },
  {
   "cell_type": "code",
   "execution_count": 45,
   "metadata": {},
   "outputs": [],
   "source": [
    "# index selection for 2 fiscal years\n",
    "df_ndb_index_f_3FY = df_ndb_index_f[np.logical_and( df_ndb_index_f['Month']>'2016-09-01', df_ndb_index_f['Month']<'2019-10-01')]\n",
    "\n",
    "# df_ndb_index_f_10=df_ndb_index_f[np.logical_and(df_ndb_index_f['Month']>'2018-9-01',df_ndb_index_f['Month']<'2019-08-01')]\n",
    "baseline = df_ndb_index_f_3FY[np.logical_and(df_ndb_index_f_3FY['Month']>'2016-9-01',df_ndb_index_f_3FY['Month']<'2019-10-01')]\n",
    "\n",
    "# indexes lag_table\n",
    "baselines = pd.DataFrame([baseline['CRU HRC'].shift(i)[-12:] for i in range (1,13)]).transpose()\n",
    "baselines.columns = ['Lag1','Lag2','Lag3','Lag4','Lag5','Lag6','Lag7','Lag8','Lag9','lag10',\n",
    "                    'Lag11','Lag12']\n",
    "\n",
    "baselines = pd.concat([baseline.iloc[-12:,:],baselines],axis=1).reset_index()"
   ]
  },
  {
   "cell_type": "code",
   "execution_count": 46,
   "metadata": {},
   "outputs": [],
   "source": [
    "# ppv + index + indexex_lag\n",
    "df_pp_ndb_index_lags = pd.merge(df_pp_ndb_index[['IFM DATE', 'SUPPLIER #', 'SUPPLIER NAME', 'ITEM #',\n",
    "       'ITEM DESCRIPTION', ' STD MAT ', ' CUR MAT ']],baselines[['Period', 'Year', ' Quarter', 'Cal Mo ID', 'Month', 'CRU HRC', 'YYYYMM',\n",
    "       'Lag1', 'Lag2', 'Lag3', 'Lag4', 'Lag5', 'Lag6', 'Lag7', 'Lag8', 'Lag9',\n",
    "       'lag10', 'Lag11', 'Lag12']], how='left', left_on='IFM DATE', right_on='YYYYMM')\n",
    "\n",
    "df_pp_ndb_index_lags = df_pp_ndb_index_lags[np.logical_and( df_pp_ndb_index_lags['Month']>'2018-09-01', df_pp_ndb_index_lags['Month']<'2019-10-01')]"
   ]
  },
  {
   "cell_type": "code",
   "execution_count": 47,
   "metadata": {
    "scrolled": true
   },
   "outputs": [],
   "source": [
    "# material price corr with each lag\n",
    "df_pp_ndb_index_lags_corr = df_pp_ndb_index_lags.groupby(['SUPPLIER #', 'SUPPLIER NAME', 'ITEM #'])[[' CUR MAT ','CRU HRC']].corr().iloc[0::2,-1].reset_index()\n",
    "df_pp_ndb_index_lags_corr.drop(df_pp_ndb_index_lags_corr.columns[3],axis = 1, inplace=True)\n",
    "for i in range(12):\n",
    "    df_new_lag = df_pp_ndb_index_lags.groupby(['SUPPLIER #', 'SUPPLIER NAME', 'ITEM #'])[[' CUR MAT ',df_pp_ndb_index_lags.columns[14+i]]].corr().iloc[0::2,-1].reset_index()\n",
    "    df_new_lag.drop(df_new_lag.columns[3],axis=1,inplace=True)\n",
    "    df_pp_ndb_index_lags_corr= pd.merge(df_pp_ndb_index_lags_corr,df_new_lag,on=['SUPPLIER #', 'SUPPLIER NAME', 'ITEM #'],how='outer')"
   ]
  },
  {
   "cell_type": "code",
   "execution_count": 48,
   "metadata": {},
   "outputs": [],
   "source": [
    "df_pp_ndb_index_lags_corr.to_csv(r'index_lags_corr.csv')"
   ]
  },
  {
   "cell_type": "code",
   "execution_count": 49,
   "metadata": {
    "scrolled": true
   },
   "outputs": [],
   "source": [
    "df_pp_ndb_index_lags_corr['max_corr_lag'] =df_pp_ndb_index_lags_corr.iloc[:,3:].idxmax(axis = 1, skipna = True) \n",
    "df_pp_ndb_index_lags_corr['max_corr'] = df_pp_ndb_index_lags_corr.iloc[:,3:].max(axis = 1, skipna = True) "
   ]
  },
  {
   "cell_type": "code",
   "execution_count": 50,
   "metadata": {},
   "outputs": [],
   "source": [
    "df_pp_ndb_index_lags_corr.to_csv(r'index_lags_corr.csv')"
   ]
  },
  {
   "cell_type": "code",
   "execution_count": 51,
   "metadata": {},
   "outputs": [],
   "source": [
    "# merge 1221 & periods_corr & corr_lags\n",
    "p_corr_1221_lags = p_corr_1221.merge(df_pp_ndb_index_lags_corr[['SUPPLIER #', 'SUPPLIER NAME', 'ITEM #','max_corr_lag', 'max_corr']],on=['SUPPLIER NAME', 'SUPPLIER #', 'ITEM #'], how='left')\n",
    "p_corr_1221_lags_max = p_corr_1221_lags.dropna(subset=['max_corr_lag'], axis=0)"
   ]
  },
  {
   "cell_type": "code",
   "execution_count": 52,
   "metadata": {},
   "outputs": [
    {
     "name": "stderr",
     "output_type": "stream",
     "text": [
      "C:\\ProgramData\\Anaconda3\\lib\\site-packages\\ipykernel_launcher.py:6: SettingWithCopyWarning: \n",
      "A value is trying to be set on a copy of a slice from a DataFrame.\n",
      "Try using .loc[row_indexer,col_indexer] = value instead\n",
      "\n",
      "See the caveats in the documentation: http://pandas.pydata.org/pandas-docs/stable/indexing.html#indexing-view-versus-copy\n",
      "  \n",
      "C:\\ProgramData\\Anaconda3\\lib\\site-packages\\ipykernel_launcher.py:7: SettingWithCopyWarning: \n",
      "A value is trying to be set on a copy of a slice from a DataFrame.\n",
      "Try using .loc[row_indexer,col_indexer] = value instead\n",
      "\n",
      "See the caveats in the documentation: http://pandas.pydata.org/pandas-docs/stable/indexing.html#indexing-view-versus-copy\n",
      "  import sys\n"
     ]
    }
   ],
   "source": [
    "# max_lag index for corresponding index, e.g, 832 current with lag4  = 899\n",
    "_row_19first = p_corr_1221_lags_max['cru_hrc_fy19_first'].apply(lambda x: (baselines['CRU HRC'] == x).idxmax())\n",
    "_row_19last = p_corr_1221_lags_max['cru_hrc_fy19_last'].apply(lambda x: (baselines['CRU HRC'] == x).idxmax())\n",
    "_col = p_corr_1221_lags_max['max_corr_lag'].apply(lambda x: baselines.columns.get_loc(x))\n",
    "max_index = np.array(pd.concat([_row_19first,_row_19last,_col],axis=1).reset_index())\n",
    "p_corr_1221_lags_max['max_cru_hrc_fy19_first'] = [baselines.iloc[max_index[i][1],max_index[i][3]] for i in range(len(max_index))]\n",
    "p_corr_1221_lags_max['max_cru_hrc_fy19_last'] = [baselines.iloc[max_index[i][2],max_index[i][3]] for i in range(len(max_index))]"
   ]
  },
  {
   "cell_type": "code",
   "execution_count": 53,
   "metadata": {},
   "outputs": [],
   "source": [
    "# find max_corr >=0.5\n",
    "p_corr_1221_lags_max_05 = p_corr_1221_lags_max.where(p_corr_1221_lags_max['max_corr']> 0.5).dropna(subset=['max_corr'])"
   ]
  },
  {
   "cell_type": "code",
   "execution_count": 54,
   "metadata": {},
   "outputs": [],
   "source": [
    "# find best opportunity of price difference: est.price - last ocurrance price in 2019\n",
    "p_corr_1221_lags_max_05['predicted_price_2019'] = (p_corr_1221_lags_max_05.max_cru_hrc_fy19_last/p_corr_1221_lags_max_05.max_cru_hrc_fy19_first)*p_corr_1221_lags_max_05.cur_mat__fy19_first\n",
    "p_corr_1221_lags_max_05['price_diff_opportunity'] = p_corr_1221_lags_max_05['predicted_price_2019'] - p_corr_1221_lags_max_05.cur_mat__fy19_last"
   ]
  },
  {
   "cell_type": "code",
   "execution_count": 55,
   "metadata": {},
   "outputs": [],
   "source": [
    "p_corr_1221_lags_max_05.to_csv(r'result_max_opportunity.csv',index=False)"
   ]
  },
  {
   "cell_type": "code",
   "execution_count": null,
   "metadata": {},
   "outputs": [],
   "source": [
    "def item_history_plot(vendor_id,item_id): \n",
    "    df = df_pp_ndb_index[np.logical_and(df_pp_ndb_index['SUPPLIER #']==vendor_id,df_pp_ndb_index['ITEM #'] == item_id)][['Month',' CUR MAT ','CRU HRC']].set_index('Month')\n",
    "    plt.figure()\n",
    "    df.iloc[:,0].plot()\n",
    "    df.iloc[:,1].plot(secondary_y=True, style='g')\n",
    "    plt.show\n",
    "    return df"
   ]
  },
  {
   "cell_type": "code",
   "execution_count": null,
   "metadata": {},
   "outputs": [],
   "source": [
    "input = [161928,'1001163469']\n",
    "\n",
    "vendor_id = input[0]\n",
    "item_id = str(input[1])"
   ]
  },
  {
   "cell_type": "code",
   "execution_count": null,
   "metadata": {},
   "outputs": [],
   "source": [
    "item_history_plot(vendor_id,item_id)"
   ]
  },
  {
   "cell_type": "markdown",
   "metadata": {},
   "source": [
    "## Condition 3: 12-months price performance for each period"
   ]
  },
  {
   "cell_type": "code",
   "execution_count": 61,
   "metadata": {
    "scrolled": true
   },
   "outputs": [],
   "source": [
    "dl = ['ITEM #','IFM DATE']\n",
    "df1 = df_ndb_index_f[np.logical_and((df_ndb_index_f.Month>'2017-09-01'),(df_ndb_index_f.Month<'2019-10-01'))].iloc[:,[4,-2]].set_index('Month')\n",
    "df2 = all_season_item(df_pp_ndb_index,dup_list=dl,s=23).iloc[:,[7,-3]].set_index('Month').groupby('Month')[' CUR MAT '].mean()\n",
    "df3 = all_season_item(period_1,dup_list=dl,s=12).iloc[:,[7,-3]].set_index('Month').groupby('Month')[' CUR MAT '].mean()\n",
    "df4 = all_season_item(period_2,dup_list=dl,s=12).iloc[:,[7,-3]].set_index('Month').groupby('Month')[' CUR MAT '].mean()"
   ]
  },
  {
   "cell_type": "code",
   "execution_count": 62,
   "metadata": {},
   "outputs": [
    {
     "data": {
      "image/png": "[encoded data removed]",
      "text/plain": [
       "<Figure size 576x432 with 2 Axes>"
      ]
     },
     "metadata": {
      "needs_background": "light"
     },
     "output_type": "display_data"
    }
   ],
   "source": [
    "plot_index_info(df1,df2, title='_all periods')"
   ]
  },
  {
   "cell_type": "code",
   "execution_count": 60,
   "metadata": {},
   "outputs": [
    {
     "data": {
      "image/png": "[encoded data removed]",
      "text/plain": [
       "<Figure size 576x432 with 2 Axes>"
      ]
     },
     "metadata": {
      "needs_background": "light"
     },
     "output_type": "display_data"
    }
   ],
   "source": [
    "plot_index_info(df1,df3, title='period 1')"
   ]
  },
  {
   "cell_type": "code",
   "execution_count": 59,
   "metadata": {},
   "outputs": [
    {
     "data": {
      "image/png": "[encoded data removed]",
      "text/plain": [
       "<Figure size 576x432 with 2 Axes>"
      ]
     },
     "metadata": {
      "needs_background": "light"
     },
     "output_type": "display_data"
    }
   ],
   "source": [
    "plot_index_info(df1,df4, title='period_2')"
   ]
  },
  {
   "cell_type": "markdown",
   "metadata": {},
   "source": [
    "### Hypothsis: No lag between index and average material price"
   ]
  },
  {
   "cell_type": "code",
   "execution_count": null,
   "metadata": {},
   "outputs": [],
   "source": [
    "# 2019 index\n",
    "df1_2019 = df1.iloc[df1.index>'2017-10-01'].iloc[:,0]\n",
    "\n",
    "# 2019 parts with average price\n",
    "df2_2019 = df2[13:24]\n",
    "\n",
    "# Corr of 2019 index and \n",
    "_corr = df1_2019.corr(df2_2019)\n",
    "print(f'2019 index and material price corr is {round(_corr,4)}')"
   ]
  },
  {
   "cell_type": "markdown",
   "metadata": {},
   "source": [
    "### Individual Supplier Analysis"
   ]
  },
  {
   "cell_type": "code",
   "execution_count": null,
   "metadata": {},
   "outputs": [],
   "source": [
    "# inirialize miller dataset\n",
    "df_ndb_all = col_name(df_pp_ndb_index)"
   ]
  },
  {
   "cell_type": "code",
   "execution_count": null,
   "metadata": {},
   "outputs": [],
   "source": [
    "d = {'month': ['month_x', 'month_y']}\n",
    "df_all = df_ndb_all.rename(columns=lambda c: d[c].pop(0) if c in d.keys() else c)"
   ]
  },
  {
   "cell_type": "code",
   "execution_count": null,
   "metadata": {},
   "outputs": [],
   "source": [
    "supplier_ls = df_all.groupby(['supplier_#','supplier_name'])['item_#'].count().sort_values(ascending = False)"
   ]
  },
  {
   "cell_type": "code",
   "execution_count": null,
   "metadata": {},
   "outputs": [],
   "source": [
    "supplier_ls.head(7)"
   ]
  },
  {
   "cell_type": "code",
   "execution_count": null,
   "metadata": {
    "scrolled": false
   },
   "outputs": [],
   "source": [
    "supplier_name = 'miller'\n",
    "df_supplier = df_ndb_all[df_ndb_all.supplier_name.apply(lambda x: supplier_name.lower() in str(x).lower())]\n",
    "d = {'month': ['month_x', 'month_y']}\n",
    "df_supplier = df_supplier.rename(columns=lambda c: d[c].pop(0) if c in d.keys() else c)\n",
    "\n",
    "df_supplier_all = df_supplier.copy()\n",
    "df_supplier_fy19 = df_supplier[df_supplier.month_y>'2018-09-01']\n",
    "df_supplier_fy18 = df_supplier[np.logical_and((df_supplier.month_y>'2017-09-01'),(df_supplier.month_y<'2018-10-01'))]\n",
    "\n",
    "# plot supplier price performance\n",
    "dl = ['item_#','ifm_date']\n",
    "df_index_19 = df_ndb_index_f[np.logical_and((df_ndb_index_f.Month>'2018-09-01'),(df_ndb_index_f.Month<'2019-10-01'))].iloc[:,[4,-2]].set_index('Month')\n",
    "df_index_18 = df_ndb_index_f[np.logical_and((df_ndb_index_f.Month>'2017-09-01'),(df_ndb_index_f.Month<'2018-10-01'))].iloc[:,[4,-2]].set_index('Month')\n",
    "\n",
    "df_supplier_all_items = all_season_item(df_supplier_all,dup_list=dl,s=12).iloc[:,[7,-3]].set_index('month_y').groupby('month_y')['cur_mat'].mean()\n",
    "df_supplier_fy19_all_items = all_season_item(df_supplier_fy19,dup_list=dl,s=12).iloc[:,[7,-3]].set_index('month_y').groupby('month_y')['cur_mat'].mean()\n",
    "df_supplier_fy18_all_items = all_season_item(df_supplier_fy18,dup_list=dl,s=12).iloc[:,[7,-3]].set_index('month_y').groupby('month_y')['cur_mat'].mean()\n",
    "\n",
    "plot_index_info(df_index_19,df_supplier_fy19_all_items, title=f'{supplier_name}')"
   ]
  },
  {
   "cell_type": "markdown",
   "metadata": {},
   "source": [
    "### Regression on index and material avg price"
   ]
  },
  {
   "cell_type": "code",
   "execution_count": null,
   "metadata": {},
   "outputs": [],
   "source": [
    "model = LinearRegression()\n",
    "model.fit(pp,ip)"
   ]
  },
  {
   "cell_type": "code",
   "execution_count": null,
   "metadata": {
    "scrolled": true
   },
   "outputs": [],
   "source": [
    "model.get_params()"
   ]
  },
  {
   "cell_type": "code",
   "execution_count": null,
   "metadata": {},
   "outputs": [],
   "source": [
    "test = np.array([0.01])[:,np.newaxis]"
   ]
  },
  {
   "cell_type": "code",
   "execution_count": null,
   "metadata": {},
   "outputs": [],
   "source": [
    "model.predict(test)"
   ]
  },
  {
   "cell_type": "code",
   "execution_count": null,
   "metadata": {},
   "outputs": [],
   "source": [
    "model.score(pp,ip)"
   ]
  },
  {
   "cell_type": "code",
   "execution_count": null,
   "metadata": {},
   "outputs": [],
   "source": [
    "plt.scatter(pp,ip)"
   ]
  },
  {
   "cell_type": "code",
   "execution_count": null,
   "metadata": {
    "scrolled": true
   },
   "outputs": [],
   "source": [
    "x_test = np.array([0.02])[:,np.newaxis]"
   ]
  },
  {
   "cell_type": "code",
   "execution_count": null,
   "metadata": {},
   "outputs": [],
   "source": [
    "def f(x):\n",
    "    \"\"\" function to approximate by polynomial interpolation\"\"\"\n",
    "    return x * np.sin(x)\n",
    "\n",
    "x= np.linspace(0, 10, 100)\n",
    "x_plot = np.linspace(0, 10, 100)\n",
    "\n",
    "rng = np.random.RandomState(24)\n",
    "rng.shuffle(x)\n",
    "\n",
    "x = np.sort(x[:20])\n",
    "y = f(x)\n",
    "\n",
    "X = x[:,np.newaxis]\n",
    "X_plot = x_plot[:,np.newaxis]\n",
    "\n",
    "model = make_pipeline(PolynomialFeatures(5),Ridge())\n",
    "\n",
    "model.fit(X,y)\n",
    "\n",
    "y_plot = model.predict(X_plot)"
   ]
  },
  {
   "cell_type": "code",
   "execution_count": null,
   "metadata": {},
   "outputs": [],
   "source": [
    "def f(x):\n",
    "    \"\"\" function to approximate by polynomial interpolation\"\"\"\n",
    "    return x * np.sin(x)"
   ]
  },
  {
   "cell_type": "code",
   "execution_count": null,
   "metadata": {},
   "outputs": [],
   "source": [
    "x= np.linspace(0, 10, 100)\n",
    "x_plot = np.linspace(0, 10, 100)"
   ]
  },
  {
   "cell_type": "code",
   "execution_count": null,
   "metadata": {},
   "outputs": [],
   "source": [
    "rng = np.random.RandomState(24)\n",
    "rng.shuffle(x)"
   ]
  },
  {
   "cell_type": "code",
   "execution_count": null,
   "metadata": {},
   "outputs": [],
   "source": [
    "x = np.sort(x[:20])\n",
    "y = f(x)\n",
    "\n",
    "X = x[:,np.newaxis]\n",
    "X_plot = x_plot[:,np.newaxis]\n",
    "\n",
    "model = make_pipeline(PolynomialFeatures(5),Ridge())\n",
    "\n",
    "model.fit(X,y)\n",
    "\n",
    "y_plot = model.predict(X_plot)"
   ]
  },
  {
   "cell_type": "code",
   "execution_count": null,
   "metadata": {},
   "outputs": [],
   "source": [
    "X = x[:,np.newaxis]\n",
    "X_plot = x_plot[:,np.newaxis]"
   ]
  },
  {
   "cell_type": "code",
   "execution_count": null,
   "metadata": {},
   "outputs": [],
   "source": [
    "model = make_pipeline(PolynomialFeatures(5),Ridge())"
   ]
  },
  {
   "cell_type": "code",
   "execution_count": null,
   "metadata": {},
   "outputs": [],
   "source": [
    "model.fit(X,y)\n",
    "\n",
    "y_plot = model.predict(X_plot)"
   ]
  },
  {
   "cell_type": "markdown",
   "metadata": {},
   "source": [
    "### - index lag prep."
   ]
  },
  {
   "cell_type": "code",
   "execution_count": null,
   "metadata": {},
   "outputs": [],
   "source": [
    "# # index selection for 2 fiscal years\n",
    "# df_ndb_index_f_3FY = df_ndb_index_f[np.logical_and( df_ndb_index_f['Month']>'2016-09-01', df_ndb_index_f['Month']<'2019-08-01')]\n",
    "\n",
    "# # df_ndb_index_f_10=df_ndb_index_f[np.logical_and(df_ndb_index_f['Month']>'2018-9-01',df_ndb_index_f['Month']<'2019-08-01')]\n",
    "# baseline = df_ndb_index_f_3FY[np.logical_and(df_ndb_index_f_3FY['Month']>'2016-9-01',df_ndb_index_f_3FY['Month']<'2019-08-01')]\n",
    "\n",
    "# # indexes lag_table\n",
    "# baselines = pd.DataFrame([baseline['CRU HRC'].shift(i)[-10:] for i in range (1,18)]).transpose()\n",
    "# baselines.columns = ['Lag1','Lag2','Lag3','Lag4','Lag5','Lag6','Lag7','Lag8','Lag9','lag10',\n",
    "#                     'Lag11','Lag12','Lag13','Lag14','Lag15','Lag16','Lag17']"
   ]
  },
  {
   "cell_type": "markdown",
   "metadata": {},
   "source": [
    "### - merge material with index for corr"
   ]
  },
  {
   "cell_type": "code",
   "execution_count": null,
   "metadata": {},
   "outputs": [],
   "source": [
    "# concate lag_table with non-direct_buy index_10\n",
    "df_ndb_index_f_lags = pd.concat([df_ndb_index_f_3FY[-10:],baselines],axis=1)"
   ]
  },
  {
   "cell_type": "code",
   "execution_count": null,
   "metadata": {},
   "outputs": [],
   "source": [
    "# convert fiscal year --> calender year\n",
    "df_pp_ndb['CYM'] = df_pp_ndb.loc[:,'FYM'].apply(lambda x: int(x)-3 if int(x)>4 else int(x) + 9)"
   ]
  },
  {
   "cell_type": "code",
   "execution_count": null,
   "metadata": {},
   "outputs": [],
   "source": [
    "# sum aggregation of material (appear in all 10 month) price\n",
    "df_current_price = df_pp_ndb.groupby('CYM')[' CUR MAT '].mean().reset_index()"
   ]
  },
  {
   "cell_type": "code",
   "execution_count": null,
   "metadata": {},
   "outputs": [],
   "source": [
    "# merge material with index_lags for corr analysis\n",
    "df_idx_corr = df_ndb_index_f_lags.merge(df_current_price[['CYM',' CUR MAT ']], left_on='Cal Mo ID', right_on='CYM', how='inner')"
   ]
  },
  {
   "cell_type": "code",
   "execution_count": null,
   "metadata": {},
   "outputs": [],
   "source": [
    "df = df_idx_corr[['CRU HRC', 'Lag1','Lag2', 'Lag3', 'Lag4', 'Lag5', 'Lag6', \n",
    "                  'Lag7', 'Lag8', 'Lag9','lag10','Lag11', 'Lag12', 'Lag13', \n",
    "                  'Lag14', 'Lag15', 'Lag16', 'Lag17',' CUR MAT ']]\n",
    "\n",
    "f = plt.figure(figsize=(12, 8))\n",
    "plt.matshow(df.corr(), fignum=f.number)\n",
    "plt.xticks(range(df.shape[1]), df.columns, fontsize=8, rotation=45)\n",
    "plt.yticks(range(df.shape[1]), df.columns, fontsize=8)\n",
    "cb = plt.colorbar()\n",
    "cb.ax.tick_params(labelsize=15)\n",
    "#plt.title('Correlation Matrix', fontsize=20)"
   ]
  },
  {
   "cell_type": "code",
   "execution_count": null,
   "metadata": {},
   "outputs": [],
   "source": [
    "df_idx_corr[['CRU HRC', 'Lag1','Lag2', 'Lag3','Lag9','lag10','Lag11', 'Lag12',' CUR MAT ']].corr()"
   ]
  },
  {
   "cell_type": "code",
   "execution_count": null,
   "metadata": {},
   "outputs": [],
   "source": [
    "df1 = df_ndb_index_f_3FY.iloc[:,-2:].set_index('Month')\n",
    "df2 = df_idx_corr.iloc[:,[4,-1]].set_index('Month')\n",
    "plot_index_info(df1,df2)"
   ]
  },
  {
   "cell_type": "markdown",
   "metadata": {},
   "source": [
    "### Corr analysis explanation\n",
    "#### - index price performance (see fig 1.1)\n",
    "#### - 10_representitive material price performance\n",
    "### conclusion: material pricing change not align with index performance"
   ]
  },
  {
   "cell_type": "markdown",
   "metadata": {},
   "source": [
    "### Clawback analysis (non_direct buy parts)"
   ]
  },
  {
   "cell_type": "markdown",
   "metadata": {},
   "source": [
    "### Part price history visulization"
   ]
  },
  {
   "cell_type": "code",
   "execution_count": null,
   "metadata": {},
   "outputs": [],
   "source": [
    "def item_history_plot(vendor_id,item_id):\n",
    "    file = [f for f in os.listdir() if'ppv_all' in f][0]\n",
    "    df_pp = pd.read_csv(file)   \n",
    "    df = df_pp[np.logical_and(df_pp['SUPPLIER #']==vendor_id,df_pp['ITEM #'] == item_id)][['CUR MAT','CRU HRC']]\n",
    "    plt.figure()\n",
    "    df.iloc[:,0].plot()\n",
    "    df.iloc[:,1].plot(secondary_y=True, style='g')\n",
    "    plt.show"
   ]
  },
  {
   "cell_type": "code",
   "execution_count": null,
   "metadata": {
    "scrolled": true
   },
   "outputs": [],
   "source": [
    "sid = 604504\n",
    "iid = '1001164082'"
   ]
  },
  {
   "cell_type": "code",
   "execution_count": null,
   "metadata": {},
   "outputs": [],
   "source": [
    "item_history_plot(sid,iid)"
   ]
  }
 ],
 "metadata": {
  "kernelspec": {
   "display_name": "Python 3",
   "language": "python",
   "name": "python3"
  },
  "language_info": {
   "codemirror_mode": {
    "name": "ipython",
    "version": 3
   },
   "file_extension": ".py",
   "mimetype": "text/x-python",
   "name": "python",
   "nbconvert_exporter": "python",
   "pygments_lexer": "ipython3",
   "version": "3.8.8"
  }
 },
 "nbformat": 4,
 "nbformat_minor": 2
}
