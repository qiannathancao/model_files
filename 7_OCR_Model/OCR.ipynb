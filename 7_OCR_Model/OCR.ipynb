{
 "cells": [
  {
   "cell_type": "code",
   "execution_count": null,
   "metadata": {},
   "outputs": [],
   "source": [
    "class OCR():   \n",
    "    def __init__(self, path, fileNumbers = 200):\n",
    "        self.img_dict = {}\n",
    "        self.extracted_text = []\n",
    "        self.path = path\n",
    "        self.fileNumbers = fileNumbers\n",
    "    \n",
    "    def pdf2jpg(self):\n",
    "        os.chdir(self.path)\n",
    "        files = [f for f in os.listdir('.') if f.endswith(('pdf'))]\n",
    "        for i,f in enumerate(files):\n",
    "            while i < self.fileNumbers: \n",
    "                print(i)\n",
    "                with Img(filename = f, resolution= 700) as img:\n",
    "                    img.compression_quality = 300\n",
    "                    pdf2img = img.convert('png')\n",
    "                self.img_dict[f] = pdf2img\n",
    "                break\n",
    "        return self.img_dict\n",
    "    \n",
    "    \n",
    "    def jpg2text(self):\n",
    "        img_dict = self.pdf2jpg()\n",
    "        imgBlobs = []\n",
    "        for img in img_dict.values():\n",
    "            # print(img)\n",
    "            page = Img(image=img)\n",
    "            # print(page)\n",
    "            imgBlobs.append(page.make_blob('png'))\n",
    "                \n",
    "        for imgBlob in imgBlobs:\n",
    "            im = Image.open(io.BytesIO(imgBlob))\n",
    "            crop_im = im.crop((25,2255,2555,3255))\n",
    "            text = pytesseract.image_to_string(crop_im).replace('\\n','')\n",
    "            self.extracted_text.append(text)            \n",
    "        return list(img_dict.values()), self.extracted_text \n",
    "    \n",
    "#     def text2item(self):\n",
    "#         re.compile('[0-9]')\n",
    "#         for text in self.extracted_text:\n",
    "#             wt_sid = text.index('EST')\n",
    "#             wt_eid = wt_sid + 14\n",
    "#             result "
   ]
  }
 ],
 "metadata": {
  "kernelspec": {
   "display_name": "Python 3",
   "language": "python",
   "name": "python3"
  },
  "language_info": {
   "codemirror_mode": {
    "name": "ipython",
    "version": 3
   },
   "file_extension": ".py",
   "mimetype": "text/x-python",
   "name": "python",
   "nbconvert_exporter": "python",
   "pygments_lexer": "ipython3",
   "version": "3.8.8"
  }
 },
 "nbformat": 4,
 "nbformat_minor": 2
}
