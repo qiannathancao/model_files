{
 "cells": [
  {
   "cell_type": "markdown",
   "metadata": {},
   "source": [
    "### 1. Installing following installers required: \n",
    "- ImageMagick: https://imagemagick.org/script/download.php\n",
    "- ghostscript: https://www.ghostscript.com/download/gsdnld.html\n",
    "\n",
    "### 2. Note: before pip install wand, make sure install above installer at first\n",
    "### 3. Note: adding r before 'C:\\\\Program Files\\Tesseract-OCR\\tesseract.exe'\n",
    "- pytesseract.pytesseract.tesseract_cmd = r'C:\\\\Program Files\\Tesseract-OCR\\tesseract.exe'"
   ]
  },
  {
   "cell_type": "code",
   "execution_count": 5,
   "metadata": {},
   "outputs": [],
   "source": [
    "import PyPDF2\n",
    "import os\n",
    "import re\n",
    "\n",
    "import io\n",
    "from PIL import Image\n",
    "import pytesseract\n",
    "\n",
    "from wand.image import Image as Img\n",
    "from wand import display"
   ]
  },
  {
   "cell_type": "code",
   "execution_count": 49,
   "metadata": {},
   "outputs": [],
   "source": [
    "import pandas as pd"
   ]
  },
  {
   "cell_type": "code",
   "execution_count": 6,
   "metadata": {},
   "outputs": [],
   "source": [
    "pytesseract.pytesseract.tesseract_cmd = r'C:\\\\Program Files\\Tesseract-OCR\\tesseract.exe'"
   ]
  },
  {
   "cell_type": "code",
   "execution_count": 44,
   "metadata": {},
   "outputs": [],
   "source": [
    "os.chdir(r'\\\\pmi.corp.truck\\public\\FAE-SHARE\\Apps\\CADView\\344')"
   ]
  },
  {
   "cell_type": "code",
   "execution_count": 56,
   "metadata": {},
   "outputs": [],
   "source": [
    "os.chdir(r'S:\\OSK-Share\\DEPT\\PURCHASING\\000-GPSC Business Analysts\\13 - GPSC Steel Model\\JLG Engineering Drawings')"
   ]
  },
  {
   "cell_type": "code",
   "execution_count": 233,
   "metadata": {},
   "outputs": [],
   "source": [
    "with Img(filename= '1001174418.pdf', resolution=800) as img:\n",
    "    img.compression_quality = 400\n",
    "    img.save(filename = 'test_sample.jpg')\n",
    "    imgX = img.convert('png')"
   ]
  },
  {
   "cell_type": "code",
   "execution_count": 234,
   "metadata": {
    "scrolled": true
   },
   "outputs": [],
   "source": [
    "page = Img(image=imgX)\n",
    "imgBlob = page.make_blob('png')\n",
    "im = Image.open(io.BytesIO(imgBlob))\n",
    "# crop_im = im.crop((25,2255,22,3255))\n",
    "text = pytesseract.image_to_string(im)"
   ]
  },
  {
   "cell_type": "code",
   "execution_count": 235,
   "metadata": {},
   "outputs": [],
   "source": [
    "weight_rule_list = ['EST\\w+:\\d+.\\d+%','EST\\w+:\\d+.\\d+#','\\d+.\\d+k',\n",
    "                    'EST\\w+:\\d+.\\w+%','EST\\w+:\\d+.\\w+#','\\d+.\\w+k',\n",
    "                    'SCALE:\\d+.\\w+%','SCALE:\\d+.\\w+#','SCALE:\\d+.\\w+k',\n",
    "                    'SCALE:\\d+.\\d+%','SCALE:\\d+.\\d+#','SCALE:\\d+.\\d+k']\n",
    "weight_rules = re.compile('|'.join(weight_rule_list))\n",
    "material = re.compile(r'MATERIAL:\\w+')\n",
    "pattern = re.compile(r'\\s+')"
   ]
  },
  {
   "cell_type": "code",
   "execution_count": 236,
   "metadata": {
    "scrolled": true
   },
   "outputs": [
    {
     "data": {
      "text/plain": [
       "([], ['MATERIAL:SEEPARTSLISTNEXT1001145552PROJECTION'])"
      ]
     },
     "execution_count": 236,
     "metadata": {},
     "output_type": "execute_result"
    }
   ],
   "source": [
    "# weight.findall(texts[0][start_id:end_id])\n",
    "test_text = text.replace('\\n','')\n",
    "texts_whiten = re.sub(pattern,'',test_text)\n",
    "weight_rules.findall(texts_whiten), material.findall(texts_whiten)"
   ]
  },
  {
   "cell_type": "code",
   "execution_count": 238,
   "metadata": {},
   "outputs": [
    {
     "data": {
      "text/plain": [
       "'DRAWING NUMBER                1001174418   2X B13\") THRU}@ |G 0. 4) | A-B IC IE | (60) 40.15D049 952 HOLES IN LINEeee}DO. 1) |               BA2. ar4 HOLES IN LINE[@ [do. 4@ [a-B Ic le NOTE:    7 6 5| 38 | 642C/ N N /) i N 5Yy $$ yy BVA Ne Hh 2 PLACESRIUX NN NNN TEETH| | HoNESS NSN | PTETa ey -lo” | By> PLACES I | 2 PLACES| caC ay, NTTD|SECTION B-B 75]SECTION C-C|e374 087\") 144)| [A-8 ICE; 5 q r; : —— fe I ee|fo a Y777 ILI LLL (TLL TL TS; jjfo 60 = ifo 2 HOLES IN LINE7 nl . :e —.—.—--.-.-.-. fPSS OZ ZN |. UNLESS OTHERWISE SPECIFIED ALL SURFACES2. MECHANICAL PROPERTIES OF WELD FILLER WIRE TO BEEQUAL TO THE PARENT MATERIAL3. REMOVE ALL BURRS AND SHARP EDGES4, FINISHED PART MUST COMPLY WITH QAC-088, QAC-086,SECTION A-A{1 [A-B [ce feQAC-084, QAC-083 & QAC-079 2X M8X1.25-6H THRU\\\\4G9I X 90DETAIL FSCALE4:5          1001174418SUPERSEDES1001161763E.R.# 151039 /\\\\PARTS LISTDRAWING NUMBER | REV. | REF. DWG. DESCRIPTION1001109509 PIN, KEEPER 10011476741001147675SUPPORT, COUPLER SIDESUPPORT, COUPLER SIDE 10011476911001161766PLATE, FLATPLATE, SUPPORT 1001174434PLATE, CROSSMEMBER   1001174465PLATE, CROSSMEMBER                    PARTS LISTBALLOON iTPARTS LIST SEQ. #QUANTITYDRAWINGS CREATED IN Pro/ENGINEER.UNLESS OTHERWISE SPECIFIED, ALLDIMENSIONS ARE IN MILLIMETERS.THIS PRINT IS THE PROPERTY OF JLG INDUSTRIES, INC,AND CONTAINS PROPRIETARY AND CONFIDENTIALINFORMATION OF JLG. IT MAY NOT BE COPIED ORDISCLOSED TO ANY THIRD PARTY WITHOUT JLG‘SWRITTEN CONSENT AND IS PROVIDED FOR THELIMITED PURPOSE OF REVIEW AND EVALUATION.4 3                              E ,(2 (1 (4 |LU V2) Wy—9045DM5X0.8-14 DEEP\\\\4 90°X6VIEW E po2x B9x90° C2x M8 |section D-DSCALE 1:2PIC CHG TO SEQ #4; |UPDATE GEOM TOLS REFERENCE DATUMS: BDEL: DIM 46; 35.4;ADD: DETAIL ‘F’: |CHG: POSITION WAS G0. 2;DEL: DIM 35.4; Il;26NOVI4| HV |ADD: DATUM ‘D‘ 15428 | DPDEL: DATUM ’C’: |ADD: DIM 90; DEPTH ‘14° TO M5: CHG: DIM 48 WAS 2X 48; |ADD GEOM TOL: CHG: DATUM ‘C’ WAS ‘B‘ADD: GEOM TOL; DATUM ‘E’ —ADD: DATUM ‘B’; |ADD: GEOM TOL; |ZONE] DATE | BY DESCRIPTION PAR | ER NO | CHKDREVISIONS |DIMENSIONING AND TOLERANC ING IDATE: ss 27JANI4 | °PER ASME Y14,5M-1994 ena ADCHK\\'D. BY: NDALL ANGLES +1° | DATE:UNLESS OTHERWISE|F p qoSPECIFIED so”MTLES COUPLING,JLG TORQUE CHART 5000059APPLIES TO ITEMS WITHIN OALL WELDING TO JLG IND, WELD28JANI4151039MANUAL, JLGSPECIFICATION 1001112769 TaiRD ANGLE [ELNISHL MATERIAL: SEE PARTS LISTNEXT 1001145552 PROJECTION |REF. DWG. | —_| ize] CAGE CODE: |DWG NO.assy[™~—SCSY E} iyHHs | LOO! /44DO NOT SCALE DRAWING             SCALE:2:5 |EST WT: ©) t+ MACH. SURF. 3.2MAX2'"
      ]
     },
     "execution_count": 238,
     "metadata": {},
     "output_type": "execute_result"
    }
   ],
   "source": [
    "test_text"
   ]
  },
  {
   "cell_type": "code",
   "execution_count": 232,
   "metadata": {},
   "outputs": [],
   "source": [
    "try:\n",
    "    texts_whiten.index('MTERIAL')\n",
    "except: \n",
    "    text_1001167169 = pytesseract.image_to_string(im.rotate(angle = 180))"
   ]
  },
  {
   "cell_type": "code",
   "execution_count": 224,
   "metadata": {},
   "outputs": [
    {
     "data": {
      "text/plain": [
       "'DRAWING NUMBER |_REV. |\\n\\n \\n\\n \\n\\n   \\n\\n \\n\\n \\n\\n8 7 6 5 | 3 2 | frooié7i6s] N |\\n1001167169 [ae [ita] Tew Wo. [REPO | —orscRTPTiON ___[P/LOTY\\nTf pews To SCSC~—“—sSCSCSSCSd\\n| =| 2 [too167139] =] SUPPORT, ATTACH PLATE Ft |\\n| =| 3 [toore7i4of STRUCTURE fo\\n| | 4 [toorre7iat] , ATTACH PLATE | [|\\n| = {5 froor67142] ==] MOUNT, ATTACH PLATE | of tty\\n| | 6 [1001167143] =| MOUNT, ATTACH PLATE i\\n| =| 7 froore7i44{ ss TUBE, STRUCTURE Ft |\\n| | 8 froorse7145[ = TUBE, STRUCTURE fo\\nPreto] 8 [roorverras| rave, Frucer——SSSSSSC~*dSC*d\\n| Tt [toorre7i48] «TUBE, STRUCTURE fo\\nPt [as freorverisi[ [way eareny Sd\\n| =| ta [100167152 =| TUBE, STRUCTURE Pt |\\nG\\nF\\n(10\\nLUA\\nE\\n\\nTHIS PRINT 1S THE PROPERTY OF JLG\\n\\n \\n\\n               \\n\\n \\n\\n \\n\\n \\n\\nD\\nC\\n(5\\\\\\nLU\\n| N [| BOM [06SEPI9| BAP |PIC | | 243990 | BCC\\niS | M | BOM | 20JUNI9| BAP [PIC | | 242209 | BGC\\naE | t_ | BOM _[26SEPI7| RRS |PIC || 22768 | SMC\\nYY ee CE [| reero8 | suc]\\n| 1 | BOM —|29sEP15] DMC [PIC #10, #13 | | 58277 | TOY\\n|G | tes [o2reBI5| Toy [Pic || 155047 | RH | 5\\nBOM PIC SEO. #3, #7, #0, #9, 8 WIA\\nF 2-£5 | 19DEC14| DMC 475 WAS 590 154198 | TDY\\n2-H6 ADD 22.5 +0.5\\nBON PICTURE CHANGE TO SEQ. #3, 6, #7, #8, #9, #13, #14\\n(2)H4 | 29MAYI4] BLH [CHANGE DIM, 1330 WAS 1355 149648 | TDY\\n(A)HT-5 REDRAWN WELD SYMBOLS FOR SEQ. #6, DELETED VIEW\\n| B | 4-8 [1 INOVI3] BLH [PICTURE CHANGE AND UPDATED WELD SYMBOLS TO SEQ. #6 | ~~ | 149648 | TDY |\\n|REV| ZONE | DATE | BY | DESCRIPTION | | ER NO | CHKD\\nREVISIONS\\nALL WELDING TO JLG IND UNLESS OTHERWISE|DRAWN BY: B.HELSER\\nWELD SPECIFICATION SPECIFIED ALL\\n1001112769 DIMENSIONING AND TOLERANCING TOLERANCES ARE. |DATE: 220CT13\\nPER ASME Y14, 5M-1994 +/-1.5 MM |cHK°p. BY=T. YOUNG A\\n\\nOR DISCLOSED TO ANY THIRD PARTY WITHOUT JLG’S WRITTEN CONSENT AND\\n\\n \\n\\nINDUSTRIES AND CONTAINS PROPRIETARY AND CONFIDENTIAL INFORMATION OF JLG. IT MAY NOT BE COPIED\\n1S PROVIDED FOR THE LIMITED PURPOSE OF REVIEW AND EVALUATION.\\n\\nDRAWINGS CREATED IN Creo MCAD. UNLESS OTHERWISE SPECIFIED,\\n\\nALL DIMENSIONS ARE\\n\\nIN MILLIMETERS.\\n\\n       \\n   \\n\\nFOR ANGLES BETWEEN 80-100\\nDEGREES. ALL OTHER ANGLES\\nPER SECTION 2.3.2.6 OF\\nAWS D.1 OR EQUIVALENT\\n\\nJLG GLOBAL DESIGN SOLUTION\\nSOL#!1 KM) SOL#2O SOL#30\\n\\nJLG TORQUE CHART 5000059\\nAPPLIES TO ITEMS WITHIN O\\n\\nNEXT 1001165622\\nassy\\n\\n \\n\\nDO NOT SCALE DRAWING\\n\\n \\n\\n \\n\\nALL ANGLES +1° |DATE: 220CT13\\n\\nUNLESS OTHERWISE\\nSPECIFIED E.R. NO. 149648\\nFINISH:\\n\\nTHIRD ANGLE\\nREF. DWG.\\n\\nPROJECTION\\n\\nTITLE: MOUN T\\n\\nENGINE HOOD / BAFFLE\\nMATERIAL: SEE PARTS LIST\\nSIZE] CAGE CODE: |DWG NO.\\nrel‘ivwa [TOO 1167169\\nSCALE: 1: 3]EST WT: 36.6kg 80. 7#|SHEET: | OF 5)'"
      ]
     },
     "execution_count": 224,
     "metadata": {},
     "output_type": "execute_result"
    }
   ],
   "source": [
    "text_1001167169"
   ]
  },
  {
   "cell_type": "code",
   "execution_count": 80,
   "metadata": {},
   "outputs": [
    {
     "data": {
      "text/plain": [
       "'DRAWINGNUMBER|REV.|1001179691;H|DRAWINGNUMBERPARTSL|ST||O01179691APPLYTOWELDMENTAFTERPAINTINGrTTOSEALBETWEENSKIPWELDSXXayITEMNO.REF.DWG.DESCRIPTION:3750-150B,H}2|1001179561PLATE,FLOORB|3|1001179628CHANNEL,EXTENSIONSUPPORTB|4|1001179629POCKET,RAIL5|1001179647PLATE,EXTENSIONSTOPB|6|1001179649PLATE,END|B|7|1001179650PLATE,EDGE||8|1001179666BRACKET,EXTENSIONCHANNELRIGHT1001179667BRACKET,EXTENSIONCHANNELLEFT1001180982BRACKET,EXTENSIONCHANNELBRACEI!|1001180984BRACKET,EXTENSIONCHANNELTOEGUARD¢|120100040ADHESIVE,SEALANTc|1311001188859BRACKET,SEAMSTRIPF|14]1001221224ANGLE,L20X20X3SEEDETAILB2X:DETAILASCALE2:5FSCALE1:5|3V7exfah3750-1503Y50-150F<t—DSEEDETAIL€C2XNOWELDSPATTERINCHANNELSCALE1:5ALLDIMENSIONSIN{€1]AREINCHB|H|ALL[28MARI8|VG|PICCHG:SEQ#2;193508|DMI|-SEQ#1(1001179560):1-E7|250CTI6]ARS:WELDNOTE;162614CKS-643,543,1259.743:BOM|1-£6|20JULI6|ARS:SEQ#14,WELDNOTES,350,750;162139CKS2-A82-ALL-DATUMSABCDE2-ALL|4FEBI6)NED:GD&TTOPOSITIONSEQ#4159805|MNS:ZONE]DATE|BYDESCRIPTIONFRNO|CHKDDETAILCSCALE2:5REVISIONS|DETAILBALLWELDINGTOJLGINDUNLESSOTHERWISE]DRAWNBY:DPT|scarenical”eromaeanToten]EGISieeMe(mrecomme|PERASMEY14,5M-1994+/-1.5MMCHK’D.BY:DIRTITLE:PTATFORMADNOTES:SoreterSoe:ereALLANGLES+1°DATE:24JUNI14,:balNheL330JuntessOTHERWISE/FRNo151936EXTENSIONWELDMENT|.FORDIMENSIONSNOTSHOWN,REFERTOCADDATA.JLGTORQUECHART5000059SPECIFIEDR.CADDATAISBASICAPPLIESTOITEMSWITHINOTHIRDANGLEFINISH:MATERIAL:SEEPARTLIST|PROJECTIONREF.DW6.©)t+MACH.SURF.3.2MAX2THISPRINTISTHEPROPERTYOFJLGINDUSTRIESANDCONTAINSPROPRIETARYANDCONFIDENTIALINFORMATIONOFJLG.ITMAYNOTBECOPIEDDRAWINGSCREATEDINCreoMCAD.UNLESSOTHERWISESPECIFIED,ORDISCLOSEDTOANYTHIRDPARTYWITHOUTJLG’SWRITTENCONSENTANDISPROVIDEDFORTHELIMITEDPURPOSEOFREVIEWANDEVALUATION.ALLDIMENSIONSAREINMILLIMETERS.E}ryuHs|1001179691SCALE:136.lkg|SHEET:|OF2FORANGLESBETWEEN80-100}NEXTlOOIIFTTSS,1OOLIT7156DEGREES.ALLOTHERANGLES|ASSY1001177757PeSenEeeTONOTSCALEDRAWING'"
      ]
     },
     "execution_count": 80,
     "metadata": {},
     "output_type": "execute_result"
    }
   ],
   "source": [
    "texts_whiten"
   ]
  },
  {
   "cell_type": "code",
   "execution_count": 225,
   "metadata": {},
   "outputs": [
    {
     "data": {
      "text/plain": [
       "(['36.6k'], ['MATERIAL:SEEPARTSLISTSIZE'])"
      ]
     },
     "execution_count": 225,
     "metadata": {},
     "output_type": "execute_result"
    }
   ],
   "source": [
    "test_text = text_1001167169.replace('\\n','')\n",
    "texts_whiten = re.sub(pattern,'',test_text)\n",
    "weight_rules.findall(texts_whiten), material.findall(texts_whiten)"
   ]
  },
  {
   "cell_type": "markdown",
   "metadata": {},
   "source": [
    "### Load pdf files"
   ]
  },
  {
   "cell_type": "code",
   "execution_count": 241,
   "metadata": {},
   "outputs": [],
   "source": [
    "class OCR():   \n",
    "    def __init__(self, path, fileNumbers = 200):\n",
    "        self.img_dict = {}\n",
    "        self.extracted_text = []\n",
    "        self.path = path\n",
    "        self.fileNumbers = fileNumbers\n",
    "    \n",
    "    def pdf2jpg(self):\n",
    "        os.chdir(self.path)\n",
    "        files = [f for f in os.listdir('.') if f.endswith(('pdf'))]\n",
    "        for i,f in enumerate(files):\n",
    "            while i < self.fileNumbers: \n",
    "                print('processing: {:.2%}'.format((i+1)/(self.fileNumbers)))\n",
    "                with Img(filename = f, resolution= 800) as img:\n",
    "                    img.compression_quality = 400\n",
    "                    pdf2img = img.convert('png')\n",
    "                    self.img_dict[f] = pdf2img\n",
    "                    break\n",
    "        return self.img_dict\n",
    "    \n",
    "    \n",
    "    def jpg2text(self):\n",
    "        img_dict = self.pdf2jpg()\n",
    "        imgBlobs = []\n",
    "        for img in img_dict.values():\n",
    "            # print(img)\n",
    "            page = Img(image=img)\n",
    "            # print(page)\n",
    "            imgBlobs.append(page.make_blob('png'))\n",
    "                \n",
    "        for imgBlob in imgBlobs:\n",
    "            im = Image.open(io.BytesIO(imgBlob))\n",
    "            text = pytesseract.image_to_string(im).replace('\\n','')\n",
    "            self.extracted_text.append(text)\n",
    "        print('100% completed')\n",
    "        return list(img_dict.keys()), list(img_dict.values()), self.extracted_text \n",
    "\n",
    "    def text2item(self, drawing_nums, texts):\n",
    "        weight_rule = re.compile(r'EST\\w+:\\d+.\\d+%|\\d+.\\d+#|\\d+.\\d+k')\n",
    "        material_rule = re.compile(r'MATERIAL:\\w+')\n",
    "        pattern = re.compile(r'\\s+')\n",
    "        weights = []\n",
    "        materials = []        \n",
    "        for i,text in enumerate(texts):\n",
    "            text_whiten = re.sub(pattern, '',text)\n",
    "            weight = weight_rule.findall(text_whiten)\n",
    "            material = material_rule.findall(text_whiten)\n",
    "            weights.append(weight)\n",
    "            materials.append(material)           \n",
    "        return pd.DataFrame(list(zip(drawings,weights, materials)), columns=['drawings_number','weight', 'specification'])           "
   ]
  },
  {
   "cell_type": "code",
   "execution_count": 242,
   "metadata": {},
   "outputs": [],
   "source": [
    "path1 = r'\\\\pmi.corp.truck\\public\\FAE-SHARE\\Apps\\CADView\\344'\n",
    "path2 = r'C:\\Users\\u279014\\Documents\\H_Drive\\7.AA Models\\7.FabricationPriceAnalysis\\Data'\n",
    "path3 = r'S:\\OSK-Share\\DEPT\\PURCHASING\\000-GPSC Business Analysts\\13 - GPSC Steel Model\\JLG Engineering Drawings'"
   ]
  },
  {
   "cell_type": "code",
   "execution_count": 243,
   "metadata": {},
   "outputs": [],
   "source": [
    "ocr = OCR(path = path3, fileNumbers=15)"
   ]
  },
  {
   "cell_type": "code",
   "execution_count": 32,
   "metadata": {},
   "outputs": [],
   "source": [
    "# wand.display.display(list(res.values())[0])"
   ]
  },
  {
   "cell_type": "code",
   "execution_count": null,
   "metadata": {},
   "outputs": [
    {
     "name": "stdout",
     "output_type": "stream",
     "text": [
      "processing: 6.67%\n"
     ]
    }
   ],
   "source": [
    "drawings, pics, texts = ocr.jpg2text()"
   ]
  },
  {
   "cell_type": "code",
   "execution_count": 369,
   "metadata": {},
   "outputs": [],
   "source": [
    "#weight = re.compile(r'EST\\s+\\d+\\.\\d+')\n",
    "weight = re.compile(r'EST\\w+:\\d+.\\d+%|\\d+.\\d+#|\\d+.\\d+k')\n",
    "material = re.compile(r'MATERIAL:\\w+')\n",
    "pattern = re.compile(r'\\s+')"
   ]
  },
  {
   "cell_type": "code",
   "execution_count": 4,
   "metadata": {},
   "outputs": [
    {
     "ename": "NameError",
     "evalue": "name 're' is not defined",
     "output_type": "error",
     "traceback": [
      "\u001b[1;31m---------------------------------------------------------------------------\u001b[0m",
      "\u001b[1;31mNameError\u001b[0m                                 Traceback (most recent call last)",
      "\u001b[1;32m<ipython-input-4-4abc51055abd>\u001b[0m in \u001b[0;36m<module>\u001b[1;34m\u001b[0m\n\u001b[0;32m      1\u001b[0m \u001b[1;31m# weight.findall(texts[0][start_id:end_id])\u001b[0m\u001b[1;33m\u001b[0m\u001b[1;33m\u001b[0m\u001b[1;33m\u001b[0m\u001b[0m\n\u001b[1;32m----> 2\u001b[1;33m \u001b[0mtexts_whiten\u001b[0m \u001b[1;33m=\u001b[0m \u001b[0mre\u001b[0m\u001b[1;33m.\u001b[0m\u001b[0msub\u001b[0m\u001b[1;33m(\u001b[0m\u001b[0mpattern\u001b[0m\u001b[1;33m,\u001b[0m\u001b[1;34m''\u001b[0m\u001b[1;33m,\u001b[0m\u001b[0mtexts\u001b[0m\u001b[1;33m[\u001b[0m\u001b[1;36m1\u001b[0m\u001b[1;33m]\u001b[0m\u001b[1;33m)\u001b[0m\u001b[1;33m\u001b[0m\u001b[1;33m\u001b[0m\u001b[0m\n\u001b[0m\u001b[0;32m      3\u001b[0m \u001b[0mweight\u001b[0m\u001b[1;33m.\u001b[0m\u001b[0mfindall\u001b[0m\u001b[1;33m(\u001b[0m\u001b[0mtexts_whiten\u001b[0m\u001b[1;33m)\u001b[0m\u001b[1;33m,\u001b[0m \u001b[0mmaterial\u001b[0m\u001b[1;33m.\u001b[0m\u001b[0mfindall\u001b[0m\u001b[1;33m(\u001b[0m\u001b[0mtexts_whiten\u001b[0m\u001b[1;33m)\u001b[0m\u001b[1;33m\u001b[0m\u001b[1;33m\u001b[0m\u001b[0m\n",
      "\u001b[1;31mNameError\u001b[0m: name 're' is not defined"
     ]
    }
   ],
   "source": [
    "# weight.findall(texts[0][start_id:end_id])\n",
    "texts_whiten = re.sub(pattern,'',texts[1])\n",
    "weight.findall(texts_whiten), material.findall(texts_whiten)"
   ]
  },
  {
   "cell_type": "code",
   "execution_count": 40,
   "metadata": {},
   "outputs": [],
   "source": [
    "weight_rule = re.compile(r'EST\\w+:\\d+.\\d+%|\\d+.\\d+#|\\d+.\\d+k')\n",
    "material_rule = re.compile(r'MATERIAL:\\w+')\n",
    "pattern = re.compile(r'\\s+')\n",
    "weights = []\n",
    "materials = []\n",
    "for i, text in enumerate(texts):\n",
    "    text_whiten = re.sub(pattern, '',text)\n",
    "    weight = weight_rule.findall(text_whiten)\n",
    "    material = material_rule.findall(text_whiten)\n",
    "    weights.append(weight)\n",
    "    materials.append(material)"
   ]
  },
  {
   "cell_type": "code",
   "execution_count": 55,
   "metadata": {},
   "outputs": [
    {
     "data": {
      "text/html": [
       "<div>\n",
       "<style scoped>\n",
       "    .dataframe tbody tr th:only-of-type {\n",
       "        vertical-align: middle;\n",
       "    }\n",
       "\n",
       "    .dataframe tbody tr th {\n",
       "        vertical-align: top;\n",
       "    }\n",
       "\n",
       "    .dataframe thead th {\n",
       "        text-align: right;\n",
       "    }\n",
       "</style>\n",
       "<table border=\"1\" class=\"dataframe\">\n",
       "  <thead>\n",
       "    <tr style=\"text-align: right;\">\n",
       "      <th></th>\n",
       "      <th>drawings_number</th>\n",
       "      <th>weight</th>\n",
       "      <th>specification</th>\n",
       "    </tr>\n",
       "  </thead>\n",
       "  <tbody>\n",
       "    <tr>\n",
       "      <th>0</th>\n",
       "      <td>1001116876.pdf</td>\n",
       "      <td>[107265.5k]</td>\n",
       "      <td>[MATERIAL:SEEPARTSLISTSaINFORMATIONOFJLG]</td>\n",
       "    </tr>\n",
       "    <tr>\n",
       "      <th>1</th>\n",
       "      <td>1001160873.pdf</td>\n",
       "      <td>[ESTWI:103.2%, 46.8k]</td>\n",
       "      <td>[MATERIAL:4]</td>\n",
       "    </tr>\n",
       "  </tbody>\n",
       "</table>\n",
       "</div>"
      ],
      "text/plain": [
       "  drawings_number                 weight  \\\n",
       "0  1001116876.pdf            [107265.5k]   \n",
       "1  1001160873.pdf  [ESTWI:103.2%, 46.8k]   \n",
       "\n",
       "                               specification  \n",
       "0  [MATERIAL:SEEPARTSLISTSaINFORMATIONOFJLG]  \n",
       "1                               [MATERIAL:4]  "
      ]
     },
     "execution_count": 55,
     "metadata": {},
     "output_type": "execute_result"
    }
   ],
   "source": [
    "pd.DataFrame(list(zip(drawings,weights, materials)), columns=['drawings_number','weight', 'specification'])"
   ]
  },
  {
   "cell_type": "code",
   "execution_count": null,
   "metadata": {},
   "outputs": [],
   "source": []
  }
 ],
 "metadata": {
  "kernelspec": {
   "display_name": "Python 3",
   "language": "python",
   "name": "python3"
  },
  "language_info": {
   "codemirror_mode": {
    "name": "ipython",
    "version": 3
   },
   "file_extension": ".py",
   "mimetype": "text/x-python",
   "name": "python",
   "nbconvert_exporter": "python",
   "pygments_lexer": "ipython3",
   "version": "3.8.8"
  }
 },
 "nbformat": 4,
 "nbformat_minor": 2
}
