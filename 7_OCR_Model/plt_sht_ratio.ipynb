{
 "cells": [
  {
   "cell_type": "code",
   "execution_count": 11,
   "metadata": {},
   "outputs": [],
   "source": [
    "import pandas as pd\n",
    "import os"
   ]
  },
  {
   "cell_type": "code",
   "execution_count": 17,
   "metadata": {},
   "outputs": [],
   "source": [
    "def col_name(df):\n",
    "    df.columns = df.columns.str.strip().str.lower().str.replace(' ', '_').str.replace('(', '').str.replace(')', '')\n",
    "    return df"
   ]
  },
  {
   "cell_type": "code",
   "execution_count": 18,
   "metadata": {},
   "outputs": [],
   "source": [
    "os.chdir('C:\\\\Users\\\\u279014\\\\Documents\\\\H_Drive\\\\7.AA Models\\\\7.Fabrication_analysis\\\\Data')"
   ]
  },
  {
   "cell_type": "code",
   "execution_count": 23,
   "metadata": {},
   "outputs": [],
   "source": [
    "file = [f for f in os.listdir()if 'McNeilus' in f][0]\n",
    "df_com = pd.read_excel(file, dtype=str)\n",
    "df_com = col_name(df_com)"
   ]
  },
  {
   "cell_type": "code",
   "execution_count": 34,
   "metadata": {},
   "outputs": [],
   "source": [
    "df_desc = [x for x in df_com.columns if 'description' in x or 'fy19_invoice_total' in x]"
   ]
  },
  {
   "cell_type": "code",
   "execution_count": 40,
   "metadata": {},
   "outputs": [],
   "source": [
    "df_desc = [x for x in df_com.columns if 'description' in x or 'fy19_invoice_total' in x]\n",
    "df_desc.insert(0,'level_0_parent_item_number')\n",
    "df_com_dec = df_com[df_desc]"
   ]
  },
  {
   "cell_type": "code",
   "execution_count": 41,
   "metadata": {
    "scrolled": true
   },
   "outputs": [
    {
     "name": "stderr",
     "output_type": "stream",
     "text": [
      "C:\\ProgramData\\Anaconda3\\lib\\site-packages\\ipykernel_launcher.py:1: SettingWithCopyWarning: \n",
      "A value is trying to be set on a copy of a slice from a DataFrame.\n",
      "Try using .loc[row_indexer,col_indexer] = value instead\n",
      "\n",
      "See the caveats in the documentation: http://pandas.pydata.org/pandas-docs/stable/indexing.html#indexing-view-versus-copy\n",
      "  \"\"\"Entry point for launching an IPython kernel.\n",
      "C:\\ProgramData\\Anaconda3\\lib\\site-packages\\ipykernel_launcher.py:2: SettingWithCopyWarning: \n",
      "A value is trying to be set on a copy of a slice from a DataFrame.\n",
      "Try using .loc[row_indexer,col_indexer] = value instead\n",
      "\n",
      "See the caveats in the documentation: http://pandas.pydata.org/pandas-docs/stable/indexing.html#indexing-view-versus-copy\n",
      "  \n"
     ]
    }
   ],
   "source": [
    "df_com_dec['PLT'] = df_com_dec.astype(str).iloc[:,1:].applymap(lambda x: 'PLT-' in x).any(1).astype(int)\n",
    "df_com_dec['SHT'] = df_com_dec.astype(str).iloc[:,1:].applymap(lambda x: 'SHT-' in x).any(1).astype(int)"
   ]
  },
  {
   "cell_type": "code",
   "execution_count": 46,
   "metadata": {},
   "outputs": [],
   "source": [
    "df_com_dec_gb = df_com_dec.groupby(['level_0_parent_item_number','level_0_parent_item_description','fy19_invoice_total'])['PLT','SHT'].agg(['sum','count'])\n",
    "df_com_dec_gb.columns = df_com_dec_gb.columns.map('_'.join).str.strip('_')\n",
    "df_com_dec_gb.reset_index(inplace = True)"
   ]
  },
  {
   "cell_type": "code",
   "execution_count": 47,
   "metadata": {},
   "outputs": [],
   "source": [
    "df_com_dec_gb['plt_ratio']=df_com_dec_gb.PLT_sum/df_com_dec_gb.PLT_count\n",
    "df_com_dec_gb['sht_ratio']=df_com_dec_gb.SHT_sum/df_com_dec_gb.SHT_count\n",
    "df_com_dec_gb['major_metal'] = df_com_dec_gb.iloc[:,-2:].idxmax(axis=1)"
   ]
  },
  {
   "cell_type": "code",
   "execution_count": 48,
   "metadata": {},
   "outputs": [],
   "source": [
    "df_com_dec_gb.to_excel(r'plt_sht_ratio.xlsx', index= False, header=True)"
   ]
  },
  {
   "cell_type": "code",
   "execution_count": null,
   "metadata": {},
   "outputs": [],
   "source": []
  }
 ],
 "metadata": {
  "kernelspec": {
   "display_name": "Python 3",
   "language": "python",
   "name": "python3"
  },
  "language_info": {
   "codemirror_mode": {
    "name": "ipython",
    "version": 3
   },
   "file_extension": ".py",
   "mimetype": "text/x-python",
   "name": "python",
   "nbconvert_exporter": "python",
   "pygments_lexer": "ipython3",
   "version": "3.7.1"
  }
 },
 "nbformat": 4,
 "nbformat_minor": 2
}
