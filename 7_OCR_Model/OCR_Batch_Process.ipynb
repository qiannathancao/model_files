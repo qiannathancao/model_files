{
 "cells": [
  {
   "cell_type": "markdown",
   "metadata": {},
   "source": [
    "### 1. Installing following installers required: \n",
    "- ImageMagick: https://imagemagick.org/script/download.php\n",
    "- ghostscript: https://www.ghostscript.com/download/gsdnld.html\n",
    "- download & install tesseract: https://github.com/UB-Mannheim/tesseract/wiki\n",
    "\n",
    "### 2. Note: before pip install wand, make sure install above installer at first\n",
    "### 3. Note: adding r before 'C:\\\\Program Files\\Tesseract-OCR\\tesseract.exe'\n",
    "- pytesseract.pytesseract.tesseract_cmd = r'C:\\\\Program Files\\Tesseract-OCR\\tesseract.exe'\n",
    "\n",
    "### 4. Clean temp file, where stores several giga bytes caches after running\n",
    "- C:\\Users\\u279014\\AppData\\Local\\Temp"
   ]
  },
  {
   "cell_type": "code",
   "execution_count": 21,
   "metadata": {
    "scrolled": false
   },
   "outputs": [],
   "source": [
    "import os\n",
    "import io\n",
    "\n",
    "import PyPDF2\n",
    "import re\n",
    "import pandas as pd\n",
    "\n",
    "from PIL import Image\n",
    "import pytesseract\n",
    "from wand.image import Image as Img"
   ]
  },
  {
   "cell_type": "code",
   "execution_count": 2,
   "metadata": {},
   "outputs": [],
   "source": [
    "pytesseract.pytesseract.tesseract_cmd = r'C:\\Program Files\\Tesseract-OCR\\tesseract.exe'"
   ]
  },
  {
   "cell_type": "code",
   "execution_count": 3,
   "metadata": {},
   "outputs": [],
   "source": [
    "class OCR():   \n",
    "    def __init__(self, path, fileNumbers = 200):\n",
    "        '''\n",
    "        parameter:\n",
    "            path: direct to the directory where batch pdf residing\n",
    "            fileNUmbers: maximum pdf to parse at one time\n",
    "        '''\n",
    "        self.img_dict = {}\n",
    "        self.extracted_text = []\n",
    "        self.path = path\n",
    "        self.fileNumbers = fileNumbers\n",
    "    \n",
    "    def pdf2jpg(self):\n",
    "        os.chdir(self.path)\n",
    "        files = [f for f in os.listdir('.') if f.endswith(('pdf'))]\n",
    "        for i,f in enumerate(files):\n",
    "            if i < self.fileNumbers: \n",
    "                print('processing: {:.2%}'.format((i+1)/self.fileNumbers))\n",
    "                with Img(filename = f, resolution= 400) as img:\n",
    "                    #img.compression_quality = 400\n",
    "                    img.\n",
    "                    pdf2img = img.convert('jpg')\n",
    "                    self.img_dict[f] = pdf2img\n",
    "        print('pdf_to_image:100% completed!')\n",
    "        return self.img_dict    \n",
    "    \n",
    "    def jpg2text(self,img_dict,rotate = 0):\n",
    "        imgBlobs = [] \n",
    "        for img in img_dict.values():\n",
    "            page = Img(image=img)\n",
    "            imgBlobs.append(page.make_blob('jpg'))\n",
    "                \n",
    "        for i,imgBlob in enumerate(imgBlobs):\n",
    "            im = Image.open(io.BytesIO(imgBlob))\n",
    "            text = pytesseract.image_to_string(im).replace('\\n','')\n",
    "            \n",
    "            # check rotation for drawings, skipping this step could cause mid-read pdf and un-recognizable text\n",
    "            try:\n",
    "                text.index('VENDOR')\n",
    "            except: \n",
    "                text = pytesseract.image_to_string(im.rotate(angle = 180)).replace('\\n','')\n",
    "                \n",
    "            self.extracted_text.append(text)\n",
    "            print('processing: {:.2%}'.format((i+1)/(len(imgBlobs))))\n",
    "        print('image_to_text: 100% completed')\n",
    "        return list(img_dict.keys()), list(img_dict.values()), self.extracted_text \n",
    "\n",
    "    def text2item(self, drawing_nums, texts):\n",
    "        weight_rule_list = ['EST\\w+:\\d+.\\d+%','EST\\w+:\\d+.\\d+#','\\d+.\\d+k',\n",
    "                            'EST\\w+:\\d+.\\w+%','EST\\w+:\\d+.\\w+#','\\d+.\\w+k',\n",
    "                            'SCALE:\\d+.\\w+%','SCALE:\\d+.\\w+#','SCALE:\\d+.\\w+k',\n",
    "                            'SCALE:\\d+.\\d+%','SCALE:\\d+.\\d+#','SCALE:\\d+.\\d+k']\n",
    "        weight_rules = re.compile('|'.join(weight_rule_list))\n",
    "        material_rule_list = ['MATERIAL:SEEPARTLIST','MATERIAL:SEEPARTSLIST','MATERIAL:\\d+']\n",
    "        material_rules = re.compile('|'.join(material_rule_list))\n",
    "        pattern = re.compile('\\s+')\n",
    "        weights = []\n",
    "        materials = []        \n",
    "        for i,text in enumerate(texts):\n",
    "            text_whiten = re.sub(pattern, '',text)\n",
    "            weight = weight_rules.findall(text_whiten)\n",
    "            material = material_rules.findall(text_whiten)\n",
    "            weights.append(weight)\n",
    "            materials.append(material)           \n",
    "        return pd.DataFrame(list(zip(drawing_nums,weights, materials)), columns=['drawings_number','weight', 'material'])  "
   ]
  },
  {
   "cell_type": "code",
   "execution_count": 12,
   "metadata": {},
   "outputs": [],
   "source": [
    "path1 = r'\\\\pmi.corp.truck\\public\\FAE-SHARE\\Apps\\CADView\\344'\n",
    "# path2 = r'C:\\Users\\U279014\\Documents\\H_Drive\\7.AA Models\\7.FabricationPriceAnalysis\\Data\\archaive\\from_Andrew'\n",
    "path2 = r'C:\\Users\\U279014\\Documents\\H_Drive\\7.AA Models\\7.FabricationPriceAnalysis\\Data\\archaive'\n",
    "path3 = r'S:\\OSK-Share\\DEPT\\PURCHASING\\000-GPSC Business Analysts\\13 - GPSC Steel Model\\JLG Engineering Drawings'"
   ]
  },
  {
   "cell_type": "code",
   "execution_count": 5,
   "metadata": {},
   "outputs": [],
   "source": [
    "\n",
    "# img_dict ={}\n",
    "# os.chdir(path2)\n",
    "# files = [f for f in os.listdir('.') if f.endswith('pdf')]\n",
    "# for i,f in enumerate(files):\n",
    "#     if i < 3: \n",
    "#         print(f)\n",
    "#         print('processing: {:.2%}'.format((i+1)/3))\n",
    "#         with Img(filename = f, resolution= 600) as img:\n",
    "#             # img.compression_quality = 400\n",
    "#             pdf2img = img.convert('png')\n",
    "#             img_dict[f] = pdf2img"
   ]
  },
  {
   "cell_type": "code",
   "execution_count": 13,
   "metadata": {},
   "outputs": [],
   "source": [
    "ocr = OCR(path = path2,fileNumbers=4)"
   ]
  },
  {
   "cell_type": "code",
   "execution_count": 18,
   "metadata": {},
   "outputs": [],
   "source": [
    "import time"
   ]
  },
  {
   "cell_type": "code",
   "execution_count": 19,
   "metadata": {},
   "outputs": [
    {
     "name": "stdout",
     "output_type": "stream",
     "text": [
      "processing: 25.00%\n",
      "processing: 50.00%\n",
      "processing: 75.00%\n",
      "processing: 100.00%\n",
      "pdf_to_image:100% completed!\n"
     ]
    }
   ],
   "source": [
    "start_time = time.time()\n",
    "img_dict = ocr.pdf2jpg()\n",
    "end_time = time.time()"
   ]
  },
  {
   "cell_type": "code",
   "execution_count": 20,
   "metadata": {},
   "outputs": [
    {
     "data": {
      "text/plain": [
       "18.238457679748535"
      ]
     },
     "execution_count": 20,
     "metadata": {},
     "output_type": "execute_result"
    }
   ],
   "source": [
    "end_time - start_time"
   ]
  },
  {
   "cell_type": "code",
   "execution_count": 15,
   "metadata": {},
   "outputs": [],
   "source": [
    "Image.MAX_IMAGE_PIXELS = 933120000"
   ]
  },
  {
   "cell_type": "code",
   "execution_count": 9,
   "metadata": {},
   "outputs": [
    {
     "name": "stdout",
     "output_type": "stream",
     "text": [
      "processing: 100.00%\n",
      "image_to_text: 100% completed\n"
     ]
    }
   ],
   "source": [
    "drawings, pics, texts = ocr.jpg2text(img_dict = img_dict)"
   ]
  },
  {
   "cell_type": "code",
   "execution_count": 10,
   "metadata": {},
   "outputs": [],
   "source": [
    "extracted = ocr.text2item(drawing_nums=drawings, texts=texts)"
   ]
  },
  {
   "cell_type": "code",
   "execution_count": 11,
   "metadata": {
    "scrolled": true
   },
   "outputs": [
    {
     "data": {
      "text/plain": [
       "'V/VFULLY COMPRESSEDIRUBBER OPRING\" PARI # AQIlO2o- /oG IQre~ VENDOR:TIMBREN IND. LID.S38] WESTNEY RD. SOUTHAJAX, ONTARIO LISoM6i5004.188_ 5.563 _REVISIONSDRAWINGS CREATED IN PRO/E PER LG TOROUE CHART. Oe REF. DG. NO.OUANT ITY MEL DIMENSIONS IN CD ARE UN. emp ALL WELDING To conform | TOLERANCESTO STRUCTURAL WELDING UNLESS OTHERWISE | SCALE: | / | STRESS APP‘D.: PROJECTDI. Y XYY E062 | WEIGHT: 3 LB. 8 OZ. | DATE: 2103THIS PRINT |S THE PROPERTY OF JLG INDUSTRIES, INC. AND CONTAINS (yp EM cE 080 018) Freer aT)PROPRIETARY AND CONFIDENTIAL INFORMATION OF JLG. IT MAY_NOT BE -———~p>——— “anetes + 1 meee RRCOPIED OR DISCLOSED TQ ANY THIRD PARTY WITHOUT JLG’S WRITTENCONSENT AND JS PROVIDED FOR THE LIMITED PURPOSE OF REVIEW AND MACH. SURFFVALUATION. Tow FE ABSORBER, RUBBER SPRINGil'"
      ]
     },
     "execution_count": 11,
     "metadata": {},
     "output_type": "execute_result"
    }
   ],
   "source": [
    "texts[0]"
   ]
  },
  {
   "cell_type": "code",
   "execution_count": 37,
   "metadata": {
    "scrolled": true
   },
   "outputs": [
    {
     "data": {
      "text/html": [
       "<div>\n",
       "<style scoped>\n",
       "    .dataframe tbody tr th:only-of-type {\n",
       "        vertical-align: middle;\n",
       "    }\n",
       "\n",
       "    .dataframe tbody tr th {\n",
       "        vertical-align: top;\n",
       "    }\n",
       "\n",
       "    .dataframe thead th {\n",
       "        text-align: right;\n",
       "    }\n",
       "</style>\n",
       "<table border=\"1\" class=\"dataframe\">\n",
       "  <thead>\n",
       "    <tr style=\"text-align: right;\">\n",
       "      <th></th>\n",
       "      <th>drawings_number</th>\n",
       "      <th>weight</th>\n",
       "      <th>material</th>\n",
       "    </tr>\n",
       "  </thead>\n",
       "  <tbody>\n",
       "    <tr>\n",
       "      <th>0</th>\n",
       "      <td>0020005_drawing.pdf</td>\n",
       "      <td>[]</td>\n",
       "      <td>[]</td>\n",
       "    </tr>\n",
       "  </tbody>\n",
       "</table>\n",
       "</div>"
      ],
      "text/plain": [
       "       drawings_number weight material\n",
       "0  0020005_drawing.pdf     []       []"
      ]
     },
     "execution_count": 37,
     "metadata": {},
     "output_type": "execute_result"
    }
   ],
   "source": [
    "extracted"
   ]
  },
  {
   "cell_type": "code",
   "execution_count": 12,
   "metadata": {},
   "outputs": [],
   "source": [
    "# extracted.to_csv(r'S:\\OSK-Share\\DEPT\\PURCHASING\\000-GPSC Business Analysts\\13 - GPSC Steel Model\\JLG Engineering Drawings\\extracted.csv')"
   ]
  },
  {
   "cell_type": "code",
   "execution_count": 15,
   "metadata": {},
   "outputs": [
    {
     "data": {
      "text/plain": [
       "1"
      ]
     },
     "execution_count": 15,
     "metadata": {},
     "output_type": "execute_result"
    }
   ],
   "source": [
    "drawings.index('1001158797_CHILD_EngineeringDrawing.pdf')"
   ]
  },
  {
   "cell_type": "code",
   "execution_count": 16,
   "metadata": {},
   "outputs": [
    {
     "data": {
      "text/plain": [
       "'| DRAWING NUMBERIT MAY NOT BE COPIED OR DISCLOSED TO ANY THIRD PARTY WITHOUT JLG’S WRITTEN CONSENT AND ISPROVIDED FOR THE LIMITED PURPOSE OF REVIEW AND EVALUATION.OF JLG.=©—<=oe©Lu=—_d<<—=Ludaa=©>co=<>co<<—LJocQW©coQa.Vv=<—=Ooqeco=<Cqo=Y>Ludoe—wv—fan=c>—~>LNOo=~—[a alLudQa.Ooa:Qa.Lu=—Y—=[a alQWwva—IN MILLIMETERSIN CREO MCAD.UNLESS OTHERWISE SPECIFIED.DRAWING CREATEDALL DIMENSIONSALL DIMENSIONS AREARE IN INCH[ ]INlOO1 158797cx(45°)VA(1730)2X (1473.6)I214(1193.6)R502X 1630ALL WELDING TO JLG INDWELD SPECIFICATION1001112769FOR ANGLES BETWEEN 80-100DEGREES. ALL OTHER ANGLESPER SECTION 2.3.2.6 OFAWS D.1 OR EQUIVALENT, [DRAWING NUMBER | REV. || ? | [1001158797] A |ISO VIEW(256.3) SCALE 1:102X 50AX 280\\\\ 560J R150R1452X R50[0.375 STK] ai254 220REV ZONE DATE BYDESCRIPTION po ER NO CHRD:REVISIONSDIMENSIONING AND TOLERANC INGPER ASME Y¥14.5M-1994JLG GLOBAL DESIGN SOLUTIONSOL#!L) SOL#2C) SOL#3Q—)JLG TORQUE CHART 5000059APPLIES TO ITEMS WITHIN OJUNLESS OTHERWISE | DRAWN BY: E.WELSHTOLERANCES ARE+/-1.5 MMALL ANGLES +I°UNLESS OTHERWISESPECIFIEDTHIRD ANGLEPROJECTIONDATE:|| JUNI3CHK‘D. BY: D. TRESSLER TITLE: PD] ATE?E.R.FINISH: MATERIAL :4150422REF.II JUNI3NO. 147440 DOUBLER CYL MOUNTDWG. 3573099 SIZE| CAGE CODE: | DWG NO.58 eel aia| POO 11587973.2MAX I SCALE: 1: 5 | EST WT: 55. 1kg| SHEET: 1 OF |[\\\\i'"
      ]
     },
     "execution_count": 16,
     "metadata": {},
     "output_type": "execute_result"
    }
   ],
   "source": [
    "texts[1]"
   ]
  },
  {
   "cell_type": "code",
   "execution_count": null,
   "metadata": {},
   "outputs": [],
   "source": []
  }
 ],
 "metadata": {
  "kernelspec": {
   "display_name": "Python 3",
   "language": "python",
   "name": "python3"
  },
  "language_info": {
   "codemirror_mode": {
    "name": "ipython",
    "version": 3
   },
   "file_extension": ".py",
   "mimetype": "text/x-python",
   "name": "python",
   "nbconvert_exporter": "python",
   "pygments_lexer": "ipython3",
   "version": "3.8.8"
  }
 },
 "nbformat": 4,
 "nbformat_minor": 2
}
