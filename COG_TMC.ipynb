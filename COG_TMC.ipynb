{
 "cells": [
  {
   "cell_type": "code",
   "execution_count": 1,
   "metadata": {},
   "outputs": [],
   "source": [
    "# import general packages:\n",
    "import numpy as np\n",
    "import pandas as pd\n",
    "from pandas import Timestamp\n",
    "import os\n",
    "import io\n",
    "import datetime as dt\n",
    "import time \n",
    "import dask.dataframe as dd\n",
    "from datetime import datetime\n",
    "import timestring\n",
    "from IPython.core.display import display, HTML\n",
    "from collections import defaultdict\n",
    "\n",
    "# import modeling packages\n",
    "\n",
    "# from sklearn.cluster import AffinityPropagation\n",
    "# from sklearn.cluster import KMeans\n",
    "# from sklearn import preprocessing, datasets\n",
    "from sklearn.metrics import pairwise_distances_argmin\n",
    "from scipy.spatial.distance import cdist,pdist\n",
    "# from scipy import stats\n",
    "# from scipy.sparse import *\n",
    "from collections import Counter\n",
    "\n",
    "import zipcodes\n",
    "\n",
    "# import visualization packages:\n",
    "from matplotlib import pyplot as plt\n",
    "import seaborn as sns\n",
    "import plotly.express as px\n",
    "%matplotlib inline"
   ]
  },
  {
   "cell_type": "code",
   "execution_count": 2,
   "metadata": {},
   "outputs": [],
   "source": [
    "import matplotlib"
   ]
  },
  {
   "cell_type": "code",
   "execution_count": 3,
   "metadata": {},
   "outputs": [
    {
     "data": {
      "text/html": [
       "<style>.container { width:100% !important; }</style>"
      ],
      "text/plain": [
       "<IPython.core.display.HTML object>"
      ]
     },
     "metadata": {},
     "output_type": "display_data"
    }
   ],
   "source": [
    "pd.set_option('display.max_columns', None)\n",
    "from IPython.core.display import display, HTML\n",
    "display(HTML(\"<style>.container { width:100% !important; }</style>\"))"
   ]
  },
  {
   "cell_type": "code",
   "execution_count": 4,
   "metadata": {},
   "outputs": [],
   "source": [
    "# standardize dataframe colume names\n",
    "def col_name(df):\n",
    "    \"\"\"\n",
    "    this is to trim the data_frame column names to a unique format:\n",
    "    all case, replace space to underscore, remove parentheses\n",
    "    param df:\n",
    "        raw from share drive for\n",
    "    return:\n",
    "        polished data set with new column names\n",
    "    \"\"\"\n",
    "    df.columns = df.columns.str.strip().str.lower().str.replace('-','').str.replace(' ', '_').str.replace('(', '').\\\n",
    "                    str.replace(')', '').str.replace('\"','')\n",
    "    return df"
   ]
  },
  {
   "cell_type": "code",
   "execution_count": 5,
   "metadata": {},
   "outputs": [],
   "source": [
    "# public source zipcode format standaraization\n",
    "def clean_zip(file_path = None):\n",
    "    \"\"\"\n",
    "    this is to clean the zip file: \n",
    "        - corrdinate format\n",
    "        - save file as feather format\n",
    "    \n",
    "    parameter:\n",
    "        df: original zipcode msater file \n",
    "        file_path: zipcode file directory\n",
    "        \n",
    "    return:\n",
    "        zipcode feather format\n",
    "    \"\"\"\n",
    "    # change zipcodes which contain alphabix letter to 0 (outside of USA)\n",
    "    def to_string(x):\n",
    "        try:\n",
    "            return str(x)\n",
    "        except:\n",
    "            return 0   \n",
    "        \n",
    "    zipcode = pd.read_csv(file_path)\n",
    "    zipcode = col_name(zipcode)\n",
    "    zipcode['zip_code'] = zipcode['zip_code'].apply(lambda x: to_string(x))\n",
    "    \n",
    "    return zipcode"
   ]
  },
  {
   "cell_type": "code",
   "execution_count": 6,
   "metadata": {},
   "outputs": [],
   "source": [
    "def haversine(lon1,lat1,lon2,lat2):\n",
    "    \"\"\"\n",
    "    Calculate the great circle distance between 2 points\n",
    "    on the earch (specifid in decimal degree)\n",
    "    \"\"\"\n",
    "    # Convert decimal degree to radians\n",
    "    lon1,lat1,lon2,lat2 = map(np.radians,[lon1,lat1,lon2,lat2])\n",
    "    # Haversine formula\n",
    "    dlon = lon2-lon1\n",
    "    dlat = lat2-lat1\n",
    "    a = np.sin(dlat/2)**2 + np.cos(lat1) * np.cos(lat2) * np.sin(dlon/2)**2\n",
    "    c = 2 * np.math.asin(np.sqrt(a))\n",
    "    mile = 6371 * c # Radius of earth in kilometers. Use 3956 for miles\n",
    "#     km = 6367 * c\n",
    "    return mile"
   ]
  },
  {
   "cell_type": "code",
   "execution_count": 7,
   "metadata": {},
   "outputs": [],
   "source": [
    "def lon_lat_finding(x,selection = 'long'):\n",
    "    try:\n",
    "        return zipcodes.matching(x)[0][selection]\n",
    "    except:\n",
    "        None                "
   ]
  },
  {
   "cell_type": "code",
   "execution_count": 8,
   "metadata": {},
   "outputs": [],
   "source": [
    "def centroid_name (x):\n",
    "    name_result = str(x[0])+' & '+str(x[1])\n",
    "    return name_result"
   ]
  },
  {
   "cell_type": "code",
   "execution_count": 9,
   "metadata": {},
   "outputs": [],
   "source": [
    "def cog_one_wh(df, cog_rule = 'weight'):\n",
    "    if cog_rule == 'weight':\n",
    "        center_lon = round(sum(df['weightlbs_sum'] * df['port_weight_total'] * df['origin_lon'])/sum(df['weightlbs_sum'] * df['port_weight_total']),5)\n",
    "        center_lat = round(sum(df['weightlbs_sum'] * df['port_weight_total'] * df['origin_lat'])/sum(df['weightlbs_sum'] * df['port_weight_total']),5)\n",
    "    \n",
    "    elif cog_rule == 'cost':\n",
    "        center_lon = round(sum(df['total_cost_sum'] * df['port_weight_total'] * df['origin_lon'])/sum(df['total_cost_sum'] * df['port_weight_total']),5)\n",
    "        center_lat = round(sum(df['total_cost_sum'] * df['port_weight_total'] * df['origin_lat'])/sum(df['total_cost_sum'] * df['port_weight_total']),5)\n",
    "        \n",
    "    elif cog_rule == 'freq':\n",
    "        center_lon = round(sum(df['distance_miles_count'] * df['port_weight_total'] * df['origin_lon'])/sum(df['distance_miles_count'] * df['port_weight_total']),5)\n",
    "        center_lat = round(sum(df['distance_miles_count'] * df['port_weight_total'] * df['origin_lat'])/sum(df['distance_miles_count'] *df['port_weight_total']),5)\n",
    "\n",
    "    \n",
    "    return center_lon, center_lat"
   ]
  },
  {
   "cell_type": "code",
   "execution_count": 10,
   "metadata": {},
   "outputs": [],
   "source": [
    "input_path = r'C:\\Users\\U279014\\Documents\\H_Drive\\7.AA Models\\15.5.COG_Project Consuela\\data_input'\n",
    "input_file = r'TMC.xls'\n",
    "\n",
    "output_path = r'C:\\Users\\U279014\\Documents\\H_Drive\\7.AA Models\\15.5.COG_Project Consuela\\data_output'\n",
    "output_file = r'TMC_output_flow_result.csv'\n",
    "output_file2 = r'TMC_preprocess_result.csv'"
   ]
  },
  {
   "cell_type": "code",
   "execution_count": 11,
   "metadata": {},
   "outputs": [
    {
     "name": "stderr",
     "output_type": "stream",
     "text": [
      "C:\\Users\\U279014\\Anaconda3\\lib\\site-packages\\ipykernel_launcher.py:11: FutureWarning: The default value of regex will change from True to False in a future version. In addition, single character regular expressions will *not* be treated as literal strings when regex=True.\n",
      "  # This is added back by InteractiveShellApp.init_path()\n",
      "C:\\Users\\U279014\\Anaconda3\\lib\\site-packages\\ipykernel_launcher.py:12: FutureWarning: The default value of regex will change from True to False in a future version. In addition, single character regular expressions will *not* be treated as literal strings when regex=True.\n",
      "  if sys.path[0] == '':\n"
     ]
    }
   ],
   "source": [
    "df_tmc_orig = col_name(pd.read_excel(os.path.join(input_path, input_file))) # standardize data header"
   ]
  },
  {
   "cell_type": "raw",
   "metadata": {},
   "source": [
    "df_ts = df_tmc_orig.copy()\n",
    "df_ts.index = df_ts.actual_delivery_date\n",
    "df_ts = df_ts[df_ts.actual_delivery_date != ' N/A']"
   ]
  },
  {
   "cell_type": "code",
   "execution_count": 12,
   "metadata": {},
   "outputs": [],
   "source": [
    "df_tmc_orig['origin_zip'] = df_tmc_orig['origin_zip'].str.split('-', expand = True).loc[:,0] # extract meaningful zipcode\n",
    "df_tmc_orig['destination_zip'] = df_tmc_orig['destination_zip'].str.split('-', expand = True).loc[:,0] # "
   ]
  },
  {
   "cell_type": "markdown",
   "metadata": {},
   "source": [
    "### Step 0 - Origin TMC Preprocess"
   ]
  },
  {
   "cell_type": "code",
   "execution_count": 13,
   "metadata": {},
   "outputs": [],
   "source": [
    "df_tmc_preprocess = pd.concat([df_tmc_orig, df_tmc_orig['origin_zip'].apply(lambda x: pd.Series({'origin_lon': lon_lat_finding(x,selection = 'long'), 'origin_lat': lon_lat_finding(x, selection = 'lat')}))], axis=1)\n",
    "df_tmc_preprocess = pd.concat([df_tmc_preprocess, df_tmc_preprocess['destination_zip'].apply(lambda x: pd.Series({'destination_lon': lon_lat_finding(x,selection = 'long'), 'destination_lat': lon_lat_finding(x, selection = 'lat')}))], axis=1)\n",
    "df_tmc_preprocess.dropna(subset=['origin_lon'], inplace=True)\n",
    "df_tmc_preprocess[['origin_lon', 'origin_lat', 'destination_lon', 'destination_lat']] = df_tmc_preprocess[['origin_lon', 'origin_lat', 'destination_lon', 'destination_lat']].apply(pd.to_numeric, errors='coerce')\n",
    "df_tmc_preprocess['distance'] = df_tmc_preprocess[['origin_lon', 'origin_lat', 'destination_lon', 'destination_lat']].apply(lambda x: haversine(x[0], x[1], x[2], x[3]), axis=1)"
   ]
  },
  {
   "cell_type": "code",
   "execution_count": 14,
   "metadata": {},
   "outputs": [],
   "source": [
    "df_tmc_preprocess.to_csv(os.path.join(output_path, output_file2), index = False)"
   ]
  },
  {
   "cell_type": "code",
   "execution_count": 15,
   "metadata": {},
   "outputs": [
    {
     "name": "stderr",
     "output_type": "stream",
     "text": [
      "C:\\Users\\U279014\\Anaconda3\\lib\\site-packages\\ipykernel_launcher.py:4: FutureWarning: Indexing with multiple keys (implicitly converted to a tuple of keys) will be deprecated, use a list instead.\n",
      "  after removing the cwd from sys.path.\n"
     ]
    }
   ],
   "source": [
    "# exclude distance miles is zero\n",
    "df_tmc_orig = df_tmc_orig[df_tmc_orig.distance_miles != 0]\n",
    "\n",
    "df_agg = df_tmc_orig.groupby(['origin_zip','origin_state', 'destination_zip', 'destination_state', 'mode_description'])['total_cost', 'weightlbs', 'distance_miles'].agg(['sum', 'count'])\n",
    "df_agg.columns = df_agg.columns.map('_'.join).str.strip('_')\n",
    "df_agg.reset_index(inplace=True)"
   ]
  },
  {
   "cell_type": "code",
   "execution_count": 16,
   "metadata": {},
   "outputs": [],
   "source": [
    "df_agg = pd.concat([df_agg, df_agg['origin_zip'].apply(lambda x: pd.Series({'origin_lon': lon_lat_finding(x,selection = 'long'), 'origin_lat': lon_lat_finding(x, selection = 'lat')}))], axis=1)\n",
    "df_agg_full = pd.concat([df_agg, df_agg['destination_zip'].apply(lambda x: pd.Series({'destination_lon': lon_lat_finding(x,selection = 'long'), 'destination_lat': lon_lat_finding(x, selection = 'lat')}))], axis=1)\n",
    "\n",
    "df_agg_full.dropna(subset=['origin_lon'], inplace=True)\n",
    "df_agg_full[['origin_lon', 'origin_lat', 'destination_lon', 'destination_lat']] = df_agg_full[['origin_lon', 'origin_lat', 'destination_lon', 'destination_lat']].apply(pd.to_numeric, errors='coerce')\n",
    "\n",
    "df_agg_full['distance'] = df_agg_full[['origin_lon', 'origin_lat', 'destination_lon', 'destination_lat']].apply(lambda x: haversine(x[0], x[1], x[2], x[3]), axis=1)"
   ]
  },
  {
   "cell_type": "markdown",
   "metadata": {},
   "source": [
    "### Option 1 - Chicago Consolidation"
   ]
  },
  {
   "cell_type": "code",
   "execution_count": 109,
   "metadata": {
    "scrolled": true
   },
   "outputs": [],
   "source": [
    "# exclude_states = ['IN', 'MI', 'IA', 'WI', 'ND', 'IL', 'TX', 'AZ', 'WA', 'MO']\n",
    "# exclude_states = ['IN','IA', 'WI', 'ND', 'IL','AZ', 'WA', 'MO']\n",
    "exclude_states = ['IA', 'WI', 'ND', 'IL', 'TX', 'AZ', 'WA', 'MO']\n",
    "\n",
    "df_agg_east = df_agg_full[~df_agg_full.origin_state.isin(exclude_states)]\n",
    "df_agg_west = df_agg_full[df_agg_full.origin_state.isin(exclude_states)]\n",
    "df_agg_west['one_center_lon'], df_agg_west['one_center_lat'] = -87.6289, 41.8781"
   ]
  },
  {
   "cell_type": "code",
   "execution_count": 110,
   "metadata": {},
   "outputs": [],
   "source": [
    "dict_chicago_agg = {'origin_zip': '60191', 'origin_state': 'IL', 'destination_zip': '07201', 'destination_state': 'NJ', 'mode_description': 'TL'}\n",
    "dict_chicago_agg.update(dict(df_agg_west.sum()[['total_cost_sum', 'total_cost_count', 'weightlbs_sum', 'weightlbs_count','distance_miles_sum', 'distance_miles_count']]))\n",
    "dict_chicago_agg.update({'origin_lon': -87.6286, 'origin_lat': 41.8781, 'destination_lon': -74.1779, 'destination_lat': 40.6723, 'distance': 1160})\n",
    "df_init_chicago = pd.DataFrame(pd.Series(dict_chicago_agg)).T"
   ]
  },
  {
   "cell_type": "code",
   "execution_count": 111,
   "metadata": {},
   "outputs": [],
   "source": [
    "df_consolidate = pd.concat([df_init_chicago, df_agg_east])"
   ]
  },
  {
   "cell_type": "markdown",
   "metadata": {},
   "source": [
    "### Step 1 - Port cities selection"
   ]
  },
  {
   "cell_type": "code",
   "execution_count": 112,
   "metadata": {},
   "outputs": [],
   "source": [
    "port_city_candidates = {'Newark/New York': [43.0467, -77.0953, 4196],\n",
    "                        'Savannah': [32.0809, -81.0912, 2223],\n",
    "                        'Norfolk': [36.8508, 76.2859, 1312],\n",
    "                        'Charleston': [32.7765, -79.9311, 1210],\n",
    "                        'Philadelphia': [39.9526, -75.1652, 526],\n",
    "                        'Baltimore': [39.2904, -76.6122, 508],\n",
    "                        'Willmington_DE': [39.7447, -75.5484, 196],\n",
    "                        'Boston': [42.3601, -71.0589, 162],\n",
    "                        'Wilmington_NC':[34.2104, -77.8868, 125],\n",
    "                        'Chester_PA': [39.8496, -75.3557, 101]}"
   ]
  },
  {
   "cell_type": "code",
   "execution_count": 93,
   "metadata": {},
   "outputs": [],
   "source": [
    "port_city_candidates = { 'Savannah': [32.0809, -81.0912, 2223],\n",
    "                        'Charleston': [32.7765, -79.9311, 1210]}"
   ]
  },
  {
   "cell_type": "code",
   "execution_count": 94,
   "metadata": {},
   "outputs": [],
   "source": [
    "# port_city_candidates = {'Savannah': [32.0809, -81.0912, 2223]}"
   ]
  },
  {
   "cell_type": "code",
   "execution_count": 113,
   "metadata": {},
   "outputs": [],
   "source": [
    "df_consolidate['port_weight_total'] = 0\n",
    "port_columns = []\n",
    "for k in port_city_candidates.keys():\n",
    "    df_consolidate['origin_to_' +k.lower() + '_distance_inverse'] = df_consolidate[['origin_lon', 'origin_lat']].apply(lambda x: round(1000/(haversine(x[0], x[1], port_city_candidates[k][1], port_city_candidates[k][0])),3), axis=1)\n",
    "    df_consolidate[k.lower() + '_teq'] = port_city_candidates[k][2]\n",
    "    df_consolidate['port_weight_total'] += df_consolidate['origin_to_' +k.lower() + '_distance_inverse'] * df_consolidate[k.lower() + '_teq']\n",
    "    port_columns.append(str('origin_to_' +k.lower() + '_distance_inverse'))\n",
    "    port_columns.append(str(k.lower() + '_teq'))"
   ]
  },
  {
   "cell_type": "markdown",
   "metadata": {},
   "source": [
    "### Step 2 - One warehouse allowed"
   ]
  },
  {
   "cell_type": "code",
   "execution_count": 114,
   "metadata": {},
   "outputs": [],
   "source": [
    "rule = 'weight'\n",
    "df_consolidate['one_center_lon'], df_consolidate['one_center_lat'] = cog_one_wh(df_consolidate, cog_rule=rule)\n",
    "df_consolidate = pd.concat([df_consolidate, df_agg_west])"
   ]
  },
  {
   "cell_type": "code",
   "execution_count": 115,
   "metadata": {},
   "outputs": [],
   "source": [
    "df_consolidate['origin_name'] = df_consolidate[['origin_lon', 'origin_lat']].apply(lambda x: centroid_name(x), axis = 1)\n",
    "df_consolidate['one_center_name']= df_consolidate[['one_center_lon', 'one_center_lat']].apply(lambda x: centroid_name(x), axis = 1)\n",
    "df_consolidate['to_center_distance'] = df_consolidate[['origin_lon', 'origin_lat', 'one_center_lon', 'one_center_lat']].apply(lambda x: haversine(x[0], x[1], x[2], x[3]), axis=1)\n",
    "df_consolidate['agg_distance'] = df_consolidate.to_center_distance * df_consolidate.distance_miles_count\n",
    "df_consolidate.reset_index(drop = True, inplace=True)\n",
    "\n",
    "chicago_dock_lon = df_agg_west.one_center_lon.unique()\n",
    "df_consolidate['adjusted_weight_sum'] = df_consolidate[['one_center_lon', 'weightlbs_sum']].apply(lambda x: x[1] if x[0] != chicago_dock_lon else 0, axis = 1)\n",
    "df_consolidate.to_csv(os.path.join(output_path, output_file), index=False)"
   ]
  },
  {
   "cell_type": "code",
   "execution_count": 116,
   "metadata": {},
   "outputs": [
    {
     "data": {
      "application/vnd.plotly.v1+json": {
       "config": {
        "plotlyServerURL": "https://plot.ly"
       },
       "data": [
        {
         "customdata": [
          [
           380566,
           67476.73049999999
          ],
          [
           2690,
           508.8995
          ],
          [
           340,
           76.2215
          ],
          [
           6373,
           1562.9279000000001
          ],
          [
           1845,
           441.9568
          ],
          [
           2082,
           250.9929
          ],
          [
           367,
           209.0207
          ],
          [
           2445,
           989.9536
          ],
          [
           3919,
           1241.8875
          ],
          [
           7351,
           2513.1972
          ],
          [
           15010,
           1345.25
          ],
          [
           120867,
           12422.1814
          ],
          [
           36200,
           11028.14
          ],
          [
           15109,
           2723.3048
          ],
          [
           6583,
           1700
          ],
          [
           1576,
           396.83770000000004
          ],
          [
           400,
           1585.25
          ],
          [
           600,
           111.027
          ],
          [
           1522,
           303.2247
          ],
          [
           725,
           1499.98
          ],
          [
           2835,
           312.40250000000003
          ],
          [
           150,
           98.145
          ],
          [
           111937,
           12964.7409
          ],
          [
           30931,
           4096.4007
          ],
          [
           514,
           520.3803
          ],
          [
           16441,
           5280.5107
          ],
          [
           61734,
           8181.7318000000005
          ],
          [
           750,
           183.6464
          ],
          [
           232,
           74.0681
          ],
          [
           54235,
           5312.8589
          ],
          [
           572,
           217.64659999999998
          ],
          [
           385,
           150.2399
          ],
          [
           668,
           301.1794
          ],
          [
           705,
           378.539
          ],
          [
           4546,
           1712.1861
          ],
          [
           15386,
           2521.4966
          ],
          [
           7481,
           1486.1391
          ],
          [
           30765,
           6049.5603
          ],
          [
           27659,
           7286.1646
          ],
          [
           1220,
           379.9266
          ],
          [
           936,
           130.476
          ],
          [
           500,
           76.4454
          ],
          [
           398,
           73.3706
          ],
          [
           275,
           73.8371
          ],
          [
           227,
           67.89959999999999
          ],
          [
           24676,
           2722.9825
          ],
          [
           11583,
           2210.9049
          ],
          [
           46506,
           7207.7253
          ],
          [
           115200,
           63930.32
          ],
          [
           31100,
           4725.2383
          ],
          [
           15627,
           2346.1597
          ],
          [
           6665,
           1221.6665
          ],
          [
           1379,
           330.8084
          ],
          [
           30792,
           4270.2898000000005
          ],
          [
           4663,
           1766.397
          ],
          [
           1100,
           309.3372
          ],
          [
           7094,
           3313.5634999999997
          ],
          [
           26950,
           5008.1789
          ],
          [
           3327,
           959.4664
          ],
          [
           10840,
           1980.2806
          ],
          [
           1029,
           353.1542
          ],
          [
           2894,
           1041.1136
          ],
          [
           6990,
           1367.8035
          ],
          [
           7570,
           1167.4917
          ],
          [
           368,
           89.1
          ],
          [
           185,
           88.7087
          ],
          [
           1857,
           997.8756
          ],
          [
           9328,
           1833.0157
          ],
          [
           890,
           259.44669999999996
          ],
          [
           300,
           105.8111
          ],
          [
           91636,
           18985.3603
          ],
          [
           330,
           110.4445
          ],
          [
           12,
           179.5971
          ],
          [
           25041,
           8703.2102
          ],
          [
           1403,
           4966.74
          ],
          [
           21556,
           6088.5708
          ],
          [
           3615,
           1064.4325
          ],
          [
           773,
           270.9208
          ],
          [
           150815,
           6466.7099
          ]
         ],
         "hovertemplate": "<b>%{hovertext}</b><br><br>one_center_lat=%{lat}<br>one_center_lon=%{lon}<br>weightlbs_sum=%{customdata[0]}<br>total_cost_sum=%{customdata[1]}<extra></extra>",
         "hovertext": [
          "60191",
          "06281",
          "06460",
          "06615",
          "07003",
          "11735",
          "13210",
          "13803",
          "15106",
          "15275",
          "15522",
          "15522",
          "15522",
          "15931",
          "15931",
          "16101",
          "16601",
          "16601",
          "16637",
          "16637",
          "17201",
          "17225",
          "17233",
          "17257",
          "17331",
          "18017",
          "18020",
          "18612",
          "19061",
          "19475",
          "19702",
          "21085",
          "24502",
          "28054",
          "28732",
          "28806",
          "29078",
          "37745",
          "38464",
          "43512",
          "43543",
          "44060",
          "44306",
          "45342",
          "45869",
          "46360",
          "46383",
          "46507",
          "46705",
          "46755",
          "47523",
          "47905",
          "49534",
          "49633",
          "52310",
          "52732",
          "52802",
          "53027",
          "53224",
          "53932",
          "53959",
          "54235",
          "54476",
          "54901",
          "54904",
          "58102",
          "60139",
          "60191",
          "61109",
          "63090",
          "63501",
          "65270",
          "78041",
          "78045",
          "78045",
          "78557",
          "85747",
          "98001",
          "98022"
         ],
         "lat": [
          40.4419,
          40.4419,
          40.4419,
          40.4419,
          40.4419,
          40.4419,
          40.4419,
          40.4419,
          40.4419,
          40.4419,
          40.4419,
          40.4419,
          40.4419,
          40.4419,
          40.4419,
          40.4419,
          40.4419,
          40.4419,
          40.4419,
          40.4419,
          40.4419,
          40.4419,
          40.4419,
          40.4419,
          40.4419,
          40.4419,
          40.4419,
          40.4419,
          40.4419,
          40.4419,
          40.4419,
          40.4419,
          40.4419,
          40.4419,
          40.4419,
          40.4419,
          40.4419,
          40.4419,
          40.4419,
          40.4419,
          40.4419,
          40.4419,
          40.4419,
          40.4419,
          40.4419,
          40.4419,
          40.4419,
          40.4419,
          40.4419,
          40.4419,
          40.4419,
          40.4419,
          40.4419,
          40.4419,
          41.8781,
          41.8781,
          41.8781,
          41.8781,
          41.8781,
          41.8781,
          41.8781,
          41.8781,
          41.8781,
          41.8781,
          41.8781,
          41.8781,
          41.8781,
          41.8781,
          41.8781,
          41.8781,
          41.8781,
          41.8781,
          41.8781,
          41.8781,
          41.8781,
          41.8781,
          41.8781,
          41.8781,
          41.8781
         ],
         "legendgroup": "",
         "lon": [
          -80.56605,
          -80.56605,
          -80.56605,
          -80.56605,
          -80.56605,
          -80.56605,
          -80.56605,
          -80.56605,
          -80.56605,
          -80.56605,
          -80.56605,
          -80.56605,
          -80.56605,
          -80.56605,
          -80.56605,
          -80.56605,
          -80.56605,
          -80.56605,
          -80.56605,
          -80.56605,
          -80.56605,
          -80.56605,
          -80.56605,
          -80.56605,
          -80.56605,
          -80.56605,
          -80.56605,
          -80.56605,
          -80.56605,
          -80.56605,
          -80.56605,
          -80.56605,
          -80.56605,
          -80.56605,
          -80.56605,
          -80.56605,
          -80.56605,
          -80.56605,
          -80.56605,
          -80.56605,
          -80.56605,
          -80.56605,
          -80.56605,
          -80.56605,
          -80.56605,
          -80.56605,
          -80.56605,
          -80.56605,
          -80.56605,
          -80.56605,
          -80.56605,
          -80.56605,
          -80.56605,
          -80.56605,
          -87.6289,
          -87.6289,
          -87.6289,
          -87.6289,
          -87.6289,
          -87.6289,
          -87.6289,
          -87.6289,
          -87.6289,
          -87.6289,
          -87.6289,
          -87.6289,
          -87.6289,
          -87.6289,
          -87.6289,
          -87.6289,
          -87.6289,
          -87.6289,
          -87.6289,
          -87.6289,
          -87.6289,
          -87.6289,
          -87.6289,
          -87.6289,
          -87.6289
         ],
         "marker": {
          "color": "fuchsia"
         },
         "mode": "markers",
         "name": "",
         "showlegend": false,
         "subplot": "mapbox",
         "type": "scattermapbox"
        }
       ],
       "layout": {
        "height": 1200,
        "legend": {
         "tracegroupgap": 0
        },
        "mapbox": {
         "center": {
          "lat": 40.89639367088605,
          "lon": -82.80112911392392
         },
         "domain": {
          "x": [
           0,
           1
          ],
          "y": [
           0,
           1
          ]
         },
         "style": "open-street-map",
         "zoom": 3
        },
        "margin": {
         "b": 0,
         "l": 0,
         "r": 0,
         "t": 0
        },
        "template": {
         "data": {
          "bar": [
           {
            "error_x": {
             "color": "#2a3f5f"
            },
            "error_y": {
             "color": "#2a3f5f"
            },
            "marker": {
             "line": {
              "color": "#E5ECF6",
              "width": 0.5
             }
            },
            "type": "bar"
           }
          ],
          "barpolar": [
           {
            "marker": {
             "line": {
              "color": "#E5ECF6",
              "width": 0.5
             }
            },
            "type": "barpolar"
           }
          ],
          "carpet": [
           {
            "aaxis": {
             "endlinecolor": "#2a3f5f",
             "gridcolor": "white",
             "linecolor": "white",
             "minorgridcolor": "white",
             "startlinecolor": "#2a3f5f"
            },
            "baxis": {
             "endlinecolor": "#2a3f5f",
             "gridcolor": "white",
             "linecolor": "white",
             "minorgridcolor": "white",
             "startlinecolor": "#2a3f5f"
            },
            "type": "carpet"
           }
          ],
          "choropleth": [
           {
            "colorbar": {
             "outlinewidth": 0,
             "ticks": ""
            },
            "type": "choropleth"
           }
          ],
          "contour": [
           {
            "colorbar": {
             "outlinewidth": 0,
             "ticks": ""
            },
            "colorscale": [
             [
              0,
              "#0d0887"
             ],
             [
              0.1111111111111111,
              "#46039f"
             ],
             [
              0.2222222222222222,
              "#7201a8"
             ],
             [
              0.3333333333333333,
              "#9c179e"
             ],
             [
              0.4444444444444444,
              "#bd3786"
             ],
             [
              0.5555555555555556,
              "#d8576b"
             ],
             [
              0.6666666666666666,
              "#ed7953"
             ],
             [
              0.7777777777777778,
              "#fb9f3a"
             ],
             [
              0.8888888888888888,
              "#fdca26"
             ],
             [
              1,
              "#f0f921"
             ]
            ],
            "type": "contour"
           }
          ],
          "contourcarpet": [
           {
            "colorbar": {
             "outlinewidth": 0,
             "ticks": ""
            },
            "type": "contourcarpet"
           }
          ],
          "heatmap": [
           {
            "colorbar": {
             "outlinewidth": 0,
             "ticks": ""
            },
            "colorscale": [
             [
              0,
              "#0d0887"
             ],
             [
              0.1111111111111111,
              "#46039f"
             ],
             [
              0.2222222222222222,
              "#7201a8"
             ],
             [
              0.3333333333333333,
              "#9c179e"
             ],
             [
              0.4444444444444444,
              "#bd3786"
             ],
             [
              0.5555555555555556,
              "#d8576b"
             ],
             [
              0.6666666666666666,
              "#ed7953"
             ],
             [
              0.7777777777777778,
              "#fb9f3a"
             ],
             [
              0.8888888888888888,
              "#fdca26"
             ],
             [
              1,
              "#f0f921"
             ]
            ],
            "type": "heatmap"
           }
          ],
          "heatmapgl": [
           {
            "colorbar": {
             "outlinewidth": 0,
             "ticks": ""
            },
            "colorscale": [
             [
              0,
              "#0d0887"
             ],
             [
              0.1111111111111111,
              "#46039f"
             ],
             [
              0.2222222222222222,
              "#7201a8"
             ],
             [
              0.3333333333333333,
              "#9c179e"
             ],
             [
              0.4444444444444444,
              "#bd3786"
             ],
             [
              0.5555555555555556,
              "#d8576b"
             ],
             [
              0.6666666666666666,
              "#ed7953"
             ],
             [
              0.7777777777777778,
              "#fb9f3a"
             ],
             [
              0.8888888888888888,
              "#fdca26"
             ],
             [
              1,
              "#f0f921"
             ]
            ],
            "type": "heatmapgl"
           }
          ],
          "histogram": [
           {
            "marker": {
             "colorbar": {
              "outlinewidth": 0,
              "ticks": ""
             }
            },
            "type": "histogram"
           }
          ],
          "histogram2d": [
           {
            "colorbar": {
             "outlinewidth": 0,
             "ticks": ""
            },
            "colorscale": [
             [
              0,
              "#0d0887"
             ],
             [
              0.1111111111111111,
              "#46039f"
             ],
             [
              0.2222222222222222,
              "#7201a8"
             ],
             [
              0.3333333333333333,
              "#9c179e"
             ],
             [
              0.4444444444444444,
              "#bd3786"
             ],
             [
              0.5555555555555556,
              "#d8576b"
             ],
             [
              0.6666666666666666,
              "#ed7953"
             ],
             [
              0.7777777777777778,
              "#fb9f3a"
             ],
             [
              0.8888888888888888,
              "#fdca26"
             ],
             [
              1,
              "#f0f921"
             ]
            ],
            "type": "histogram2d"
           }
          ],
          "histogram2dcontour": [
           {
            "colorbar": {
             "outlinewidth": 0,
             "ticks": ""
            },
            "colorscale": [
             [
              0,
              "#0d0887"
             ],
             [
              0.1111111111111111,
              "#46039f"
             ],
             [
              0.2222222222222222,
              "#7201a8"
             ],
             [
              0.3333333333333333,
              "#9c179e"
             ],
             [
              0.4444444444444444,
              "#bd3786"
             ],
             [
              0.5555555555555556,
              "#d8576b"
             ],
             [
              0.6666666666666666,
              "#ed7953"
             ],
             [
              0.7777777777777778,
              "#fb9f3a"
             ],
             [
              0.8888888888888888,
              "#fdca26"
             ],
             [
              1,
              "#f0f921"
             ]
            ],
            "type": "histogram2dcontour"
           }
          ],
          "mesh3d": [
           {
            "colorbar": {
             "outlinewidth": 0,
             "ticks": ""
            },
            "type": "mesh3d"
           }
          ],
          "parcoords": [
           {
            "line": {
             "colorbar": {
              "outlinewidth": 0,
              "ticks": ""
             }
            },
            "type": "parcoords"
           }
          ],
          "pie": [
           {
            "automargin": true,
            "type": "pie"
           }
          ],
          "scatter": [
           {
            "marker": {
             "colorbar": {
              "outlinewidth": 0,
              "ticks": ""
             }
            },
            "type": "scatter"
           }
          ],
          "scatter3d": [
           {
            "line": {
             "colorbar": {
              "outlinewidth": 0,
              "ticks": ""
             }
            },
            "marker": {
             "colorbar": {
              "outlinewidth": 0,
              "ticks": ""
             }
            },
            "type": "scatter3d"
           }
          ],
          "scattercarpet": [
           {
            "marker": {
             "colorbar": {
              "outlinewidth": 0,
              "ticks": ""
             }
            },
            "type": "scattercarpet"
           }
          ],
          "scattergeo": [
           {
            "marker": {
             "colorbar": {
              "outlinewidth": 0,
              "ticks": ""
             }
            },
            "type": "scattergeo"
           }
          ],
          "scattergl": [
           {
            "marker": {
             "colorbar": {
              "outlinewidth": 0,
              "ticks": ""
             }
            },
            "type": "scattergl"
           }
          ],
          "scattermapbox": [
           {
            "marker": {
             "colorbar": {
              "outlinewidth": 0,
              "ticks": ""
             }
            },
            "type": "scattermapbox"
           }
          ],
          "scatterpolar": [
           {
            "marker": {
             "colorbar": {
              "outlinewidth": 0,
              "ticks": ""
             }
            },
            "type": "scatterpolar"
           }
          ],
          "scatterpolargl": [
           {
            "marker": {
             "colorbar": {
              "outlinewidth": 0,
              "ticks": ""
             }
            },
            "type": "scatterpolargl"
           }
          ],
          "scatterternary": [
           {
            "marker": {
             "colorbar": {
              "outlinewidth": 0,
              "ticks": ""
             }
            },
            "type": "scatterternary"
           }
          ],
          "surface": [
           {
            "colorbar": {
             "outlinewidth": 0,
             "ticks": ""
            },
            "colorscale": [
             [
              0,
              "#0d0887"
             ],
             [
              0.1111111111111111,
              "#46039f"
             ],
             [
              0.2222222222222222,
              "#7201a8"
             ],
             [
              0.3333333333333333,
              "#9c179e"
             ],
             [
              0.4444444444444444,
              "#bd3786"
             ],
             [
              0.5555555555555556,
              "#d8576b"
             ],
             [
              0.6666666666666666,
              "#ed7953"
             ],
             [
              0.7777777777777778,
              "#fb9f3a"
             ],
             [
              0.8888888888888888,
              "#fdca26"
             ],
             [
              1,
              "#f0f921"
             ]
            ],
            "type": "surface"
           }
          ],
          "table": [
           {
            "cells": {
             "fill": {
              "color": "#EBF0F8"
             },
             "line": {
              "color": "white"
             }
            },
            "header": {
             "fill": {
              "color": "#C8D4E3"
             },
             "line": {
              "color": "white"
             }
            },
            "type": "table"
           }
          ]
         },
         "layout": {
          "annotationdefaults": {
           "arrowcolor": "#2a3f5f",
           "arrowhead": 0,
           "arrowwidth": 1
          },
          "coloraxis": {
           "colorbar": {
            "outlinewidth": 0,
            "ticks": ""
           }
          },
          "colorscale": {
           "diverging": [
            [
             0,
             "#8e0152"
            ],
            [
             0.1,
             "#c51b7d"
            ],
            [
             0.2,
             "#de77ae"
            ],
            [
             0.3,
             "#f1b6da"
            ],
            [
             0.4,
             "#fde0ef"
            ],
            [
             0.5,
             "#f7f7f7"
            ],
            [
             0.6,
             "#e6f5d0"
            ],
            [
             0.7,
             "#b8e186"
            ],
            [
             0.8,
             "#7fbc41"
            ],
            [
             0.9,
             "#4d9221"
            ],
            [
             1,
             "#276419"
            ]
           ],
           "sequential": [
            [
             0,
             "#0d0887"
            ],
            [
             0.1111111111111111,
             "#46039f"
            ],
            [
             0.2222222222222222,
             "#7201a8"
            ],
            [
             0.3333333333333333,
             "#9c179e"
            ],
            [
             0.4444444444444444,
             "#bd3786"
            ],
            [
             0.5555555555555556,
             "#d8576b"
            ],
            [
             0.6666666666666666,
             "#ed7953"
            ],
            [
             0.7777777777777778,
             "#fb9f3a"
            ],
            [
             0.8888888888888888,
             "#fdca26"
            ],
            [
             1,
             "#f0f921"
            ]
           ],
           "sequentialminus": [
            [
             0,
             "#0d0887"
            ],
            [
             0.1111111111111111,
             "#46039f"
            ],
            [
             0.2222222222222222,
             "#7201a8"
            ],
            [
             0.3333333333333333,
             "#9c179e"
            ],
            [
             0.4444444444444444,
             "#bd3786"
            ],
            [
             0.5555555555555556,
             "#d8576b"
            ],
            [
             0.6666666666666666,
             "#ed7953"
            ],
            [
             0.7777777777777778,
             "#fb9f3a"
            ],
            [
             0.8888888888888888,
             "#fdca26"
            ],
            [
             1,
             "#f0f921"
            ]
           ]
          },
          "colorway": [
           "#636efa",
           "#EF553B",
           "#00cc96",
           "#ab63fa",
           "#FFA15A",
           "#19d3f3",
           "#FF6692",
           "#B6E880",
           "#FF97FF",
           "#FECB52"
          ],
          "font": {
           "color": "#2a3f5f"
          },
          "geo": {
           "bgcolor": "white",
           "lakecolor": "white",
           "landcolor": "#E5ECF6",
           "showlakes": true,
           "showland": true,
           "subunitcolor": "white"
          },
          "hoverlabel": {
           "align": "left"
          },
          "hovermode": "closest",
          "mapbox": {
           "style": "light"
          },
          "paper_bgcolor": "white",
          "plot_bgcolor": "#E5ECF6",
          "polar": {
           "angularaxis": {
            "gridcolor": "white",
            "linecolor": "white",
            "ticks": ""
           },
           "bgcolor": "#E5ECF6",
           "radialaxis": {
            "gridcolor": "white",
            "linecolor": "white",
            "ticks": ""
           }
          },
          "scene": {
           "xaxis": {
            "backgroundcolor": "#E5ECF6",
            "gridcolor": "white",
            "gridwidth": 2,
            "linecolor": "white",
            "showbackground": true,
            "ticks": "",
            "zerolinecolor": "white"
           },
           "yaxis": {
            "backgroundcolor": "#E5ECF6",
            "gridcolor": "white",
            "gridwidth": 2,
            "linecolor": "white",
            "showbackground": true,
            "ticks": "",
            "zerolinecolor": "white"
           },
           "zaxis": {
            "backgroundcolor": "#E5ECF6",
            "gridcolor": "white",
            "gridwidth": 2,
            "linecolor": "white",
            "showbackground": true,
            "ticks": "",
            "zerolinecolor": "white"
           }
          },
          "shapedefaults": {
           "line": {
            "color": "#2a3f5f"
           }
          },
          "ternary": {
           "aaxis": {
            "gridcolor": "white",
            "linecolor": "white",
            "ticks": ""
           },
           "baxis": {
            "gridcolor": "white",
            "linecolor": "white",
            "ticks": ""
           },
           "bgcolor": "#E5ECF6",
           "caxis": {
            "gridcolor": "white",
            "linecolor": "white",
            "ticks": ""
           }
          },
          "title": {
           "x": 0.05
          },
          "xaxis": {
           "automargin": true,
           "gridcolor": "white",
           "linecolor": "white",
           "ticks": "",
           "title": {
            "standoff": 15
           },
           "zerolinecolor": "white",
           "zerolinewidth": 2
          },
          "yaxis": {
           "automargin": true,
           "gridcolor": "white",
           "linecolor": "white",
           "ticks": "",
           "title": {
            "standoff": 15
           },
           "zerolinecolor": "white",
           "zerolinewidth": 2
          }
         }
        }
       }
      },
      "text/html": [
       "<div>\n",
       "        \n",
       "        \n",
       "            <div id=\"3409df60-2947-4895-be1d-5a405d9c22fe\" class=\"plotly-graph-div\" style=\"height:1200px; width:100%;\"></div>\n",
       "            <script type=\"text/javascript\">\n",
       "                require([\"plotly\"], function(Plotly) {\n",
       "                    window.PLOTLYENV=window.PLOTLYENV || {};\n",
       "                    \n",
       "                if (document.getElementById(\"3409df60-2947-4895-be1d-5a405d9c22fe\")) {\n",
       "                    Plotly.newPlot(\n",
       "                        '3409df60-2947-4895-be1d-5a405d9c22fe',\n",
       "                        [{\"customdata\": [[380566, 67476.73049999999], [2690, 508.8995], [340, 76.2215], [6373, 1562.9279000000001], [1845, 441.9568], [2082, 250.9929], [367, 209.0207], [2445, 989.9536], [3919, 1241.8875], [7351, 2513.1972], [15010, 1345.25], [120867, 12422.1814], [36200, 11028.14], [15109, 2723.3048], [6583, 1700.0], [1576, 396.83770000000004], [400, 1585.25], [600, 111.027], [1522, 303.2247], [725, 1499.98], [2835, 312.40250000000003], [150, 98.145], [111937, 12964.7409], [30931, 4096.4007], [514, 520.3803], [16441, 5280.5107], [61734, 8181.7318000000005], [750, 183.6464], [232, 74.0681], [54235, 5312.8589], [572, 217.64659999999998], [385, 150.2399], [668, 301.1794], [705, 378.539], [4546, 1712.1861], [15386, 2521.4966], [7481, 1486.1391], [30765, 6049.5603], [27659, 7286.1646], [1220, 379.9266], [936, 130.476], [500, 76.4454], [398, 73.3706], [275, 73.8371], [227, 67.89959999999999], [24676, 2722.9825], [11583, 2210.9049], [46506, 7207.7253], [115200, 63930.32], [31100, 4725.2383], [15627, 2346.1597], [6665, 1221.6665], [1379, 330.8084], [30792, 4270.2898000000005], [4663, 1766.397], [1100, 309.3372], [7094, 3313.5634999999997], [26950, 5008.1789], [3327, 959.4664], [10840, 1980.2806], [1029, 353.1542], [2894, 1041.1136], [6990, 1367.8035], [7570, 1167.4917], [368, 89.1], [185, 88.7087], [1857, 997.8756], [9328, 1833.0157], [890, 259.44669999999996], [300, 105.8111], [91636, 18985.3603], [330, 110.4445], [12, 179.5971], [25041, 8703.2102], [1403, 4966.74], [21556, 6088.5708], [3615, 1064.4325], [773, 270.9208], [150815, 6466.7099]], \"hovertemplate\": \"<b>%{hovertext}</b><br><br>one_center_lat=%{lat}<br>one_center_lon=%{lon}<br>weightlbs_sum=%{customdata[0]}<br>total_cost_sum=%{customdata[1]}<extra></extra>\", \"hovertext\": [\"60191\", \"06281\", \"06460\", \"06615\", \"07003\", \"11735\", \"13210\", \"13803\", \"15106\", \"15275\", \"15522\", \"15522\", \"15522\", \"15931\", \"15931\", \"16101\", \"16601\", \"16601\", \"16637\", \"16637\", \"17201\", \"17225\", \"17233\", \"17257\", \"17331\", \"18017\", \"18020\", \"18612\", \"19061\", \"19475\", \"19702\", \"21085\", \"24502\", \"28054\", \"28732\", \"28806\", \"29078\", \"37745\", \"38464\", \"43512\", \"43543\", \"44060\", \"44306\", \"45342\", \"45869\", \"46360\", \"46383\", \"46507\", \"46705\", \"46755\", \"47523\", \"47905\", \"49534\", \"49633\", \"52310\", \"52732\", \"52802\", \"53027\", \"53224\", \"53932\", \"53959\", \"54235\", \"54476\", \"54901\", \"54904\", \"58102\", \"60139\", \"60191\", \"61109\", \"63090\", \"63501\", \"65270\", \"78041\", \"78045\", \"78045\", \"78557\", \"85747\", \"98001\", \"98022\"], \"lat\": [40.4419, 40.4419, 40.4419, 40.4419, 40.4419, 40.4419, 40.4419, 40.4419, 40.4419, 40.4419, 40.4419, 40.4419, 40.4419, 40.4419, 40.4419, 40.4419, 40.4419, 40.4419, 40.4419, 40.4419, 40.4419, 40.4419, 40.4419, 40.4419, 40.4419, 40.4419, 40.4419, 40.4419, 40.4419, 40.4419, 40.4419, 40.4419, 40.4419, 40.4419, 40.4419, 40.4419, 40.4419, 40.4419, 40.4419, 40.4419, 40.4419, 40.4419, 40.4419, 40.4419, 40.4419, 40.4419, 40.4419, 40.4419, 40.4419, 40.4419, 40.4419, 40.4419, 40.4419, 40.4419, 41.8781, 41.8781, 41.8781, 41.8781, 41.8781, 41.8781, 41.8781, 41.8781, 41.8781, 41.8781, 41.8781, 41.8781, 41.8781, 41.8781, 41.8781, 41.8781, 41.8781, 41.8781, 41.8781, 41.8781, 41.8781, 41.8781, 41.8781, 41.8781, 41.8781], \"legendgroup\": \"\", \"lon\": [-80.56605, -80.56605, -80.56605, -80.56605, -80.56605, -80.56605, -80.56605, -80.56605, -80.56605, -80.56605, -80.56605, -80.56605, -80.56605, -80.56605, -80.56605, -80.56605, -80.56605, -80.56605, -80.56605, -80.56605, -80.56605, -80.56605, -80.56605, -80.56605, -80.56605, -80.56605, -80.56605, -80.56605, -80.56605, -80.56605, -80.56605, -80.56605, -80.56605, -80.56605, -80.56605, -80.56605, -80.56605, -80.56605, -80.56605, -80.56605, -80.56605, -80.56605, -80.56605, -80.56605, -80.56605, -80.56605, -80.56605, -80.56605, -80.56605, -80.56605, -80.56605, -80.56605, -80.56605, -80.56605, -87.6289, -87.6289, -87.6289, -87.6289, -87.6289, -87.6289, -87.6289, -87.6289, -87.6289, -87.6289, -87.6289, -87.6289, -87.6289, -87.6289, -87.6289, -87.6289, -87.6289, -87.6289, -87.6289, -87.6289, -87.6289, -87.6289, -87.6289, -87.6289, -87.6289], \"marker\": {\"color\": \"fuchsia\"}, \"mode\": \"markers\", \"name\": \"\", \"showlegend\": false, \"subplot\": \"mapbox\", \"type\": \"scattermapbox\"}],\n",
       "                        {\"height\": 1200, \"legend\": {\"tracegroupgap\": 0}, \"mapbox\": {\"center\": {\"lat\": 40.89639367088605, \"lon\": -82.80112911392392}, \"domain\": {\"x\": [0.0, 1.0], \"y\": [0.0, 1.0]}, \"style\": \"open-street-map\", \"zoom\": 3}, \"margin\": {\"b\": 0, \"l\": 0, \"r\": 0, \"t\": 0}, \"template\": {\"data\": {\"bar\": [{\"error_x\": {\"color\": \"#2a3f5f\"}, \"error_y\": {\"color\": \"#2a3f5f\"}, \"marker\": {\"line\": {\"color\": \"#E5ECF6\", \"width\": 0.5}}, \"type\": \"bar\"}], \"barpolar\": [{\"marker\": {\"line\": {\"color\": \"#E5ECF6\", \"width\": 0.5}}, \"type\": \"barpolar\"}], \"carpet\": [{\"aaxis\": {\"endlinecolor\": \"#2a3f5f\", \"gridcolor\": \"white\", \"linecolor\": \"white\", \"minorgridcolor\": \"white\", \"startlinecolor\": \"#2a3f5f\"}, \"baxis\": {\"endlinecolor\": \"#2a3f5f\", \"gridcolor\": \"white\", \"linecolor\": \"white\", \"minorgridcolor\": \"white\", \"startlinecolor\": \"#2a3f5f\"}, \"type\": \"carpet\"}], \"choropleth\": [{\"colorbar\": {\"outlinewidth\": 0, \"ticks\": \"\"}, \"type\": \"choropleth\"}], \"contour\": [{\"colorbar\": {\"outlinewidth\": 0, \"ticks\": \"\"}, \"colorscale\": [[0.0, \"#0d0887\"], [0.1111111111111111, \"#46039f\"], [0.2222222222222222, \"#7201a8\"], [0.3333333333333333, \"#9c179e\"], [0.4444444444444444, \"#bd3786\"], [0.5555555555555556, \"#d8576b\"], [0.6666666666666666, \"#ed7953\"], [0.7777777777777778, \"#fb9f3a\"], [0.8888888888888888, \"#fdca26\"], [1.0, \"#f0f921\"]], \"type\": \"contour\"}], \"contourcarpet\": [{\"colorbar\": {\"outlinewidth\": 0, \"ticks\": \"\"}, \"type\": \"contourcarpet\"}], \"heatmap\": [{\"colorbar\": {\"outlinewidth\": 0, \"ticks\": \"\"}, \"colorscale\": [[0.0, \"#0d0887\"], [0.1111111111111111, \"#46039f\"], [0.2222222222222222, \"#7201a8\"], [0.3333333333333333, \"#9c179e\"], [0.4444444444444444, \"#bd3786\"], [0.5555555555555556, \"#d8576b\"], [0.6666666666666666, \"#ed7953\"], [0.7777777777777778, \"#fb9f3a\"], [0.8888888888888888, \"#fdca26\"], [1.0, \"#f0f921\"]], \"type\": \"heatmap\"}], \"heatmapgl\": [{\"colorbar\": {\"outlinewidth\": 0, \"ticks\": \"\"}, \"colorscale\": [[0.0, \"#0d0887\"], [0.1111111111111111, \"#46039f\"], [0.2222222222222222, \"#7201a8\"], [0.3333333333333333, \"#9c179e\"], [0.4444444444444444, \"#bd3786\"], [0.5555555555555556, \"#d8576b\"], [0.6666666666666666, \"#ed7953\"], [0.7777777777777778, \"#fb9f3a\"], [0.8888888888888888, \"#fdca26\"], [1.0, \"#f0f921\"]], \"type\": \"heatmapgl\"}], \"histogram\": [{\"marker\": {\"colorbar\": {\"outlinewidth\": 0, \"ticks\": \"\"}}, \"type\": \"histogram\"}], \"histogram2d\": [{\"colorbar\": {\"outlinewidth\": 0, \"ticks\": \"\"}, \"colorscale\": [[0.0, \"#0d0887\"], [0.1111111111111111, \"#46039f\"], [0.2222222222222222, \"#7201a8\"], [0.3333333333333333, \"#9c179e\"], [0.4444444444444444, \"#bd3786\"], [0.5555555555555556, \"#d8576b\"], [0.6666666666666666, \"#ed7953\"], [0.7777777777777778, \"#fb9f3a\"], [0.8888888888888888, \"#fdca26\"], [1.0, \"#f0f921\"]], \"type\": \"histogram2d\"}], \"histogram2dcontour\": [{\"colorbar\": {\"outlinewidth\": 0, \"ticks\": \"\"}, \"colorscale\": [[0.0, \"#0d0887\"], [0.1111111111111111, \"#46039f\"], [0.2222222222222222, \"#7201a8\"], [0.3333333333333333, \"#9c179e\"], [0.4444444444444444, \"#bd3786\"], [0.5555555555555556, \"#d8576b\"], [0.6666666666666666, \"#ed7953\"], [0.7777777777777778, \"#fb9f3a\"], [0.8888888888888888, \"#fdca26\"], [1.0, \"#f0f921\"]], \"type\": \"histogram2dcontour\"}], \"mesh3d\": [{\"colorbar\": {\"outlinewidth\": 0, \"ticks\": \"\"}, \"type\": \"mesh3d\"}], \"parcoords\": [{\"line\": {\"colorbar\": {\"outlinewidth\": 0, \"ticks\": \"\"}}, \"type\": \"parcoords\"}], \"pie\": [{\"automargin\": true, \"type\": \"pie\"}], \"scatter\": [{\"marker\": {\"colorbar\": {\"outlinewidth\": 0, \"ticks\": \"\"}}, \"type\": \"scatter\"}], \"scatter3d\": [{\"line\": {\"colorbar\": {\"outlinewidth\": 0, \"ticks\": \"\"}}, \"marker\": {\"colorbar\": {\"outlinewidth\": 0, \"ticks\": \"\"}}, \"type\": \"scatter3d\"}], \"scattercarpet\": [{\"marker\": {\"colorbar\": {\"outlinewidth\": 0, \"ticks\": \"\"}}, \"type\": \"scattercarpet\"}], \"scattergeo\": [{\"marker\": {\"colorbar\": {\"outlinewidth\": 0, \"ticks\": \"\"}}, \"type\": \"scattergeo\"}], \"scattergl\": [{\"marker\": {\"colorbar\": {\"outlinewidth\": 0, \"ticks\": \"\"}}, \"type\": \"scattergl\"}], \"scattermapbox\": [{\"marker\": {\"colorbar\": {\"outlinewidth\": 0, \"ticks\": \"\"}}, \"type\": \"scattermapbox\"}], \"scatterpolar\": [{\"marker\": {\"colorbar\": {\"outlinewidth\": 0, \"ticks\": \"\"}}, \"type\": \"scatterpolar\"}], \"scatterpolargl\": [{\"marker\": {\"colorbar\": {\"outlinewidth\": 0, \"ticks\": \"\"}}, \"type\": \"scatterpolargl\"}], \"scatterternary\": [{\"marker\": {\"colorbar\": {\"outlinewidth\": 0, \"ticks\": \"\"}}, \"type\": \"scatterternary\"}], \"surface\": [{\"colorbar\": {\"outlinewidth\": 0, \"ticks\": \"\"}, \"colorscale\": [[0.0, \"#0d0887\"], [0.1111111111111111, \"#46039f\"], [0.2222222222222222, \"#7201a8\"], [0.3333333333333333, \"#9c179e\"], [0.4444444444444444, \"#bd3786\"], [0.5555555555555556, \"#d8576b\"], [0.6666666666666666, \"#ed7953\"], [0.7777777777777778, \"#fb9f3a\"], [0.8888888888888888, \"#fdca26\"], [1.0, \"#f0f921\"]], \"type\": \"surface\"}], \"table\": [{\"cells\": {\"fill\": {\"color\": \"#EBF0F8\"}, \"line\": {\"color\": \"white\"}}, \"header\": {\"fill\": {\"color\": \"#C8D4E3\"}, \"line\": {\"color\": \"white\"}}, \"type\": \"table\"}]}, \"layout\": {\"annotationdefaults\": {\"arrowcolor\": \"#2a3f5f\", \"arrowhead\": 0, \"arrowwidth\": 1}, \"coloraxis\": {\"colorbar\": {\"outlinewidth\": 0, \"ticks\": \"\"}}, \"colorscale\": {\"diverging\": [[0, \"#8e0152\"], [0.1, \"#c51b7d\"], [0.2, \"#de77ae\"], [0.3, \"#f1b6da\"], [0.4, \"#fde0ef\"], [0.5, \"#f7f7f7\"], [0.6, \"#e6f5d0\"], [0.7, \"#b8e186\"], [0.8, \"#7fbc41\"], [0.9, \"#4d9221\"], [1, \"#276419\"]], \"sequential\": [[0.0, \"#0d0887\"], [0.1111111111111111, \"#46039f\"], [0.2222222222222222, \"#7201a8\"], [0.3333333333333333, \"#9c179e\"], [0.4444444444444444, \"#bd3786\"], [0.5555555555555556, \"#d8576b\"], [0.6666666666666666, \"#ed7953\"], [0.7777777777777778, \"#fb9f3a\"], [0.8888888888888888, \"#fdca26\"], [1.0, \"#f0f921\"]], \"sequentialminus\": [[0.0, \"#0d0887\"], [0.1111111111111111, \"#46039f\"], [0.2222222222222222, \"#7201a8\"], [0.3333333333333333, \"#9c179e\"], [0.4444444444444444, \"#bd3786\"], [0.5555555555555556, \"#d8576b\"], [0.6666666666666666, \"#ed7953\"], [0.7777777777777778, \"#fb9f3a\"], [0.8888888888888888, \"#fdca26\"], [1.0, \"#f0f921\"]]}, \"colorway\": [\"#636efa\", \"#EF553B\", \"#00cc96\", \"#ab63fa\", \"#FFA15A\", \"#19d3f3\", \"#FF6692\", \"#B6E880\", \"#FF97FF\", \"#FECB52\"], \"font\": {\"color\": \"#2a3f5f\"}, \"geo\": {\"bgcolor\": \"white\", \"lakecolor\": \"white\", \"landcolor\": \"#E5ECF6\", \"showlakes\": true, \"showland\": true, \"subunitcolor\": \"white\"}, \"hoverlabel\": {\"align\": \"left\"}, \"hovermode\": \"closest\", \"mapbox\": {\"style\": \"light\"}, \"paper_bgcolor\": \"white\", \"plot_bgcolor\": \"#E5ECF6\", \"polar\": {\"angularaxis\": {\"gridcolor\": \"white\", \"linecolor\": \"white\", \"ticks\": \"\"}, \"bgcolor\": \"#E5ECF6\", \"radialaxis\": {\"gridcolor\": \"white\", \"linecolor\": \"white\", \"ticks\": \"\"}}, \"scene\": {\"xaxis\": {\"backgroundcolor\": \"#E5ECF6\", \"gridcolor\": \"white\", \"gridwidth\": 2, \"linecolor\": \"white\", \"showbackground\": true, \"ticks\": \"\", \"zerolinecolor\": \"white\"}, \"yaxis\": {\"backgroundcolor\": \"#E5ECF6\", \"gridcolor\": \"white\", \"gridwidth\": 2, \"linecolor\": \"white\", \"showbackground\": true, \"ticks\": \"\", \"zerolinecolor\": \"white\"}, \"zaxis\": {\"backgroundcolor\": \"#E5ECF6\", \"gridcolor\": \"white\", \"gridwidth\": 2, \"linecolor\": \"white\", \"showbackground\": true, \"ticks\": \"\", \"zerolinecolor\": \"white\"}}, \"shapedefaults\": {\"line\": {\"color\": \"#2a3f5f\"}}, \"ternary\": {\"aaxis\": {\"gridcolor\": \"white\", \"linecolor\": \"white\", \"ticks\": \"\"}, \"baxis\": {\"gridcolor\": \"white\", \"linecolor\": \"white\", \"ticks\": \"\"}, \"bgcolor\": \"#E5ECF6\", \"caxis\": {\"gridcolor\": \"white\", \"linecolor\": \"white\", \"ticks\": \"\"}}, \"title\": {\"x\": 0.05}, \"xaxis\": {\"automargin\": true, \"gridcolor\": \"white\", \"linecolor\": \"white\", \"ticks\": \"\", \"title\": {\"standoff\": 15}, \"zerolinecolor\": \"white\", \"zerolinewidth\": 2}, \"yaxis\": {\"automargin\": true, \"gridcolor\": \"white\", \"linecolor\": \"white\", \"ticks\": \"\", \"title\": {\"standoff\": 15}, \"zerolinecolor\": \"white\", \"zerolinewidth\": 2}}}},\n",
       "                        {\"responsive\": true}\n",
       "                    ).then(function(){\n",
       "                            \n",
       "var gd = document.getElementById('3409df60-2947-4895-be1d-5a405d9c22fe');\n",
       "var x = new MutationObserver(function (mutations, observer) {{\n",
       "        var display = window.getComputedStyle(gd).display;\n",
       "        if (!display || display === 'none') {{\n",
       "            console.log([gd, 'removed!']);\n",
       "            Plotly.purge(gd);\n",
       "            observer.disconnect();\n",
       "        }}\n",
       "}});\n",
       "\n",
       "// Listen for the removal of the full notebook cells\n",
       "var notebookContainer = gd.closest('#notebook-container');\n",
       "if (notebookContainer) {{\n",
       "    x.observe(notebookContainer, {childList: true});\n",
       "}}\n",
       "\n",
       "// Listen for the clearing of the current output cell\n",
       "var outputEl = gd.closest('.output');\n",
       "if (outputEl) {{\n",
       "    x.observe(outputEl, {childList: true});\n",
       "}}\n",
       "\n",
       "                        })\n",
       "                };\n",
       "                });\n",
       "            </script>\n",
       "        </div>"
      ]
     },
     "metadata": {},
     "output_type": "display_data"
    }
   ],
   "source": [
    "fig = px.scatter_mapbox(df_consolidate, lat=\"one_center_lat\", lon=\"one_center_lon\", hover_name=\"origin_zip\", hover_data=[\"weightlbs_sum\", \"total_cost_sum\"],\n",
    "                        color_discrete_sequence=[\"fuchsia\"], zoom=3, height=1200)\n",
    "fig.update_layout(mapbox_style=\"open-street-map\")\n",
    "fig.update_layout(margin={\"r\":0,\"t\":0,\"l\":0,\"b\":0})\n",
    "fig.show()"
   ]
  },
  {
   "cell_type": "code",
   "execution_count": 105,
   "metadata": {},
   "outputs": [],
   "source": [
    "df_ports = pd.DataFrame(port_city_candidates).T"
   ]
  },
  {
   "cell_type": "code",
   "execution_count": 106,
   "metadata": {},
   "outputs": [],
   "source": [
    "df_ports.columns = ['port_lat', 'port_lon', 'teq_volume']"
   ]
  },
  {
   "cell_type": "code",
   "execution_count": 43,
   "metadata": {},
   "outputs": [],
   "source": [
    "df_ports.to_csv(os.path.join(output_path, 'port_info.csv'))"
   ]
  },
  {
   "cell_type": "code",
   "execution_count": 44,
   "metadata": {},
   "outputs": [
    {
     "data": {
      "text/html": [
       "<div>\n",
       "<style scoped>\n",
       "    .dataframe tbody tr th:only-of-type {\n",
       "        vertical-align: middle;\n",
       "    }\n",
       "\n",
       "    .dataframe tbody tr th {\n",
       "        vertical-align: top;\n",
       "    }\n",
       "\n",
       "    .dataframe thead th {\n",
       "        text-align: right;\n",
       "    }\n",
       "</style>\n",
       "<table border=\"1\" class=\"dataframe\">\n",
       "  <thead>\n",
       "    <tr style=\"text-align: right;\">\n",
       "      <th></th>\n",
       "      <th>port_lat</th>\n",
       "      <th>port_lon</th>\n",
       "      <th>teq_volume</th>\n",
       "    </tr>\n",
       "  </thead>\n",
       "  <tbody>\n",
       "    <tr>\n",
       "      <th>Savannah</th>\n",
       "      <td>32.0809</td>\n",
       "      <td>-81.0912</td>\n",
       "      <td>2223.0</td>\n",
       "    </tr>\n",
       "  </tbody>\n",
       "</table>\n",
       "</div>"
      ],
      "text/plain": [
       "          port_lat  port_lon  teq_volume\n",
       "Savannah   32.0809  -81.0912      2223.0"
      ]
     },
     "execution_count": 44,
     "metadata": {},
     "output_type": "execute_result"
    }
   ],
   "source": [
    "df_ports"
   ]
  },
  {
   "cell_type": "code",
   "execution_count": null,
   "metadata": {},
   "outputs": [],
   "source": []
  }
 ],
 "metadata": {
  "kernelspec": {
   "display_name": "Python 3",
   "language": "python",
   "name": "python3"
  },
  "language_info": {
   "codemirror_mode": {
    "name": "ipython",
    "version": 3
   },
   "file_extension": ".py",
   "mimetype": "text/x-python",
   "name": "python",
   "nbconvert_exporter": "python",
   "pygments_lexer": "ipython3",
   "version": "3.7.6"
  }
 },
 "nbformat": 4,
 "nbformat_minor": 4
}
